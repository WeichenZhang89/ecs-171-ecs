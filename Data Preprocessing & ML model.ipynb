{
 "cells": [
  {
   "cell_type": "markdown",
   "metadata": {},
   "source": [
    "## Import Packages"
   ]
  },
  {
   "cell_type": "code",
   "execution_count": 14,
   "metadata": {
    "ExecuteTime": {
     "end_time": "2023-08-31T01:05:53.888815900Z",
     "start_time": "2023-08-31T01:05:53.825818200Z"
    }
   },
   "outputs": [],
   "source": [
    "import tensorflow as tf\n",
    "import pandas as pd\n",
    "from sklearn.ensemble import IsolationForest, RandomForestClassifier\n",
    "from sklearn.preprocessing import OneHotEncoder\n",
    "from sklearn.svm import SVC\n",
    "from sklearn.model_selection import train_test_split\n",
    "from sklearn.metrics import classification_report, accuracy_score\n",
    "from sklearn.preprocessing import PolynomialFeatures\n",
    "from sklearn.linear_model import LinearRegression\n",
    "from sklearn.pipeline import make_pipeline\n"
   ]
  },
  {
   "cell_type": "markdown",
   "metadata": {},
   "source": [
    "## Read File"
   ]
  },
  {
   "cell_type": "code",
   "execution_count": 15,
   "metadata": {
    "ExecuteTime": {
     "end_time": "2023-08-31T01:05:54.070816300Z",
     "start_time": "2023-08-31T01:05:53.842816600Z"
    }
   },
   "outputs": [],
   "source": [
    "data = pd.read_csv('OnlineNewsPopularity.csv')\n",
    "data.columns = [col.strip() for col in data.columns]\n"
   ]
  },
  {
   "cell_type": "markdown",
   "metadata": {},
   "source": [
    "## Create isolation forest model to remove outliers\n",
    "[API Link to IF](https://scikit-learn.org/stable/modules/generated/sklearn.ensemble.IsolationForest.html#sklearn.ensemble.IsolationForest)"
   ]
  },
  {
   "cell_type": "code",
   "execution_count": 16,
   "metadata": {
    "ExecuteTime": {
     "end_time": "2023-08-31T01:05:54.491814900Z",
     "start_time": "2023-08-31T01:05:54.072816400Z"
    }
   },
   "outputs": [
    {
     "name": "stdout",
     "output_type": "stream",
     "text": [
      "There are total 3965 rows been removied.\n"
     ]
    }
   ],
   "source": [
    "old_data_length = len(data)\n",
    "IF_model = IsolationForest(contamination=0.1) # Remove 10% data\n",
    "outliers = IF_model.fit_predict(data.drop(columns=['url', 'timedelta', 'shares'])) # Delete columns than don't need in IF and train IF model\n",
    "data['outliers'] = outliers\n",
    "\n",
    "# Remove outliers\n",
    "data_outliers = data[data['outliers'] == -1]\n",
    "new_data = data[data['outliers'] != -1].drop(columns = ['outliers'])\n",
    "\n",
    "new_data_len = len(new_data)\n",
    "\n",
    "print(f\"There are total {old_data_length - new_data_len} rows been removied.\")\n"
   ]
  },
  {
   "cell_type": "markdown",
   "metadata": {},
   "source": [
    "## Creat a function to classify an article to different categories\n",
    "* Great Article: Shares >= 90%\n",
    "* Good Article: 70% <= Shares < 90%\n",
    "* Normal Article: 30% <= Shares < 70%\n",
    "* Bad article: Shares < 30%"
   ]
  },
  {
   "cell_type": "code",
   "execution_count": 17,
   "metadata": {
    "ExecuteTime": {
     "end_time": "2023-08-31T01:05:54.528815600Z",
     "start_time": "2023-08-31T01:05:54.487816400Z"
    }
   },
   "outputs": [],
   "source": [
    "def article_classifier(shares, top_percent):\n",
    "    if shares >= top_percent[0.9]:\n",
    "        return 'Great'\n",
    "    elif shares >= top_percent[0.7]:\n",
    "        return 'Good'\n",
    "    elif shares >= top_percent[0.3]:\n",
    "        return 'Normal'\n",
    "    else:\n",
    "        return 'Bad'\n",
    "        "
   ]
  },
  {
   "cell_type": "markdown",
   "metadata": {},
   "source": [
    "## Data Classifier"
   ]
  },
  {
   "cell_type": "code",
   "execution_count": 18,
   "metadata": {
    "ExecuteTime": {
     "end_time": "2023-08-31T01:05:56.068535900Z",
     "start_time": "2023-08-31T01:05:54.501816500Z"
    }
   },
   "outputs": [],
   "source": [
    "top_percent = new_data['shares'].quantile([0.3, 0.7, 0.9])\n",
    "\n",
    "quality = []\n",
    "for index, row in new_data.iterrows():\n",
    "    quality.append(article_classifier(row['shares'], top_percent))\n",
    "\n",
    "new_data['quality'] = quality\n"
   ]
  },
  {
   "cell_type": "markdown",
   "metadata": {},
   "source": [
    "## Split dataset into x and y and one-hot encode quality column"
   ]
  },
  {
   "cell_type": "code",
   "execution_count": 19,
   "metadata": {
    "ExecuteTime": {
     "end_time": "2023-08-31T01:05:56.097536300Z",
     "start_time": "2023-08-31T01:05:56.072535300Z"
    }
   },
   "outputs": [],
   "source": [
    "x = new_data.drop(columns=['quality', 'url', 'timedelta', 'shares'], axis=1)\n",
    "y = OneHotEncoder().fit_transform(new_data[['quality']]).toarray()\n"
   ]
  },
  {
   "cell_type": "markdown",
   "metadata": {},
   "source": [
    "## Train test split"
   ]
  },
  {
   "cell_type": "code",
   "execution_count": 20,
   "metadata": {
    "ExecuteTime": {
     "end_time": "2023-08-31T01:05:56.128535900Z",
     "start_time": "2023-08-31T01:05:56.098537Z"
    }
   },
   "outputs": [],
   "source": [
    "\n",
    "xTrain, xTest, yTrain, yTest = train_test_split(x, y, test_size=0.2, random_state=10)\n"
   ]
  },
  {
   "cell_type": "markdown",
   "metadata": {},
   "source": [
    "## Scale the data to Improve the speed of training SVM Linear Model"
   ]
  },
  {
   "cell_type": "code",
   "execution_count": 21,
   "metadata": {
    "ExecuteTime": {
     "end_time": "2023-08-31T01:05:56.161544400Z",
     "start_time": "2023-08-31T01:05:56.130535900Z"
    }
   },
   "outputs": [],
   "source": [
    "from sklearn.preprocessing import StandardScaler\n",
    "standard_scaler = StandardScaler()\n",
    "scale_xTrain = standard_scaler.fit_transform(xTrain)\n",
    "scale_xTest = standard_scaler.transform(xTest)"
   ]
  },
  {
   "cell_type": "markdown",
   "source": [
    "## Create and train model(NN)"
   ],
   "metadata": {
    "collapsed": false
   }
  },
  {
   "cell_type": "code",
   "execution_count": 22,
   "outputs": [
    {
     "name": "stdout",
     "output_type": "stream",
     "text": [
      "Epoch 1/10\n",
      "892/892 [==============================] - 3s 3ms/step - loss: 1.2188 - accuracy: 0.4241\n",
      "Epoch 2/10\n",
      "892/892 [==============================] - 3s 3ms/step - loss: 1.1805 - accuracy: 0.4508\n",
      "Epoch 3/10\n",
      "892/892 [==============================] - 3s 3ms/step - loss: 1.1663 - accuracy: 0.4600\n",
      "Epoch 4/10\n",
      "892/892 [==============================] - 3s 3ms/step - loss: 1.1557 - accuracy: 0.4666\n",
      "Epoch 5/10\n",
      "892/892 [==============================] - 3s 3ms/step - loss: 1.1440 - accuracy: 0.4713\n",
      "Epoch 6/10\n",
      "892/892 [==============================] - 3s 3ms/step - loss: 1.1319 - accuracy: 0.4792\n",
      "Epoch 7/10\n",
      "892/892 [==============================] - 3s 3ms/step - loss: 1.1200 - accuracy: 0.4874\n",
      "Epoch 8/10\n",
      "892/892 [==============================] - 3s 3ms/step - loss: 1.1072 - accuracy: 0.4952\n",
      "Epoch 9/10\n",
      "892/892 [==============================] - 3s 3ms/step - loss: 1.0922 - accuracy: 0.5043\n",
      "Epoch 10/10\n",
      "892/892 [==============================] - 3s 3ms/step - loss: 1.0796 - accuracy: 0.5129\n"
     ]
    },
    {
     "data": {
      "text/plain": "<keras.callbacks.History at 0x18ba0cd7670>"
     },
     "execution_count": 22,
     "metadata": {},
     "output_type": "execute_result"
    }
   ],
   "source": [
    "nn_model = tf.keras.models.Sequential([\n",
    "    tf.keras.layers.Dense(128, activation='relu', input_shape=(scale_xTrain.shape[1],)),\n",
    "    tf.keras.layers.Dense(64, activation='relu'),\n",
    "    tf.keras.layers.Dense(32, activation='relu'),\n",
    "    tf.keras.layers.Dense(4, activation='softmax')\n",
    "])\n",
    "\n",
    "nn_model.compile(optimizer='adam', loss='categorical_crossentropy', metrics=['accuracy'])\n",
    "nn_model.fit(\n",
    "    scale_xTrain,\n",
    "    yTrain,\n",
    "    epochs=10\n",
    ")"
   ],
   "metadata": {
    "collapsed": false,
    "ExecuteTime": {
     "end_time": "2023-08-31T01:06:24.759097300Z",
     "start_time": "2023-08-31T01:05:56.162545500Z"
    }
   }
  },
  {
   "cell_type": "markdown",
   "metadata": {},
   "source": [
    "## Create and train model(Random Forest)"
   ]
  },
  {
   "cell_type": "code",
   "execution_count": 23,
   "metadata": {
    "ExecuteTime": {
     "end_time": "2023-08-31T01:06:41.546106200Z",
     "start_time": "2023-08-31T01:06:24.757451Z"
    }
   },
   "outputs": [
    {
     "data": {
      "text/plain": "RandomForestClassifier()",
      "text/html": "<style>#sk-container-id-1 {color: black;}#sk-container-id-1 pre{padding: 0;}#sk-container-id-1 div.sk-toggleable {background-color: white;}#sk-container-id-1 label.sk-toggleable__label {cursor: pointer;display: block;width: 100%;margin-bottom: 0;padding: 0.3em;box-sizing: border-box;text-align: center;}#sk-container-id-1 label.sk-toggleable__label-arrow:before {content: \"▸\";float: left;margin-right: 0.25em;color: #696969;}#sk-container-id-1 label.sk-toggleable__label-arrow:hover:before {color: black;}#sk-container-id-1 div.sk-estimator:hover label.sk-toggleable__label-arrow:before {color: black;}#sk-container-id-1 div.sk-toggleable__content {max-height: 0;max-width: 0;overflow: hidden;text-align: left;background-color: #f0f8ff;}#sk-container-id-1 div.sk-toggleable__content pre {margin: 0.2em;color: black;border-radius: 0.25em;background-color: #f0f8ff;}#sk-container-id-1 input.sk-toggleable__control:checked~div.sk-toggleable__content {max-height: 200px;max-width: 100%;overflow: auto;}#sk-container-id-1 input.sk-toggleable__control:checked~label.sk-toggleable__label-arrow:before {content: \"▾\";}#sk-container-id-1 div.sk-estimator input.sk-toggleable__control:checked~label.sk-toggleable__label {background-color: #d4ebff;}#sk-container-id-1 div.sk-label input.sk-toggleable__control:checked~label.sk-toggleable__label {background-color: #d4ebff;}#sk-container-id-1 input.sk-hidden--visually {border: 0;clip: rect(1px 1px 1px 1px);clip: rect(1px, 1px, 1px, 1px);height: 1px;margin: -1px;overflow: hidden;padding: 0;position: absolute;width: 1px;}#sk-container-id-1 div.sk-estimator {font-family: monospace;background-color: #f0f8ff;border: 1px dotted black;border-radius: 0.25em;box-sizing: border-box;margin-bottom: 0.5em;}#sk-container-id-1 div.sk-estimator:hover {background-color: #d4ebff;}#sk-container-id-1 div.sk-parallel-item::after {content: \"\";width: 100%;border-bottom: 1px solid gray;flex-grow: 1;}#sk-container-id-1 div.sk-label:hover label.sk-toggleable__label {background-color: #d4ebff;}#sk-container-id-1 div.sk-serial::before {content: \"\";position: absolute;border-left: 1px solid gray;box-sizing: border-box;top: 0;bottom: 0;left: 50%;z-index: 0;}#sk-container-id-1 div.sk-serial {display: flex;flex-direction: column;align-items: center;background-color: white;padding-right: 0.2em;padding-left: 0.2em;position: relative;}#sk-container-id-1 div.sk-item {position: relative;z-index: 1;}#sk-container-id-1 div.sk-parallel {display: flex;align-items: stretch;justify-content: center;background-color: white;position: relative;}#sk-container-id-1 div.sk-item::before, #sk-container-id-1 div.sk-parallel-item::before {content: \"\";position: absolute;border-left: 1px solid gray;box-sizing: border-box;top: 0;bottom: 0;left: 50%;z-index: -1;}#sk-container-id-1 div.sk-parallel-item {display: flex;flex-direction: column;z-index: 1;position: relative;background-color: white;}#sk-container-id-1 div.sk-parallel-item:first-child::after {align-self: flex-end;width: 50%;}#sk-container-id-1 div.sk-parallel-item:last-child::after {align-self: flex-start;width: 50%;}#sk-container-id-1 div.sk-parallel-item:only-child::after {width: 0;}#sk-container-id-1 div.sk-dashed-wrapped {border: 1px dashed gray;margin: 0 0.4em 0.5em 0.4em;box-sizing: border-box;padding-bottom: 0.4em;background-color: white;}#sk-container-id-1 div.sk-label label {font-family: monospace;font-weight: bold;display: inline-block;line-height: 1.2em;}#sk-container-id-1 div.sk-label-container {text-align: center;}#sk-container-id-1 div.sk-container {/* jupyter's `normalize.less` sets `[hidden] { display: none; }` but bootstrap.min.css set `[hidden] { display: none !important; }` so we also need the `!important` here to be able to override the default hidden behavior on the sphinx rendered scikit-learn.org. See: https://github.com/scikit-learn/scikit-learn/issues/21755 */display: inline-block !important;position: relative;}#sk-container-id-1 div.sk-text-repr-fallback {display: none;}</style><div id=\"sk-container-id-1\" class=\"sk-top-container\"><div class=\"sk-text-repr-fallback\"><pre>RandomForestClassifier()</pre><b>In a Jupyter environment, please rerun this cell to show the HTML representation or trust the notebook. <br />On GitHub, the HTML representation is unable to render, please try loading this page with nbviewer.org.</b></div><div class=\"sk-container\" hidden><div class=\"sk-item\"><div class=\"sk-estimator sk-toggleable\"><input class=\"sk-toggleable__control sk-hidden--visually\" id=\"sk-estimator-id-1\" type=\"checkbox\" checked><label for=\"sk-estimator-id-1\" class=\"sk-toggleable__label sk-toggleable__label-arrow\">RandomForestClassifier</label><div class=\"sk-toggleable__content\"><pre>RandomForestClassifier()</pre></div></div></div></div></div>"
     },
     "execution_count": 23,
     "metadata": {},
     "output_type": "execute_result"
    }
   ],
   "source": [
    "RF_model = RandomForestClassifier(n_estimators=100)\n",
    "RF_model.fit(scale_xTrain, yTrain.argmax(axis=1))\n"
   ]
  },
  {
   "cell_type": "markdown",
   "source": [
    "## Create and train model(Polynomial Regression)"
   ],
   "metadata": {
    "collapsed": false
   }
  },
  {
   "cell_type": "code",
   "execution_count": null,
   "outputs": [],
   "source": [
    "poly_model = make_pipeline(PolynomialFeatures(3), LinearRegression())\n",
    "poly_model.fit(scale_xTrain, yTrain.argmax(axis=1))"
   ],
   "metadata": {
    "collapsed": false,
    "is_executing": true,
    "ExecuteTime": {
     "start_time": "2023-08-31T01:06:41.547108500Z"
    }
   }
  },
  {
   "cell_type": "markdown",
   "source": [
    "## Create ensemble model"
   ],
   "metadata": {
    "collapsed": false
   }
  },
  {
   "cell_type": "code",
   "execution_count": null,
   "outputs": [],
   "source": [
    "nn_pred = nn_model(scale_xTest)\n",
    "RF_pred = tf.keras.utils.to_categorical(RF_model.predict(scale_xTest), num_classes=4)\n",
    "poly_pred = tf.keras.utils.to_categorical(poly_model.predict(scale_xTest), num_classes=4)\n",
    "\n",
    "poly_pred = tf.keras.utils.to_categorical(poly_pred, num_classes=4)\n",
    "\n",
    "ensemble = (nn_pred + RF_pred + poly_pred) / 3"
   ],
   "metadata": {
    "collapsed": false,
    "is_executing": true
   }
  },
  {
   "cell_type": "markdown",
   "metadata": {},
   "source": [
    "## Model Evaluation"
   ]
  },
  {
   "cell_type": "code",
   "execution_count": null,
   "metadata": {
    "is_executing": true
   },
   "outputs": [],
   "source": [
    "tmp = tf.argmax(ensemble, axis=1).numpy()\n",
    "print(classification_report(yTest.argmax(axis=1), tmp))\n",
    "print(f\"Ensemble Model Accuracy: {accuracy_score(yTest.argmax(axis=1), tmp)}\")"
   ]
  }
 ],
 "metadata": {
  "kernelspec": {
   "display_name": "Python 3 (ipykernel)",
   "language": "python",
   "name": "python3"
  },
  "language_info": {
   "codemirror_mode": {
    "name": "ipython",
    "version": 3
   },
   "file_extension": ".py",
   "mimetype": "text/x-python",
   "name": "python",
   "nbconvert_exporter": "python",
   "pygments_lexer": "ipython3",
   "version": "3.11.4"
  },
  "orig_nbformat": 4
 },
 "nbformat": 4,
 "nbformat_minor": 2
}

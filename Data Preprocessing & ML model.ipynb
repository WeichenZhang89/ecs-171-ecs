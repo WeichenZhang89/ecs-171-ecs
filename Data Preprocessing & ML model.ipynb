{
  "cells": [
    {
      "cell_type": "markdown",
      "metadata": {
        "id": "Z7VHtMsuKdwA"
      },
      "source": [
        "## Import Packages"
      ]
    },
    {
      "cell_type": "code",
      "execution_count": 2,
      "metadata": {
        "ExecuteTime": {
          "end_time": "2023-08-31T01:05:53.888815900Z",
          "start_time": "2023-08-31T01:05:53.825818200Z"
        },
        "id": "RpCC49oBKdwC"
      },
      "outputs": [],
      "source": [
        "import tensorflow as tf\n",
        "import numpy as np\n",
        "import pandas as pd\n",
        "from sklearn.ensemble import IsolationForest, RandomForestClassifier\n",
        "from sklearn.preprocessing import OneHotEncoder\n",
        "from sklearn.svm import SVC\n",
        "from sklearn.model_selection import train_test_split\n",
        "from sklearn.metrics import classification_report, accuracy_score\n",
        "from sklearn.preprocessing import PolynomialFeatures\n",
        "from sklearn.linear_model import LinearRegression\n",
        "from sklearn.pipeline import make_pipeline\n",
        "from sklearn.model_selection import StratifiedKFold\n",
        "from sklearn.linear_model import Ridge"
      ]
    },
    {
      "cell_type": "markdown",
      "metadata": {
        "id": "FCyKEtXvKdwD"
      },
      "source": [
        "## Read File"
      ]
    },
    {
      "cell_type": "code",
      "execution_count": 3,
      "metadata": {
        "ExecuteTime": {
          "end_time": "2023-08-31T01:05:54.070816300Z",
          "start_time": "2023-08-31T01:05:53.842816600Z"
        },
        "id": "Z9r3eextKdwD"
      },
      "outputs": [],
      "source": [
        "data = pd.read_csv('OnlineNewsPopularity.csv')\n",
        "data.columns = [col.strip() for col in data.columns]\n"
      ]
    },
    {
      "cell_type": "markdown",
      "metadata": {
        "id": "d2npfPrXKdwE"
      },
      "source": [
        "## Create isolation forest model to remove outliers\n",
        "[API Link to IF](https://scikit-learn.org/stable/modules/generated/sklearn.ensemble.IsolationForest.html#sklearn.ensemble.IsolationForest)"
      ]
    },
    {
      "cell_type": "code",
      "execution_count": 4,
      "metadata": {
        "ExecuteTime": {
          "end_time": "2023-08-31T01:05:54.491814900Z",
          "start_time": "2023-08-31T01:05:54.072816400Z"
        },
        "colab": {
          "base_uri": "https://localhost:8080/"
        },
        "id": "EnwNkiBeKdwE",
        "outputId": "9271d53c-bf77-41a7-8d40-dac7cfa6d05a"
      },
      "outputs": [
        {
          "name": "stderr",
          "output_type": "stream",
          "text": [
            "/Users/will./anaconda3/lib/python3.11/site-packages/sklearn/base.py:450: UserWarning: X does not have valid feature names, but IsolationForest was fitted with feature names\n",
            "  warnings.warn(\n"
          ]
        },
        {
          "name": "stdout",
          "output_type": "stream",
          "text": [
            "There are total 3965 rows been removied.\n"
          ]
        }
      ],
      "source": [
        "old_data_length = len(data)\n",
        "IF_model = IsolationForest(contamination=0.1) # Remove 10% data\n",
        "outliers = IF_model.fit_predict(data.drop(columns=['url', 'timedelta', 'shares'])) # Delete columns than don't need in IF and train IF model\n",
        "data['outliers'] = outliers\n",
        "\n",
        "# Remove outliers\n",
        "data_outliers = data[data['outliers'] == -1]\n",
        "new_data = data[data['outliers'] != -1].drop(columns = ['outliers'])\n",
        "\n",
        "new_data_len = len(new_data)\n",
        "\n",
        "print(f\"There are total {old_data_length - new_data_len} rows been removied.\")\n"
      ]
    },
    {
      "cell_type": "markdown",
      "metadata": {
        "id": "bQKxyaYjKdwF"
      },
      "source": [
        "## Creat a function to classify an article to different categories\n",
        "* Great Article: Shares >= 90%\n",
        "* Good Article: 70% <= Shares < 90%\n",
        "* Normal Article: 30% <= Shares < 70%\n",
        "* Bad article: Shares < 30%"
      ]
    },
    {
      "cell_type": "code",
      "execution_count": 5,
      "metadata": {
        "ExecuteTime": {
          "end_time": "2023-08-31T01:05:54.528815600Z",
          "start_time": "2023-08-31T01:05:54.487816400Z"
        },
        "id": "JKFSlNtjKdwF"
      },
      "outputs": [],
      "source": [
        "def article_classifier(shares, top_percent):\n",
        "    if shares >= top_percent[0.9]:\n",
        "        return 'Great'\n",
        "    elif shares >= top_percent[0.7]:\n",
        "        return 'Good'\n",
        "    elif shares >= top_percent[0.3]:\n",
        "        return 'Normal'\n",
        "    else:\n",
        "        return 'Bad'\n"
      ]
    },
    {
      "cell_type": "markdown",
      "metadata": {
        "id": "PDgcpF80KdwG"
      },
      "source": [
        "## Data Classifier"
      ]
    },
    {
      "cell_type": "code",
      "execution_count": 6,
      "metadata": {
        "ExecuteTime": {
          "end_time": "2023-08-31T01:05:56.068535900Z",
          "start_time": "2023-08-31T01:05:54.501816500Z"
        },
        "id": "0P13StGSKdwG"
      },
      "outputs": [],
      "source": [
        "top_percent = new_data['shares'].quantile([0.3, 0.7, 0.9])\n",
        "\n",
        "quality = []\n",
        "for index, row in new_data.iterrows():\n",
        "    quality.append(article_classifier(row['shares'], top_percent))\n",
        "\n",
        "new_data['quality'] = quality\n"
      ]
    },
    {
      "cell_type": "markdown",
      "metadata": {
        "id": "qHm0twoLKdwG"
      },
      "source": [
        "## Split dataset into x and y and one-hot encode quality column"
      ]
    },
    {
      "cell_type": "code",
      "execution_count": 32,
      "metadata": {
        "ExecuteTime": {
          "end_time": "2023-08-31T01:05:56.097536300Z",
          "start_time": "2023-08-31T01:05:56.072535300Z"
        },
        "id": "CZXqhVDOKdwG"
      },
      "outputs": [],
      "source": [
        "x = new_data.drop(columns=['quality', 'url', 'timedelta', 'shares'], axis=1)\n",
        "y = OneHotEncoder().fit_transform(new_data[['quality']]).toarray()\n"
      ]
    },
    {
      "cell_type": "code",
      "execution_count": 33,
      "metadata": {},
      "outputs": [
        {
          "name": "stdout",
          "output_type": "stream",
          "text": [
            "       n_tokens_title  n_tokens_content  n_unique_tokens  n_non_stop_words  \\\n",
            "0                12.0             219.0         0.663594               1.0   \n",
            "1                 9.0             255.0         0.604743               1.0   \n",
            "2                 9.0             211.0         0.575130               1.0   \n",
            "3                 9.0             531.0         0.503788               1.0   \n",
            "4                13.0            1072.0         0.415646               1.0   \n",
            "...               ...               ...              ...               ...   \n",
            "39639            11.0             346.0         0.529052               1.0   \n",
            "39640            12.0             328.0         0.696296               1.0   \n",
            "39641            10.0             442.0         0.516355               1.0   \n",
            "39642             6.0             682.0         0.539493               1.0   \n",
            "39643            10.0             157.0         0.701987               1.0   \n",
            "\n",
            "       n_non_stop_unique_tokens  num_hrefs  num_self_hrefs  num_imgs  \\\n",
            "0                      0.815385        4.0             2.0       1.0   \n",
            "1                      0.791946        3.0             1.0       1.0   \n",
            "2                      0.663866        3.0             1.0       1.0   \n",
            "3                      0.665635        9.0             0.0       1.0   \n",
            "4                      0.540890       19.0            19.0      20.0   \n",
            "...                         ...        ...             ...       ...   \n",
            "39639                  0.684783        9.0             7.0       1.0   \n",
            "39640                  0.885057        9.0             7.0       3.0   \n",
            "39641                  0.644128       24.0             1.0      12.0   \n",
            "39642                  0.692661       10.0             1.0       1.0   \n",
            "39643                  0.846154        1.0             1.0       0.0   \n",
            "\n",
            "       num_videos  average_token_length  ...  avg_positive_polarity  \\\n",
            "0             0.0              4.680365  ...               0.378636   \n",
            "1             0.0              4.913725  ...               0.286915   \n",
            "2             0.0              4.393365  ...               0.495833   \n",
            "3             0.0              4.404896  ...               0.385965   \n",
            "4             0.0              4.682836  ...               0.411127   \n",
            "...           ...                   ...  ...                    ...   \n",
            "39639         1.0              4.523121  ...               0.333791   \n",
            "39640        48.0              4.405488  ...               0.374825   \n",
            "39641         1.0              5.076923  ...               0.307273   \n",
            "39642         0.0              4.975073  ...               0.236851   \n",
            "39643         2.0              4.471338  ...               0.247338   \n",
            "\n",
            "       min_positive_polarity  max_positive_polarity  avg_negative_polarity  \\\n",
            "0                   0.100000                   0.70              -0.350000   \n",
            "1                   0.033333                   0.70              -0.118750   \n",
            "2                   0.100000                   1.00              -0.466667   \n",
            "3                   0.136364                   0.80              -0.369697   \n",
            "4                   0.033333                   1.00              -0.220192   \n",
            "...                      ...                    ...                    ...   \n",
            "39639               0.100000                   0.75              -0.260000   \n",
            "39640               0.136364                   0.70              -0.211111   \n",
            "39641               0.136364                   0.50              -0.356439   \n",
            "39642               0.062500                   0.50              -0.205246   \n",
            "39643               0.100000                   0.50              -0.200000   \n",
            "\n",
            "       min_negative_polarity  max_negative_polarity  title_subjectivity  \\\n",
            "0                     -0.600              -0.200000            0.500000   \n",
            "1                     -0.125              -0.100000            0.000000   \n",
            "2                     -0.800              -0.133333            0.000000   \n",
            "3                     -0.600              -0.166667            0.000000   \n",
            "4                     -0.500              -0.050000            0.454545   \n",
            "...                      ...                    ...                 ...   \n",
            "39639                 -0.500              -0.125000            0.100000   \n",
            "39640                 -0.400              -0.100000            0.300000   \n",
            "39641                 -0.800              -0.166667            0.454545   \n",
            "39642                 -0.500              -0.012500            0.000000   \n",
            "39643                 -0.200              -0.200000            0.333333   \n",
            "\n",
            "       title_sentiment_polarity  abs_title_subjectivity  \\\n",
            "0                     -0.187500                0.000000   \n",
            "1                      0.000000                0.500000   \n",
            "2                      0.000000                0.500000   \n",
            "3                      0.000000                0.500000   \n",
            "4                      0.136364                0.045455   \n",
            "...                         ...                     ...   \n",
            "39639                  0.000000                0.400000   \n",
            "39640                  1.000000                0.200000   \n",
            "39641                  0.136364                0.045455   \n",
            "39642                  0.000000                0.500000   \n",
            "39643                  0.250000                0.166667   \n",
            "\n",
            "       abs_title_sentiment_polarity  \n",
            "0                          0.187500  \n",
            "1                          0.000000  \n",
            "2                          0.000000  \n",
            "3                          0.000000  \n",
            "4                          0.136364  \n",
            "...                             ...  \n",
            "39639                      0.000000  \n",
            "39640                      1.000000  \n",
            "39641                      0.136364  \n",
            "39642                      0.000000  \n",
            "39643                      0.250000  \n",
            "\n",
            "[35679 rows x 58 columns]\n"
          ]
        }
      ],
      "source": [
        "print(x)"
      ]
    },
    {
      "cell_type": "markdown",
      "metadata": {
        "id": "upbHAo5AKdwG"
      },
      "source": [
        "## Scale the data to Improve the speed of training Model"
      ]
    },
    {
      "cell_type": "code",
      "execution_count": 9,
      "metadata": {
        "colab": {
          "base_uri": "https://localhost:8080/"
        },
        "id": "wUdwB-HwKdwH",
        "outputId": "21f44f3d-7bf9-4e0c-caab-7948c66820c6"
      },
      "outputs": [
        {
          "name": "stdout",
          "output_type": "stream",
          "text": [
            "Requirement already satisfied: matplotlib in /Users/will./anaconda3/lib/python3.11/site-packages (3.7.1)\n",
            "Requirement already satisfied: contourpy>=1.0.1 in /Users/will./anaconda3/lib/python3.11/site-packages (from matplotlib) (1.0.5)\n",
            "Requirement already satisfied: cycler>=0.10 in /Users/will./anaconda3/lib/python3.11/site-packages (from matplotlib) (0.11.0)\n",
            "Requirement already satisfied: fonttools>=4.22.0 in /Users/will./anaconda3/lib/python3.11/site-packages (from matplotlib) (4.25.0)\n",
            "Requirement already satisfied: kiwisolver>=1.0.1 in /Users/will./anaconda3/lib/python3.11/site-packages (from matplotlib) (1.4.4)\n",
            "Requirement already satisfied: numpy>=1.20 in /Users/will./anaconda3/lib/python3.11/site-packages (from matplotlib) (1.24.3)\n",
            "Requirement already satisfied: packaging>=20.0 in /Users/will./anaconda3/lib/python3.11/site-packages (from matplotlib) (23.0)\n",
            "Requirement already satisfied: pillow>=6.2.0 in /Users/will./anaconda3/lib/python3.11/site-packages (from matplotlib) (9.4.0)\n",
            "Requirement already satisfied: pyparsing>=2.3.1 in /Users/will./anaconda3/lib/python3.11/site-packages (from matplotlib) (3.0.9)\n",
            "Requirement already satisfied: python-dateutil>=2.7 in /Users/will./anaconda3/lib/python3.11/site-packages (from matplotlib) (2.8.2)\n",
            "Requirement already satisfied: six>=1.5 in /Users/will./anaconda3/lib/python3.11/site-packages (from python-dateutil>=2.7->matplotlib) (1.16.0)\n"
          ]
        }
      ],
      "source": [
        "!pip install matplotlib"
      ]
    },
    {
      "cell_type": "code",
      "execution_count": 37,
      "metadata": {},
      "outputs": [
        {
          "name": "stdout",
          "output_type": "stream",
          "text": [
            "The column data from X is not normally distributed, so we can only use the minmaxScaler() method.\n"
          ]
        }
      ],
      "source": [
        "from scipy.stats import kstest\n",
        "\n",
        "for col in x.columns:\n",
        "    test = kstest((x[col] - x[col].mean())/ (x[col].std()), 'norm')\n",
        "\n",
        "if (test.pvalue < 0.05):\n",
        "    print(\"The column data from X is not normally distributed, so we can only use the minmaxScaler() method.\")\n",
        "else:\n",
        "    print(\"The column data from X is not normally distributed, so we cannot use the standarization method.\")"
      ]
    },
    {
      "cell_type": "code",
      "execution_count": 39,
      "metadata": {
        "ExecuteTime": {
          "end_time": "2023-08-31T01:05:56.161544400Z",
          "start_time": "2023-08-31T01:05:56.130535900Z"
        },
        "colab": {
          "base_uri": "https://localhost:8080/"
        },
        "id": "ILqpKHg1KdwH",
        "outputId": "9c2f4d10-50ca-40bc-cc04-231b824bcfd7"
      },
      "outputs": [],
      "source": [
        "\n",
        "from sklearn.preprocessing import MinMaxScaler\n",
        "\n",
        "\n",
        "\n",
        "\n",
        "scaler = MinMaxScaler()\n",
        "scaled_X = scaler.fit_transform(x)\n",
        "\n",
        "\n",
        "xTrain, xTest, yTrain, yTest = train_test_split(scaled_X, y, test_size=0.2, random_state=10)\n"
      ]
    },
    {
      "cell_type": "code",
      "execution_count": 40,
      "metadata": {
        "id": "xy4fpedamVdF"
      },
      "outputs": [],
      "source": [
        "\n",
        "import pandas as pd\n",
        "scale_xTrain = pd.DataFrame(xTrain)\n",
        "scale_xTest = pd.DataFrame(xTest)\n"
      ]
    },
    {
      "cell_type": "markdown",
      "metadata": {
        "collapsed": false,
        "id": "YB9HkqenKdwH"
      },
      "source": [
        "## Create and train model(NN)"
      ]
    },
    {
      "cell_type": "code",
      "execution_count": 41,
      "metadata": {
        "ExecuteTime": {
          "end_time": "2023-08-31T01:06:24.759097300Z",
          "start_time": "2023-08-31T01:05:56.162545500Z"
        },
        "colab": {
          "base_uri": "https://localhost:8080/"
        },
        "id": "8_qTKInLKdwH",
        "outputId": "12165bd9-8e6e-4d15-9a9d-7366248658fb"
      },
      "outputs": [
        {
          "name": "stdout",
          "output_type": "stream",
          "text": [
            "INFO:tensorflow:Using MirroredStrategy with devices ('/job:localhost/replica:0/task:0/device:CPU:0',)\n",
            "Epoch 1/10\n",
            " 89/892 [=>............................] - ETA: 0s - loss: 1.2697 - accuracy: 0.4105  "
          ]
        },
        {
          "name": "stderr",
          "output_type": "stream",
          "text": [
            "2023-09-08 17:21:27.103765: W tensorflow/core/framework/dataset.cc:956] Input of GeneratorDatasetOp::Dataset will not be optimized because the dataset does not implement the AsGraphDefInternal() method needed to apply optimizations.\n"
          ]
        },
        {
          "name": "stdout",
          "output_type": "stream",
          "text": [
            "892/892 [==============================] - 1s 593us/step - loss: 1.2237 - accuracy: 0.4302\n",
            "Epoch 2/10\n",
            "892/892 [==============================] - 0s 555us/step - loss: 1.2035 - accuracy: 0.4430\n",
            "Epoch 3/10\n",
            "892/892 [==============================] - 1s 566us/step - loss: 1.1963 - accuracy: 0.4457\n",
            "Epoch 4/10\n",
            "892/892 [==============================] - 0s 555us/step - loss: 1.1902 - accuracy: 0.4466\n",
            "Epoch 5/10\n",
            "892/892 [==============================] - 1s 590us/step - loss: 1.1866 - accuracy: 0.4470\n",
            "Epoch 6/10\n",
            "892/892 [==============================] - 0s 558us/step - loss: 1.1829 - accuracy: 0.4529\n",
            "Epoch 7/10\n",
            "892/892 [==============================] - 0s 553us/step - loss: 1.1785 - accuracy: 0.4538\n",
            "Epoch 8/10\n",
            "892/892 [==============================] - 0s 556us/step - loss: 1.1743 - accuracy: 0.4567\n",
            "Epoch 9/10\n",
            "892/892 [==============================] - 1s 563us/step - loss: 1.1704 - accuracy: 0.4569\n",
            "Epoch 10/10\n",
            "892/892 [==============================] - 0s 548us/step - loss: 1.1667 - accuracy: 0.4601\n",
            "Epoch 1/10\n",
            "892/892 [==============================] - 1s 573us/step - loss: 1.2228 - accuracy: 0.4314\n",
            "Epoch 2/10\n",
            "892/892 [==============================] - 1s 591us/step - loss: 1.2033 - accuracy: 0.4413\n",
            "Epoch 3/10\n",
            "892/892 [==============================] - 1s 574us/step - loss: 1.1947 - accuracy: 0.4457\n",
            "Epoch 4/10\n",
            "892/892 [==============================] - 0s 554us/step - loss: 1.1894 - accuracy: 0.4481\n",
            "Epoch 5/10\n",
            "892/892 [==============================] - 0s 552us/step - loss: 1.1855 - accuracy: 0.4515\n",
            "Epoch 6/10\n",
            "892/892 [==============================] - 1s 563us/step - loss: 1.1798 - accuracy: 0.4526\n",
            "Epoch 7/10\n",
            "892/892 [==============================] - 0s 556us/step - loss: 1.1760 - accuracy: 0.4544\n",
            "Epoch 8/10\n",
            "892/892 [==============================] - 1s 570us/step - loss: 1.1709 - accuracy: 0.4567\n",
            "Epoch 9/10\n",
            "892/892 [==============================] - 0s 551us/step - loss: 1.1687 - accuracy: 0.4599\n",
            "Epoch 10/10\n",
            "892/892 [==============================] - 0s 555us/step - loss: 1.1633 - accuracy: 0.4620\n"
          ]
        }
      ],
      "source": [
        "def build_nn_model(input_shape, num_classes):\n",
        "    model = tf.keras.models.Sequential([\n",
        "        tf.keras.layers.Dense(128, activation='relu', input_shape=input_shape),\n",
        "        tf.keras.layers.Dense(64, activation='relu'),\n",
        "        tf.keras.layers.Dense(32, activation='relu'),\n",
        "        tf.keras.layers.Dense(num_classes, activation='softmax')\n",
        "    ])\n",
        "    model.compile(optimizer='adam', loss='categorical_crossentropy', metrics=['accuracy'])\n",
        "\n",
        "    return model\n",
        "\n",
        "mirror_strategy = tf.distribute.MirroredStrategy()\n",
        "with mirror_strategy.scope():\n",
        "    nn_model1 = build_nn_model(scale_xTrain.shape[1:], yTrain.shape[1])\n",
        "    nn_model2 = build_nn_model(scale_xTrain.shape[1:], yTrain.shape[1])\n",
        "\n",
        "    fit_speed = tf.data.Dataset.from_tensor_slices((scale_xTrain, yTrain))\n",
        "    fit_speed = fit_speed.repeat().batch(100)\n",
        "\n",
        "    nn_model1.fit(scale_xTrain, yTrain, epochs=10)\n",
        "    nn_model2.fit(scale_xTrain, yTrain, epochs=10)"
      ]
    },
    {
      "cell_type": "markdown",
      "metadata": {
        "id": "JbA7nJncKdwH"
      },
      "source": [
        "## Create and train model(Random Forest)"
      ]
    },
    {
      "cell_type": "code",
      "execution_count": 14,
      "metadata": {
        "ExecuteTime": {
          "end_time": "2023-08-31T01:06:41.546106200Z",
          "start_time": "2023-08-31T01:06:24.757451Z"
        },
        "colab": {
          "base_uri": "https://localhost:8080/",
          "height": 74
        },
        "id": "zQeVkgInKdwH",
        "outputId": "7575036a-b21a-4c26-fb52-d06c40794557"
      },
      "outputs": [
        {
          "data": {
            "text/html": [
              "<style>#sk-container-id-1 {color: black;background-color: white;}#sk-container-id-1 pre{padding: 0;}#sk-container-id-1 div.sk-toggleable {background-color: white;}#sk-container-id-1 label.sk-toggleable__label {cursor: pointer;display: block;width: 100%;margin-bottom: 0;padding: 0.3em;box-sizing: border-box;text-align: center;}#sk-container-id-1 label.sk-toggleable__label-arrow:before {content: \"▸\";float: left;margin-right: 0.25em;color: #696969;}#sk-container-id-1 label.sk-toggleable__label-arrow:hover:before {color: black;}#sk-container-id-1 div.sk-estimator:hover label.sk-toggleable__label-arrow:before {color: black;}#sk-container-id-1 div.sk-toggleable__content {max-height: 0;max-width: 0;overflow: hidden;text-align: left;background-color: #f0f8ff;}#sk-container-id-1 div.sk-toggleable__content pre {margin: 0.2em;color: black;border-radius: 0.25em;background-color: #f0f8ff;}#sk-container-id-1 input.sk-toggleable__control:checked~div.sk-toggleable__content {max-height: 200px;max-width: 100%;overflow: auto;}#sk-container-id-1 input.sk-toggleable__control:checked~label.sk-toggleable__label-arrow:before {content: \"▾\";}#sk-container-id-1 div.sk-estimator input.sk-toggleable__control:checked~label.sk-toggleable__label {background-color: #d4ebff;}#sk-container-id-1 div.sk-label input.sk-toggleable__control:checked~label.sk-toggleable__label {background-color: #d4ebff;}#sk-container-id-1 input.sk-hidden--visually {border: 0;clip: rect(1px 1px 1px 1px);clip: rect(1px, 1px, 1px, 1px);height: 1px;margin: -1px;overflow: hidden;padding: 0;position: absolute;width: 1px;}#sk-container-id-1 div.sk-estimator {font-family: monospace;background-color: #f0f8ff;border: 1px dotted black;border-radius: 0.25em;box-sizing: border-box;margin-bottom: 0.5em;}#sk-container-id-1 div.sk-estimator:hover {background-color: #d4ebff;}#sk-container-id-1 div.sk-parallel-item::after {content: \"\";width: 100%;border-bottom: 1px solid gray;flex-grow: 1;}#sk-container-id-1 div.sk-label:hover label.sk-toggleable__label {background-color: #d4ebff;}#sk-container-id-1 div.sk-serial::before {content: \"\";position: absolute;border-left: 1px solid gray;box-sizing: border-box;top: 0;bottom: 0;left: 50%;z-index: 0;}#sk-container-id-1 div.sk-serial {display: flex;flex-direction: column;align-items: center;background-color: white;padding-right: 0.2em;padding-left: 0.2em;position: relative;}#sk-container-id-1 div.sk-item {position: relative;z-index: 1;}#sk-container-id-1 div.sk-parallel {display: flex;align-items: stretch;justify-content: center;background-color: white;position: relative;}#sk-container-id-1 div.sk-item::before, #sk-container-id-1 div.sk-parallel-item::before {content: \"\";position: absolute;border-left: 1px solid gray;box-sizing: border-box;top: 0;bottom: 0;left: 50%;z-index: -1;}#sk-container-id-1 div.sk-parallel-item {display: flex;flex-direction: column;z-index: 1;position: relative;background-color: white;}#sk-container-id-1 div.sk-parallel-item:first-child::after {align-self: flex-end;width: 50%;}#sk-container-id-1 div.sk-parallel-item:last-child::after {align-self: flex-start;width: 50%;}#sk-container-id-1 div.sk-parallel-item:only-child::after {width: 0;}#sk-container-id-1 div.sk-dashed-wrapped {border: 1px dashed gray;margin: 0 0.4em 0.5em 0.4em;box-sizing: border-box;padding-bottom: 0.4em;background-color: white;}#sk-container-id-1 div.sk-label label {font-family: monospace;font-weight: bold;display: inline-block;line-height: 1.2em;}#sk-container-id-1 div.sk-label-container {text-align: center;}#sk-container-id-1 div.sk-container {/* jupyter's `normalize.less` sets `[hidden] { display: none; }` but bootstrap.min.css set `[hidden] { display: none !important; }` so we also need the `!important` here to be able to override the default hidden behavior on the sphinx rendered scikit-learn.org. See: https://github.com/scikit-learn/scikit-learn/issues/21755 */display: inline-block !important;position: relative;}#sk-container-id-1 div.sk-text-repr-fallback {display: none;}</style><div id=\"sk-container-id-1\" class=\"sk-top-container\"><div class=\"sk-text-repr-fallback\"><pre>RandomForestClassifier()</pre><b>In a Jupyter environment, please rerun this cell to show the HTML representation or trust the notebook. <br />On GitHub, the HTML representation is unable to render, please try loading this page with nbviewer.org.</b></div><div class=\"sk-container\" hidden><div class=\"sk-item\"><div class=\"sk-estimator sk-toggleable\"><input class=\"sk-toggleable__control sk-hidden--visually\" id=\"sk-estimator-id-1\" type=\"checkbox\" checked><label for=\"sk-estimator-id-1\" class=\"sk-toggleable__label sk-toggleable__label-arrow\">RandomForestClassifier</label><div class=\"sk-toggleable__content\"><pre>RandomForestClassifier()</pre></div></div></div></div></div>"
            ],
            "text/plain": [
              "RandomForestClassifier()"
            ]
          },
          "execution_count": 14,
          "metadata": {},
          "output_type": "execute_result"
        }
      ],
      "source": [
        "RF_model = RandomForestClassifier(n_estimators=100)\n",
        "RF_model.fit(scale_xTrain, yTrain.argmax(axis=1))\n"
      ]
    },
    {
      "cell_type": "markdown",
      "metadata": {
        "id": "i_B9lBybKdwH"
      },
      "source": [
        "## Make predictions with each model individually (NN and RF)"
      ]
    },
    {
      "cell_type": "code",
      "execution_count": 15,
      "metadata": {
        "colab": {
          "base_uri": "https://localhost:8080/"
        },
        "id": "Jov8ALLxKdwI",
        "outputId": "3ea5b7af-6c7c-4b9e-8402-f7a87839c94a"
      },
      "outputs": [
        {
          "name": "stdout",
          "output_type": "stream",
          "text": [
            "892/892 [==============================] - 0s 375us/step\n",
            "892/892 [==============================] - 0s 282us/step\n",
            "223/223 [==============================] - 0s 343us/step\n",
            "223/223 [==============================] - 0s 336us/step\n",
            "Shape:\n",
            "nn1_train_pred: (28543, 4)\n",
            "nn2_train_pred: (28543, 4)\n",
            "RF_train_pred: (28543, 4)\n",
            "Labels:\n",
            "nn1_train_pred: [0 3 0 ... 0 3 3]\n",
            "nn2_train_pred: [0 3 0 ... 0 3 3]\n",
            "RF_train_pred: [0 0 3 ... 0 0 3]\n",
            "nn1_test_pred: [0 3 3 ... 0 3 3]\n",
            "nn2_test_pred: [3 1 3 ... 0 3 3]\n",
            "RF_test_pred: [3 3 3 ... 0 3 3]\n",
            "\n"
          ]
        }
      ],
      "source": [
        "nn1_train_pred = nn_model1.predict(scale_xTrain)\n",
        "nn2_train_pred = nn_model2.predict(scale_xTrain)\n",
        "RF_train_pred = RF_model.predict_proba(scale_xTrain)\n",
        "\n",
        "nn1_test_pred = nn_model1.predict(scale_xTest)\n",
        "nn2_test_pred = nn_model2.predict(scale_xTest)\n",
        "RF_test_pred = RF_model.predict_proba(scale_xTest)\n",
        "\n",
        "print(\"Shape:\")\n",
        "print(\"nn1_train_pred:\", nn1_train_pred.shape)\n",
        "print(\"nn2_train_pred:\", nn2_train_pred.shape)\n",
        "print(\"RF_train_pred:\", RF_train_pred.shape)\n",
        "\n",
        "nn1_train_labels = nn1_train_pred.argmax(axis=1)\n",
        "nn2_train_labels = nn2_train_pred.argmax(axis=1)\n",
        "RF_train_labels = RF_train_pred.argmax(axis=1)\n",
        "\n",
        "nn1_test_labels = nn1_test_pred.argmax(axis=1)\n",
        "nn2_test_labels = nn2_test_pred.argmax(axis=1)\n",
        "RF_test_labels = RF_test_pred.argmax(axis=1)\n",
        "\n",
        "print(\"Labels:\")\n",
        "print(\"nn1_train_pred:\", nn1_train_labels)\n",
        "print(\"nn2_train_pred:\", nn2_train_labels)\n",
        "print(\"RF_train_pred:\", RF_train_labels)\n",
        "print(\"nn1_test_pred:\", nn1_test_labels)\n",
        "print(\"nn2_test_pred:\", nn2_test_labels)\n",
        "print(\"RF_test_pred:\", RF_test_labels)\n",
        "print()"
      ]
    },
    {
      "cell_type": "markdown",
      "metadata": {
        "id": "M8N6QCbHKdwI"
      },
      "source": [
        "## Simple Ensemble: 3 linear models"
      ]
    },
    {
      "cell_type": "markdown",
      "metadata": {
        "id": "nvfQHQNLKdwI"
      },
      "source": [
        "## Train the 3 linear models"
      ]
    },
    {
      "cell_type": "code",
      "execution_count": 16,
      "metadata": {
        "colab": {
          "base_uri": "https://localhost:8080/",
          "height": 74
        },
        "id": "tZiZJwW5KdwI",
        "outputId": "d389a818-fc57-4079-cbea-e2f6176283d5"
      },
      "outputs": [
        {
          "data": {
            "text/html": [
              "<style>#sk-container-id-2 {color: black;background-color: white;}#sk-container-id-2 pre{padding: 0;}#sk-container-id-2 div.sk-toggleable {background-color: white;}#sk-container-id-2 label.sk-toggleable__label {cursor: pointer;display: block;width: 100%;margin-bottom: 0;padding: 0.3em;box-sizing: border-box;text-align: center;}#sk-container-id-2 label.sk-toggleable__label-arrow:before {content: \"▸\";float: left;margin-right: 0.25em;color: #696969;}#sk-container-id-2 label.sk-toggleable__label-arrow:hover:before {color: black;}#sk-container-id-2 div.sk-estimator:hover label.sk-toggleable__label-arrow:before {color: black;}#sk-container-id-2 div.sk-toggleable__content {max-height: 0;max-width: 0;overflow: hidden;text-align: left;background-color: #f0f8ff;}#sk-container-id-2 div.sk-toggleable__content pre {margin: 0.2em;color: black;border-radius: 0.25em;background-color: #f0f8ff;}#sk-container-id-2 input.sk-toggleable__control:checked~div.sk-toggleable__content {max-height: 200px;max-width: 100%;overflow: auto;}#sk-container-id-2 input.sk-toggleable__control:checked~label.sk-toggleable__label-arrow:before {content: \"▾\";}#sk-container-id-2 div.sk-estimator input.sk-toggleable__control:checked~label.sk-toggleable__label {background-color: #d4ebff;}#sk-container-id-2 div.sk-label input.sk-toggleable__control:checked~label.sk-toggleable__label {background-color: #d4ebff;}#sk-container-id-2 input.sk-hidden--visually {border: 0;clip: rect(1px 1px 1px 1px);clip: rect(1px, 1px, 1px, 1px);height: 1px;margin: -1px;overflow: hidden;padding: 0;position: absolute;width: 1px;}#sk-container-id-2 div.sk-estimator {font-family: monospace;background-color: #f0f8ff;border: 1px dotted black;border-radius: 0.25em;box-sizing: border-box;margin-bottom: 0.5em;}#sk-container-id-2 div.sk-estimator:hover {background-color: #d4ebff;}#sk-container-id-2 div.sk-parallel-item::after {content: \"\";width: 100%;border-bottom: 1px solid gray;flex-grow: 1;}#sk-container-id-2 div.sk-label:hover label.sk-toggleable__label {background-color: #d4ebff;}#sk-container-id-2 div.sk-serial::before {content: \"\";position: absolute;border-left: 1px solid gray;box-sizing: border-box;top: 0;bottom: 0;left: 50%;z-index: 0;}#sk-container-id-2 div.sk-serial {display: flex;flex-direction: column;align-items: center;background-color: white;padding-right: 0.2em;padding-left: 0.2em;position: relative;}#sk-container-id-2 div.sk-item {position: relative;z-index: 1;}#sk-container-id-2 div.sk-parallel {display: flex;align-items: stretch;justify-content: center;background-color: white;position: relative;}#sk-container-id-2 div.sk-item::before, #sk-container-id-2 div.sk-parallel-item::before {content: \"\";position: absolute;border-left: 1px solid gray;box-sizing: border-box;top: 0;bottom: 0;left: 50%;z-index: -1;}#sk-container-id-2 div.sk-parallel-item {display: flex;flex-direction: column;z-index: 1;position: relative;background-color: white;}#sk-container-id-2 div.sk-parallel-item:first-child::after {align-self: flex-end;width: 50%;}#sk-container-id-2 div.sk-parallel-item:last-child::after {align-self: flex-start;width: 50%;}#sk-container-id-2 div.sk-parallel-item:only-child::after {width: 0;}#sk-container-id-2 div.sk-dashed-wrapped {border: 1px dashed gray;margin: 0 0.4em 0.5em 0.4em;box-sizing: border-box;padding-bottom: 0.4em;background-color: white;}#sk-container-id-2 div.sk-label label {font-family: monospace;font-weight: bold;display: inline-block;line-height: 1.2em;}#sk-container-id-2 div.sk-label-container {text-align: center;}#sk-container-id-2 div.sk-container {/* jupyter's `normalize.less` sets `[hidden] { display: none; }` but bootstrap.min.css set `[hidden] { display: none !important; }` so we also need the `!important` here to be able to override the default hidden behavior on the sphinx rendered scikit-learn.org. See: https://github.com/scikit-learn/scikit-learn/issues/21755 */display: inline-block !important;position: relative;}#sk-container-id-2 div.sk-text-repr-fallback {display: none;}</style><div id=\"sk-container-id-2\" class=\"sk-top-container\"><div class=\"sk-text-repr-fallback\"><pre>Ridge(alpha=0.5)</pre><b>In a Jupyter environment, please rerun this cell to show the HTML representation or trust the notebook. <br />On GitHub, the HTML representation is unable to render, please try loading this page with nbviewer.org.</b></div><div class=\"sk-container\" hidden><div class=\"sk-item\"><div class=\"sk-estimator sk-toggleable\"><input class=\"sk-toggleable__control sk-hidden--visually\" id=\"sk-estimator-id-2\" type=\"checkbox\" checked><label for=\"sk-estimator-id-2\" class=\"sk-toggleable__label sk-toggleable__label-arrow\">Ridge</label><div class=\"sk-toggleable__content\"><pre>Ridge(alpha=0.5)</pre></div></div></div></div></div>"
            ],
            "text/plain": [
              "Ridge(alpha=0.5)"
            ]
          },
          "execution_count": 16,
          "metadata": {},
          "output_type": "execute_result"
        }
      ],
      "source": [
        "\n",
        "linmodel_1 = Ridge(alpha=0.01)\n",
        "linmodel_2 = Ridge(alpha=0.3)\n",
        "linmodel_3 = Ridge(alpha=0.5)\n",
        "\n",
        "linmodel_1.fit(scale_xTrain, yTrain)\n",
        "linmodel_2.fit(scale_xTrain, yTrain)\n",
        "linmodel_3.fit(scale_xTrain, yTrain)"
      ]
    },
    {
      "cell_type": "markdown",
      "metadata": {
        "id": "6ILWdYgIKdwI"
      },
      "source": [
        "## Get the predictions out of the 3 linear regression models"
      ]
    },
    {
      "cell_type": "code",
      "execution_count": 17,
      "metadata": {
        "id": "0m3P7N5vKdwI"
      },
      "outputs": [],
      "source": [
        "linmodel1_train_pred = linmodel_1.predict(scale_xTrain)\n",
        "linmodel2_train_pred = linmodel_2.predict(scale_xTrain)\n",
        "linmodel3_train_pred = linmodel_3.predict(scale_xTrain)\n",
        "\n",
        "linmodel1_test_pred = linmodel_1.predict(scale_xTest)\n",
        "linmodel2_test_pred = linmodel_2.predict(scale_xTest)\n",
        "linmodel3_test_pred = linmodel_3.predict(scale_xTest)"
      ]
    },
    {
      "cell_type": "markdown",
      "metadata": {
        "id": "GlD7AfLrKdwI"
      },
      "source": [
        "## Get the ensemble prediction"
      ]
    },
    {
      "cell_type": "code",
      "execution_count": 18,
      "metadata": {
        "id": "iV4FZAkkKdwI"
      },
      "outputs": [],
      "source": [
        "ensemble_simple_train_pred = (linmodel1_train_pred + linmodel2_train_pred + linmodel3_train_pred) / 3\n",
        "ensemble_simple_test_pred = (linmodel1_test_pred + linmodel2_test_pred + linmodel3_test_pred) / 3\n",
        "\n",
        "ensemble_simple_train_labels = ensemble_simple_train_pred.argmax(axis=1)\n",
        "ensemble_simple_test_labels = ensemble_simple_test_pred.argmax(axis=1)"
      ]
    },
    {
      "cell_type": "markdown",
      "metadata": {
        "id": "oXjGpYq0KdwI"
      },
      "source": [
        "## (Simple Ensemble) Evaluation"
      ]
    },
    {
      "cell_type": "code",
      "execution_count": 19,
      "metadata": {
        "colab": {
          "base_uri": "https://localhost:8080/"
        },
        "id": "zfC2ISbWKdwI",
        "outputId": "411cedf4-2665-4cf8-dbdf-87f4f0b28da8"
      },
      "outputs": [
        {
          "name": "stdout",
          "output_type": "stream",
          "text": [
            "Train:\n",
            "              precision    recall  f1-score   support\n",
            "\n",
            "           0       0.48      0.49      0.48      8335\n",
            "           1       0.38      0.03      0.06      5686\n",
            "           2       0.38      0.04      0.08      2931\n",
            "           3       0.44      0.73      0.55     11591\n",
            "\n",
            "    accuracy                           0.45     28543\n",
            "   macro avg       0.42      0.32      0.29     28543\n",
            "weighted avg       0.43      0.45      0.38     28543\n",
            "\n",
            "Test:\n",
            "              precision    recall  f1-score   support\n",
            "\n",
            "           0       0.48      0.49      0.48      2059\n",
            "           1       0.40      0.03      0.05      1464\n",
            "           2       0.24      0.02      0.04       691\n",
            "           3       0.44      0.74      0.55      2922\n",
            "\n",
            "    accuracy                           0.45      7136\n",
            "   macro avg       0.39      0.32      0.28      7136\n",
            "weighted avg       0.42      0.45      0.38      7136\n",
            "\n"
          ]
        }
      ],
      "source": [
        "print(\"Train:\")\n",
        "print(classification_report(yTrain.argmax(axis=1), ensemble_simple_train_labels, zero_division=0))\n",
        "print(\"Test:\")\n",
        "print(classification_report(yTest.argmax(axis=1), ensemble_simple_test_labels, zero_division=0))"
      ]
    },
    {
      "cell_type": "code",
      "execution_count": 20,
      "metadata": {
        "colab": {
          "base_uri": "https://localhost:8080/"
        },
        "id": "zPgKQ6tEZMiL",
        "outputId": "2798b7f1-4473-426a-cc2d-b0b56bbf48a0"
      },
      "outputs": [
        {
          "name": "stdout",
          "output_type": "stream",
          "text": [
            "Model Train Accuracies:\n",
            "LR 1: 0.4486\n",
            "LR 2: 0.4486\n",
            "LR 3: 0.4487\n",
            "\n",
            "Model Test Accuracies:\n",
            "LR 1: 0.4507\n",
            "LR 2: 0.4500\n",
            "LR 3: 0.4490\n",
            "\n",
            "Ensemble Model:\n",
            "Training Accuracy: 0.4487\n",
            "Testing Accuracy: 0.4501\n",
            "There could be overfitting.\n"
          ]
        }
      ],
      "source": [
        "\n",
        "\n",
        "lin1_train_labels = linmodel1_train_pred.argmax(axis=1)\n",
        "lin2_train_labels = linmodel2_train_pred.argmax(axis=1)\n",
        "lin3_train_labels = linmodel3_train_pred.argmax(axis=1)\n",
        "\n",
        "lin1_test_labels = linmodel1_test_pred.argmax(axis=1)\n",
        "lin2_test_labels = linmodel2_test_pred.argmax(axis=1)\n",
        "lin3_test_labels = linmodel3_test_pred.argmax(axis=1)\n",
        "\n",
        "lin1_train_accuracy = accuracy_score(yTrain.argmax(axis=1), lin1_train_labels)\n",
        "lin2_train_accuracy = accuracy_score(yTrain.argmax(axis=1), lin2_train_labels)\n",
        "lin3_train_accuracy = accuracy_score(yTrain.argmax(axis=1), lin3_train_labels)\n",
        "\n",
        "lin1_test_accuracy = accuracy_score(yTest.argmax(axis=1), lin1_test_labels)\n",
        "lin2_test_accuracy = accuracy_score(yTest.argmax(axis=1), lin2_test_labels)\n",
        "lin3_test_accuracy = accuracy_score(yTest.argmax(axis=1), lin3_test_labels)\n",
        "\n",
        "ensemble_simple_train_accuracy = accuracy_score(yTrain.argmax(axis=1), ensemble_simple_train_labels)\n",
        "ensemble_simple_test_accuracy = accuracy_score(yTest.argmax(axis=1), ensemble_simple_test_labels)\n",
        "\n",
        "print(\"Model Train Accuracies:\")\n",
        "print(f\"LR 1: {lin1_train_accuracy:.4f}\")\n",
        "print(f\"LR 2: {lin2_train_accuracy:.4f}\")\n",
        "print(f\"LR 3: {lin3_train_accuracy:.4f}\")\n",
        "print()\n",
        "\n",
        "print(\"Model Test Accuracies:\")\n",
        "print(f\"LR 1: {lin1_test_accuracy:.4f}\")\n",
        "print(f\"LR 2: {lin2_test_accuracy:.4f}\")\n",
        "print(f\"LR 3: {lin3_test_accuracy:.4f}\")\n",
        "print()\n",
        "\n",
        "print(\"Ensemble Model:\")\n",
        "print(f\"Training Accuracy: {ensemble_simple_train_accuracy:.4f}\")\n",
        "print(f\"Testing Accuracy: {ensemble_simple_test_accuracy:.4f}\")\n",
        "\n",
        "if ensemble_simple_test_accuracy > ensemble_simple_train_accuracy:\n",
        "    print(\"There could be overfitting.\")\n",
        "else:\n",
        "    print(\"There should be no overfitting.\")"
      ]
    },
    {
      "cell_type": "markdown",
      "metadata": {
        "collapsed": false,
        "id": "cQ0bgR3dKdwJ"
      },
      "source": [
        "## Medium Ensemble: 2 NN + 1 Linear"
      ]
    },
    {
      "cell_type": "code",
      "execution_count": 21,
      "metadata": {
        "id": "8uWEHBN1Lw-b"
      },
      "outputs": [],
      "source": [
        "# Convert ridge predictions to probabilities using softmax\n",
        "ridge_train_prob = np.exp(linmodel1_train_pred) / np.sum(np.exp(linmodel1_train_pred), axis=1, keepdims=True)\n",
        "ridge_test_prob = np.exp(linmodel1_test_pred) / np.sum(np.exp(linmodel1_test_pred), axis=1, keepdims=True)\n",
        "\n",
        "ensemble_medium_train_pred = (nn1_train_pred + nn2_train_pred + linmodel1_train_pred) / 3\n",
        "ensemble_medium_test_pred = (nn1_test_pred + nn2_test_pred + linmodel1_test_pred) / 3\n",
        "\n",
        "ensemble_medium_train_labels = ensemble_medium_train_pred.argmax(axis=1)\n",
        "ensemble_medium_test_labels = ensemble_medium_test_pred.argmax(axis=1)"
      ]
    },
    {
      "cell_type": "markdown",
      "metadata": {
        "id": "1pM1NsxiZMiL"
      },
      "source": [
        "## (Medium Ensemble) Evaluation"
      ]
    },
    {
      "cell_type": "code",
      "execution_count": 22,
      "metadata": {
        "colab": {
          "base_uri": "https://localhost:8080/"
        },
        "id": "zjOtsvn1MDIJ",
        "outputId": "0cb68650-6e4b-43fe-afca-6749fede5db1"
      },
      "outputs": [
        {
          "name": "stdout",
          "output_type": "stream",
          "text": [
            "Train:\n",
            "              precision    recall  f1-score   support\n",
            "\n",
            "           0       0.50      0.57      0.53      8335\n",
            "           1       0.50      0.11      0.17      5686\n",
            "           2       0.42      0.04      0.07      2931\n",
            "           3       0.45      0.68      0.54     11591\n",
            "\n",
            "    accuracy                           0.47     28543\n",
            "   macro avg       0.47      0.35      0.33     28543\n",
            "weighted avg       0.47      0.47      0.42     28543\n",
            "\n",
            "Test:\n",
            "              precision    recall  f1-score   support\n",
            "\n",
            "           0       0.47      0.55      0.51      2059\n",
            "           1       0.48      0.09      0.15      1464\n",
            "           2       0.30      0.03      0.06       691\n",
            "           3       0.45      0.68      0.54      2922\n",
            "\n",
            "    accuracy                           0.46      7136\n",
            "   macro avg       0.43      0.34      0.31      7136\n",
            "weighted avg       0.45      0.46      0.41      7136\n",
            "\n"
          ]
        }
      ],
      "source": [
        "print(\"Train:\")\n",
        "print(classification_report(yTrain.argmax(axis=1), ensemble_medium_train_labels, zero_division=0))\n",
        "print(\"Test:\")\n",
        "print(classification_report(yTest.argmax(axis=1), ensemble_medium_test_labels, zero_division=0))"
      ]
    },
    {
      "cell_type": "code",
      "execution_count": 23,
      "metadata": {
        "colab": {
          "base_uri": "https://localhost:8080/"
        },
        "id": "Aogf3xAHZMiM",
        "outputId": "f369b009-5002-4aa7-c82d-52a93fd7dbad"
      },
      "outputs": [
        {
          "name": "stdout",
          "output_type": "stream",
          "text": [
            "Model Train Accuracies:\n",
            "LR 1: 0.4486\n",
            "LR 2: 0.4486\n",
            "NN : 0.4625\n",
            "\n",
            "Model Test Accuracies:\n",
            "LR 1: 0.4507\n",
            "LR 2: 0.4500\n",
            "NN : 0.4511\n",
            "\n",
            "Ensemble Model:\n",
            "Training Accuracy: 0.4696\n",
            "Testing Accuracy: 0.4580\n",
            "There could be overfitting.\n"
          ]
        }
      ],
      "source": [
        "lin1_train_labels = linmodel1_train_pred.argmax(axis=1)\n",
        "lin2_train_labels = linmodel2_train_pred.argmax(axis=1)\n",
        "\n",
        "lin1_test_labels = linmodel1_test_pred.argmax(axis=1)\n",
        "lin2_test_labels = linmodel2_test_pred.argmax(axis=1)\n",
        "\n",
        "lin1_train_accuracy = accuracy_score(yTrain.argmax(axis=1), lin1_train_labels)\n",
        "lin2_train_accuracy = accuracy_score(yTrain.argmax(axis=1), lin2_train_labels)\n",
        "nn1_train_accuracy = accuracy_score(yTrain.argmax(axis=1), nn1_train_labels)\n",
        "\n",
        "lin1_test_accuracy = accuracy_score(yTest.argmax(axis=1), lin1_test_labels)\n",
        "lin2_test_accuracy = accuracy_score(yTest.argmax(axis=1), lin2_test_labels)\n",
        "nn1_test_accuracy = accuracy_score(yTest.argmax(axis=1), nn1_test_labels)\n",
        "\n",
        "ensemble_medium_train_accuracy = accuracy_score(yTrain.argmax(axis=1), ensemble_medium_train_labels)\n",
        "ensemble_medium_test_accuracy = accuracy_score(yTest.argmax(axis=1), ensemble_medium_test_labels)\n",
        "\n",
        "print(\"Model Train Accuracies:\")\n",
        "print(f\"LR 1: {lin1_train_accuracy:.4f}\")\n",
        "print(f\"LR 2: {lin2_train_accuracy:.4f}\")\n",
        "print(f\"NN : {nn1_train_accuracy:.4f}\")\n",
        "print()\n",
        "\n",
        "print(\"Model Test Accuracies:\")\n",
        "print(f\"LR 1: {lin1_test_accuracy:.4f}\")\n",
        "print(f\"LR 2: {lin2_test_accuracy:.4f}\")\n",
        "print(f\"NN : {nn1_test_accuracy:.4f}\")\n",
        "print()\n",
        "\n",
        "print(\"Ensemble Model:\")\n",
        "print(f\"Training Accuracy: {ensemble_medium_train_accuracy:.4f}\")\n",
        "print(f\"Testing Accuracy: {ensemble_medium_test_accuracy:.4f}\")\n",
        "\n",
        "if ensemble_simple_test_accuracy > ensemble_simple_train_accuracy:\n",
        "    print(\"There could be overfitting.\")\n",
        "else:\n",
        "    print(\"There should be no overfitting.\")"
      ]
    },
    {
      "cell_type": "markdown",
      "metadata": {
        "collapsed": false,
        "id": "hRiQsX3wLuso"
      },
      "source": [
        "## Complex Ensemble: 2 NN + 1 RF"
      ]
    },
    {
      "cell_type": "code",
      "execution_count": 24,
      "metadata": {
        "colab": {
          "base_uri": "https://localhost:8080/"
        },
        "id": "_dsTingOKdwJ",
        "outputId": "45be88a6-dd04-4488-f929-c80adccd7c01"
      },
      "outputs": [
        {
          "name": "stdout",
          "output_type": "stream",
          "text": [
            "ensemble_train_labels: [0 0 3 ... 0 3 3]\n",
            "ensemble_train_labels: [0 0 3 ... 0 3 3]\n"
          ]
        }
      ],
      "source": [
        "ensemble_train_pred = (nn1_train_pred + nn2_train_pred + RF_train_pred) / 3\n",
        "ensemble_test_pred = (nn1_test_pred + nn2_test_pred + RF_test_pred) / 3\n",
        "\n",
        "ensemble_train_labels = ensemble_train_pred.argmax(axis=1)\n",
        "ensemble_test_labels = ensemble_test_pred.argmax(axis=1)\n",
        "\n",
        "print(\"ensemble_train_labels:\",ensemble_train_labels)\n",
        "print(\"ensemble_train_labels:\",ensemble_train_labels)\n"
      ]
    },
    {
      "cell_type": "markdown",
      "metadata": {
        "id": "2aiDXl9YKdwJ"
      },
      "source": [
        "## (Complex Ensemble) Test"
      ]
    },
    {
      "cell_type": "code",
      "execution_count": 25,
      "metadata": {
        "colab": {
          "base_uri": "https://localhost:8080/"
        },
        "id": "BbtQHkdqKdwJ",
        "is_executing": true,
        "outputId": "e919594f-9886-4d0e-d38d-8470dcd4dcb5"
      },
      "outputs": [
        {
          "name": "stdout",
          "output_type": "stream",
          "text": [
            "Train:\n",
            "              precision    recall  f1-score   support\n",
            "\n",
            "           0       0.83      0.93      0.88      8335\n",
            "           1       0.95      0.73      0.82      5686\n",
            "           2       1.00      0.51      0.68      2931\n",
            "           3       0.83      0.96      0.89     11591\n",
            "\n",
            "    accuracy                           0.86     28543\n",
            "   macro avg       0.90      0.78      0.82     28543\n",
            "weighted avg       0.87      0.86      0.85     28543\n",
            "\n",
            "Test:\n",
            "              precision    recall  f1-score   support\n",
            "\n",
            "           0       0.48      0.53      0.51      2059\n",
            "           1       0.50      0.10      0.17      1464\n",
            "           2       0.30      0.03      0.06       691\n",
            "           3       0.45      0.69      0.55      2922\n",
            "\n",
            "    accuracy                           0.46      7136\n",
            "   macro avg       0.43      0.34      0.32      7136\n",
            "weighted avg       0.46      0.46      0.41      7136\n",
            "\n"
          ]
        }
      ],
      "source": [
        "print(\"Train:\")\n",
        "print(classification_report(yTrain.argmax(axis=1), ensemble_train_labels))\n",
        "print(\"Test:\")\n",
        "print(classification_report(yTest.argmax(axis=1), ensemble_test_labels))\n"
      ]
    },
    {
      "cell_type": "code",
      "execution_count": 26,
      "metadata": {
        "colab": {
          "base_uri": "https://localhost:8080/"
        },
        "id": "IB1kA0VcKdwJ",
        "outputId": "0c2ad4e7-e9a1-46e0-e106-8a8c722d83ff"
      },
      "outputs": [
        {
          "name": "stdout",
          "output_type": "stream",
          "text": [
            "Model Train Accuracies:\n",
            "Neural Network 1: 0.4625\n",
            "Neural Network 2: 0.4656\n",
            "Random Forest: 1.0000\n",
            "\n",
            "Model Test Accuracies:\n",
            "Neural Network 1: 0.4511\n",
            "Neural Network 2: 0.4556\n",
            "Random Forest: 0.4617\n",
            "\n",
            "Ensemble Model:\n",
            "Training Accuracy: 0.8577\n",
            "Testing Accuracy: 0.4622\n",
            "There should be no overfitting.\n"
          ]
        }
      ],
      "source": [
        "nn1_train_accuracy = accuracy_score(yTrain.argmax(axis=1), nn1_train_labels)\n",
        "nn2_train_accuracy = accuracy_score(yTrain.argmax(axis=1), nn2_train_labels)\n",
        "RF_train_accuracy = accuracy_score(yTrain.argmax(axis=1), RF_train_labels)\n",
        "\n",
        "nn1_test_accuracy = accuracy_score(yTest.argmax(axis=1), nn1_test_labels)\n",
        "nn2_test_accuracy = accuracy_score(yTest.argmax(axis=1), nn2_test_labels)\n",
        "RF_test_accuracy = accuracy_score(yTest.argmax(axis=1), RF_test_labels)\n",
        "\n",
        "ensemble_train_accuracy = accuracy_score(yTrain.argmax(axis=1), ensemble_train_labels)\n",
        "ensemble_test_accuracy = accuracy_score(yTest.argmax(axis=1), ensemble_test_labels)\n",
        "\n",
        "print(\"Model Train Accuracies:\")\n",
        "print(f\"Neural Network 1: {nn1_train_accuracy:.4f}\")\n",
        "print(f\"Neural Network 2: {nn2_train_accuracy:.4f}\")\n",
        "print(f\"Random Forest: {RF_train_accuracy:.4f}\")\n",
        "print()\n",
        "\n",
        "print(\"Model Test Accuracies:\")\n",
        "print(f\"Neural Network 1: {nn1_test_accuracy:.4f}\")\n",
        "print(f\"Neural Network 2: {nn2_test_accuracy:.4f}\")\n",
        "print(f\"Random Forest: {RF_test_accuracy:.4f}\")\n",
        "print()\n",
        "\n",
        "print(\"Ensemble Model:\")\n",
        "print(f\"Training Accuracy: {ensemble_train_accuracy:.4f}\")\n",
        "print(f\"Testing Accuracy: {ensemble_test_accuracy:.4f}\")\n",
        "\n",
        "if ensemble_test_accuracy > ensemble_train_accuracy:\n",
        "    print(\"There could be overfitting.\")\n",
        "else:\n",
        "    print(\"There should be no overfitting.\")"
      ]
    },
    {
      "cell_type": "markdown",
      "metadata": {
        "id": "osrzE-LQkm97"
      },
      "source": [
        "## Stratified KFold + Complex Ensemble Evaluation"
      ]
    },
    {
      "cell_type": "code",
      "execution_count": 27,
      "metadata": {
        "id": "UFGr0CQmg1Mq"
      },
      "outputs": [
        {
          "name": "stdout",
          "output_type": "stream",
          "text": [
            "INFO:tensorflow:Using MirroredStrategy with devices ('/job:localhost/replica:0/task:0/device:CPU:0',)\n"
          ]
        },
        {
          "name": "stderr",
          "output_type": "stream",
          "text": [
            "2023-09-08 16:58:15.771918: W tensorflow/core/framework/dataset.cc:956] Input of GeneratorDatasetOp::Dataset will not be optimized because the dataset does not implement the AsGraphDefInternal() method needed to apply optimizations.\n",
            "2023-09-08 16:58:50.345170: W tensorflow/core/framework/dataset.cc:956] Input of GeneratorDatasetOp::Dataset will not be optimized because the dataset does not implement the AsGraphDefInternal() method needed to apply optimizations.\n"
          ]
        }
      ],
      "source": [
        "# Initialize empty lists to store trained models\n",
        "nn1_models, nn2_models, rf_models, ridge1_models, ridge2_models, ridge3_models = [], [], [], [], [], []\n",
        "\n",
        "# Define StratifiedKFold instance\n",
        "skf = StratifiedKFold(n_splits=5, shuffle=True, random_state=10)\n",
        "\n",
        "mirror_strategy = tf.distribute.MirroredStrategy()\n",
        "\n",
        "for train_index, test_index in skf.split(x, y.argmax(axis=1)):\n",
        "    xTrain_fold, xTest_fold = x.iloc[train_index].values, x.iloc[test_index].values\n",
        "    yTrain_fold, yTest_fold = y[train_index], y[test_index]\n",
        "\n",
        "    # Scale data after splitting\n",
        "    scaler = MinMaxScaler()\n",
        "    xTrain_fold = scaler.fit_transform(xTrain_fold)\n",
        "    xTest_fold = scaler.transform(xTest_fold)  # Important: transform only using the train data scaling parameters\n",
        "\n",
        "    # Neural Network Training within the mirror_strategy scope\n",
        "    with mirror_strategy.scope():\n",
        "        nn_model1 = build_nn_model(xTrain_fold.shape[1:], yTrain_fold.shape[1])\n",
        "        nn_model2 = build_nn_model(xTrain_fold.shape[1:], yTrain_fold.shape[1])\n",
        "\n",
        "        nn_model1.fit(xTrain_fold, yTrain_fold, epochs=10, verbose=0)\n",
        "        nn_model2.fit(xTrain_fold, yTrain_fold, epochs=10, verbose=0)\n",
        "\n",
        "    # Random Forest Training\n",
        "    RF_model = RandomForestClassifier(n_estimators=100)\n",
        "    RF_model.fit(xTrain_fold, yTrain_fold.argmax(axis=1))\n",
        "\n",
        "    # Ridge Regression Training\n",
        "    linmodel_1 = Ridge(alpha=0.01)\n",
        "    linmodel_2 = Ridge(alpha=0.3)\n",
        "    linmodel_3 = Ridge(alpha=0.5)\n",
        "    linmodel_1.fit(xTrain_fold, yTrain_fold)\n",
        "    linmodel_2.fit(xTrain_fold, yTrain_fold)\n",
        "    linmodel_3.fit(xTrain_fold, yTrain_fold)\n",
        "\n",
        "    # Store trained models\n",
        "    nn1_models.append(nn_model1)\n",
        "    nn2_models.append(nn_model2)\n",
        "    rf_models.append(RF_model)\n",
        "    ridge1_models.append(linmodel_1)\n",
        "    ridge2_models.append(linmodel_2)\n",
        "    ridge3_models.append(linmodel_3)\n"
      ]
    },
    {
      "cell_type": "markdown",
      "metadata": {
        "id": "hUsbcCeYvhAo"
      },
      "source": [
        "Complex model average train and test accuracy"
      ]
    },
    {
      "cell_type": "code",
      "execution_count": 28,
      "metadata": {
        "colab": {
          "base_uri": "https://localhost:8080/",
          "height": 863
        },
        "id": "7kkjC-UZwDiW",
        "outputId": "be3bd22c-db21-496f-d216-36babaaa80dd"
      },
      "outputs": [
        {
          "name": "stdout",
          "output_type": "stream",
          "text": [
            "170/892 [====>.........................] - ETA: 0s "
          ]
        },
        {
          "name": "stderr",
          "output_type": "stream",
          "text": [
            "2023-09-08 16:59:24.733052: W tensorflow/core/framework/dataset.cc:956] Input of GeneratorDatasetOp::Dataset will not be optimized because the dataset does not implement the AsGraphDefInternal() method needed to apply optimizations.\n"
          ]
        },
        {
          "name": "stdout",
          "output_type": "stream",
          "text": [
            "892/892 [==============================] - 0s 344us/step\n",
            "892/892 [==============================] - 0s 281us/step\n",
            "223/223 [==============================] - 0s 319us/step\n",
            "223/223 [==============================] - 0s 311us/step\n",
            "892/892 [==============================] - 0s 278us/step\n",
            "892/892 [==============================] - 0s 276us/step\n",
            "223/223 [==============================] - 0s 311us/step\n",
            "223/223 [==============================] - 0s 310us/step\n",
            "892/892 [==============================] - 0s 390us/step\n",
            "892/892 [==============================] - 0s 293us/step\n",
            "223/223 [==============================] - 0s 314us/step\n",
            "223/223 [==============================] - 0s 315us/step\n",
            "892/892 [==============================] - 0s 277us/step\n",
            "892/892 [==============================] - 0s 275us/step\n",
            "223/223 [==============================] - 0s 311us/step\n",
            "223/223 [==============================] - 0s 308us/step\n",
            "892/892 [==============================] - 0s 284us/step\n",
            "892/892 [==============================] - 0s 287us/step\n",
            "223/223 [==============================] - 0s 318us/step\n",
            "223/223 [==============================] - 0s 328us/step\n",
            "Complex Ensemble Model:\n",
            "Training Accuracy: 0.6995\n",
            "Testing Accuracy: 0.7040\n"
          ]
        },
        {
          "data": {
            "image/png": "[encoded data removed]",
            "text/plain": [
              "<Figure size 640x480 with 1 Axes>"
            ]
          },
          "metadata": {},
          "output_type": "display_data"
        }
      ],
      "source": [
        "def complex_ensemble_accuracy(nn1_models, nn2_models, rf_models):\n",
        "\n",
        "    train_accuracies = []\n",
        "    test_accuracies = []\n",
        "\n",
        "    for i in range(5):\n",
        "        # Train metrics\n",
        "        nn1_train_pred = nn1_models[i].predict(scale_xTrain)\n",
        "        nn2_train_pred = nn2_models[i].predict(scale_xTrain)\n",
        "        RF_train_pred = rf_models[i].predict_proba(scale_xTrain)\n",
        "\n",
        "        ensemble_train_pred = (nn1_train_pred + nn2_train_pred + RF_train_pred) / 3\n",
        "        ensemble_train_labels = ensemble_train_pred.argmax(axis=1)\n",
        "\n",
        "        train_acc = accuracy_score(yTrain.argmax(axis=1), ensemble_train_labels)\n",
        "        train_accuracies.append(train_acc)\n",
        "\n",
        "        # Test metrics\n",
        "        nn1_test_pred = nn1_models[i].predict(scale_xTest)\n",
        "        nn2_test_pred = nn2_models[i].predict(scale_xTest)\n",
        "        RF_test_pred = rf_models[i].predict_proba(scale_xTest)\n",
        "\n",
        "        ensemble_test_pred = (nn1_test_pred + nn2_test_pred + RF_test_pred) / 3\n",
        "        ensemble_test_labels = ensemble_test_pred.argmax(axis=1)\n",
        "\n",
        "        test_acc = accuracy_score(yTest.argmax(axis=1), ensemble_test_labels)\n",
        "        test_accuracies.append(test_acc)\n",
        "\n",
        "    return train_accuracies, test_accuracies\n",
        "\n",
        "# Compute average train and test accuracies for the complex ensemble\n",
        "complex_ensemble_train_acc, complex_ensemble_test_acc = complex_ensemble_accuracy(nn1_models, nn2_models, rf_models)\n",
        "\n",
        "#Avearage of train and test accuracies\n",
        "avg_train_acc = np.mean(complex_ensemble_train_acc)\n",
        "avg_test_acc = np.mean(complex_ensemble_test_acc)\n",
        "\n",
        "print(\"Complex Ensemble Model:\")\n",
        "print(f\"Training Accuracy: {avg_train_acc:.4f}\")\n",
        "print(f\"Testing Accuracy: {avg_test_acc:.4f}\")\n",
        "\n",
        "#Plot train against test acc across the folds\n",
        "plt.plot(complex_ensemble_train_acc, label='Training Accuracy')\n",
        "plt.plot(complex_ensemble_test_acc, label='Test Accuracy')\n",
        "plt.title('Training and Test Accuracy for Complex Ensemble with 2NN + 1RF')\n",
        "plt.xlabel('Folds')\n",
        "plt.xticks(list(range(5)), [f\"{i+1}\" for i in range(5)])\n",
        "plt.ylabel('Accuracy')\n",
        "plt.legend()\n",
        "plt.show()"
      ]
    },
    {
      "cell_type": "markdown",
      "metadata": {
        "id": "JZHhO3QYm7cO"
      },
      "source": [
        "Medium Ensemble Average Train and Test Acc"
      ]
    },
    {
      "cell_type": "code",
      "execution_count": 29,
      "metadata": {
        "colab": {
          "base_uri": "https://localhost:8080/",
          "height": 1000
        },
        "id": "cz3mCWLKm-Lf",
        "outputId": "0b882691-ab59-4dd9-bfee-464ec1814446"
      },
      "outputs": [
        {
          "name": "stdout",
          "output_type": "stream",
          "text": [
            "  1/892 [..............................] - ETA: 17s"
          ]
        },
        {
          "name": "stdout",
          "output_type": "stream",
          "text": [
            "892/892 [==============================] - 0s 281us/step\n",
            "892/892 [==============================] - 0s 275us/step\n",
            "223/223 [==============================] - 0s 593us/step\n",
            "223/223 [==============================] - 0s 314us/step\n",
            "892/892 [==============================] - 0s 405us/step\n",
            "892/892 [==============================] - 0s 274us/step\n",
            "223/223 [==============================] - 0s 856us/step\n",
            "223/223 [==============================] - 0s 313us/step\n",
            "892/892 [==============================] - 0s 345us/step\n",
            "892/892 [==============================] - 0s 278us/step\n",
            "223/223 [==============================] - 0s 878us/step\n",
            "223/223 [==============================] - 0s 317us/step\n",
            "892/892 [==============================] - 0s 330us/step\n",
            "892/892 [==============================] - 0s 281us/step\n",
            "223/223 [==============================] - 0s 551us/step\n",
            "223/223 [==============================] - 0s 310us/step\n",
            "892/892 [==============================] - 0s 403us/step\n",
            "892/892 [==============================] - 0s 276us/step\n",
            "223/223 [==============================] - 0s 951us/step\n",
            "223/223 [==============================] - 0s 315us/step\n",
            "Medium Ensemble Model with Ridge1:\n",
            "Training Accuracy: 0.4636\n",
            "Testing Accuracy: 0.4684\n",
            "\n",
            "\n"
          ]
        },
        {
          "data": {
            "image/png": "[encoded data removed]",
            "text/plain": [
              "<Figure size 640x480 with 1 Axes>"
            ]
          },
          "metadata": {},
          "output_type": "display_data"
        },
        {
          "name": "stdout",
          "output_type": "stream",
          "text": [
            "892/892 [==============================] - 0s 334us/step\n",
            "892/892 [==============================] - 0s 276us/step\n",
            "223/223 [==============================] - 0s 709us/step\n",
            "223/223 [==============================] - 0s 323us/step\n",
            "892/892 [==============================] - 0s 440us/step\n",
            "892/892 [==============================] - 0s 275us/step\n",
            "223/223 [==============================] - 0s 982us/step\n",
            "223/223 [==============================] - 0s 312us/step\n",
            "892/892 [==============================] - 0s 416us/step\n",
            "892/892 [==============================] - 0s 276us/step\n",
            "223/223 [==============================] - 0s 987us/step\n",
            "223/223 [==============================] - 0s 314us/step\n",
            "892/892 [==============================] - 0s 422us/step\n",
            "892/892 [==============================] - 0s 275us/step\n",
            "223/223 [==============================] - 0s 940us/step\n",
            "223/223 [==============================] - 0s 313us/step\n",
            "892/892 [==============================] - 0s 446us/step\n",
            "892/892 [==============================] - 0s 273us/step\n",
            "223/223 [==============================] - 0s 1ms/step\n",
            "223/223 [==============================] - 0s 315us/step\n",
            "Medium Ensemble Model with Ridge2:\n",
            "Training Accuracy: 0.4635\n",
            "Testing Accuracy: 0.4681\n"
          ]
        },
        {
          "data": {
            "image/png": "[encoded data removed]",
            "text/plain": [
              "<Figure size 640x480 with 1 Axes>"
            ]
          },
          "metadata": {},
          "output_type": "display_data"
        },
        {
          "name": "stdout",
          "output_type": "stream",
          "text": [
            "892/892 [==============================] - 0s 367us/step\n",
            "892/892 [==============================] - 0s 276us/step\n",
            "223/223 [==============================] - 0s 669us/step\n",
            "223/223 [==============================] - 0s 318us/step\n",
            "892/892 [==============================] - 0s 449us/step\n",
            "892/892 [==============================] - 0s 289us/step\n",
            "223/223 [==============================] - 0s 1ms/step\n",
            "223/223 [==============================] - 0s 325us/step\n",
            "892/892 [==============================] - 0s 382us/step\n",
            "892/892 [==============================] - 0s 274us/step\n",
            "223/223 [==============================] - 0s 869us/step\n",
            "223/223 [==============================] - 0s 312us/step\n",
            "892/892 [==============================] - 0s 375us/step\n",
            "892/892 [==============================] - 0s 405us/step\n",
            "223/223 [==============================] - 0s 853us/step\n",
            "223/223 [==============================] - 0s 311us/step\n",
            "892/892 [==============================] - 0s 392us/step\n",
            "892/892 [==============================] - 0s 275us/step\n",
            "223/223 [==============================] - 0s 910us/step\n",
            "223/223 [==============================] - 0s 314us/step\n",
            "Medium Ensemble Model with Ridge3:\n",
            "Training Accuracy: 0.4635\n",
            "Testing Accuracy: 0.4682\n"
          ]
        },
        {
          "data": {
            "image/png": "[encoded data removed]",
            "text/plain": [
              "<Figure size 640x480 with 1 Axes>"
            ]
          },
          "metadata": {},
          "output_type": "display_data"
        }
      ],
      "source": [
        "def medium_ensemble_accuracy(nn1_models, nn2_models, ridge_models):\n",
        "    train_accuracies = []\n",
        "    test_accuracies = []\n",
        "\n",
        "    for i in range(5):\n",
        "        # Train metrics\n",
        "        nn1_train_pred = nn1_models[i].predict(scale_xTrain)\n",
        "        nn2_train_pred = nn2_models[i].predict(scale_xTrain)\n",
        "        ridge_train_pred = ridge_models[i].predict(scale_xTrain)\n",
        "\n",
        "        # Convert ridge predictions to probabilities using softmax\n",
        "        ridge_train_prob = np.exp(ridge_train_pred) / np.sum(np.exp(ridge_train_pred), axis=1, keepdims=True)\n",
        "\n",
        "        ensemble_train_pred = (nn1_train_pred + nn2_train_pred + ridge_train_prob) / 3\n",
        "        ensemble_train_labels = ensemble_train_pred.argmax(axis=1)\n",
        "\n",
        "        train_acc = accuracy_score(yTrain.argmax(axis=1), ensemble_train_labels)\n",
        "        train_accuracies.append(train_acc)\n",
        "\n",
        "        # Test metrics\n",
        "        nn1_test_pred = nn1_models[i].predict(scale_xTest)\n",
        "        nn2_test_pred = nn2_models[i].predict(scale_xTest)\n",
        "        ridge_test_pred = ridge_models[i].predict(scale_xTest)\n",
        "\n",
        "        # Convert ridge predictions to probabilities using softmax\n",
        "        ridge_test_prob = np.exp(ridge_test_pred) / np.sum(np.exp(ridge_test_pred), axis=1, keepdims=True)\n",
        "\n",
        "        ensemble_test_pred = (nn1_test_pred + nn2_test_pred + ridge_test_prob) / 3\n",
        "        ensemble_test_labels = ensemble_test_pred.argmax(axis=1)\n",
        "\n",
        "        test_acc = accuracy_score(yTest.argmax(axis=1), ensemble_test_labels)\n",
        "        test_accuracies.append(test_acc)\n",
        "\n",
        "    return train_accuracies, test_accuracies\n",
        "\n",
        "# Compute average train and test accuracies for the medium ensemble with Ridge 1 (alpha = 0.01)\n",
        "medium_ensemble_train_acc_1, medium_ensemble_test_acc_1 = medium_ensemble_accuracy(nn1_models, nn2_models, ridge1_models)\n",
        "# Average of train and test accuracies\n",
        "avg_train_acc = np.mean(medium_ensemble_train_acc_1)\n",
        "avg_test_acc = np.mean(medium_ensemble_test_acc_1)\n",
        "\n",
        "print(\"Medium Ensemble Model with Ridge1:\")\n",
        "print(f\"Training Accuracy: {avg_train_acc:.4f}\")\n",
        "print(f\"Testing Accuracy: {avg_test_acc:.4f}\")\n",
        "print(\"\\n\")\n",
        "\n",
        "plt.plot(medium_ensemble_train_acc_1, label='Training Accuracy')\n",
        "plt.plot(medium_ensemble_test_acc_1, label='Test Accuracy')\n",
        "plt.title('Training and Test Accuracy for Medium Ensemble with 2NN + Ridge 1')\n",
        "plt.xlabel('Folds')\n",
        "plt.xticks(list(range(5)), [f\"{i+1}\" for i in range(5)])\n",
        "plt.ylabel('Accuracy')\n",
        "plt.legend()\n",
        "plt.show()\n",
        "\n",
        "# Compute average train and test accuracies for the medium ensemble with Ridge 1 (alpha = 0.3)\n",
        "medium_ensemble_train_acc_2, medium_ensemble_test_acc_2 = medium_ensemble_accuracy(nn1_models, nn2_models, ridge2_models)\n",
        "# Average of train and test accuracies\n",
        "avg_train_acc2 = np.mean(medium_ensemble_train_acc_2)\n",
        "avg_test_acc2 = np.mean(medium_ensemble_test_acc_2)\n",
        "\n",
        "print(\"Medium Ensemble Model with Ridge2:\")\n",
        "print(f\"Training Accuracy: {avg_train_acc2:.4f}\")\n",
        "print(f\"Testing Accuracy: {avg_test_acc2:.4f}\")\n",
        "\n",
        "plt.plot(medium_ensemble_train_acc_2, label='Training Accuracy')\n",
        "plt.plot(medium_ensemble_test_acc_2, label='Test Accuracy')\n",
        "plt.title('Training and Test Accuracy for Medium Ensemble with 2NN +Ridge 2')\n",
        "plt.xlabel('Folds')\n",
        "plt.xticks(list(range(5)), [f\"{i+1}\" for i in range(5)])\n",
        "plt.ylabel('Accuracy')\n",
        "plt.legend()\n",
        "plt.show()\n",
        "\n",
        "# Compute average train and test accuracies for the medium ensemble with Ridge 1 (alpha = 0.5)\n",
        "medium_ensemble_train_acc_3, medium_ensemble_test_acc_3 = medium_ensemble_accuracy(nn1_models, nn2_models, ridge3_models)\n",
        "# Average of train and test accuracies\n",
        "avg_train_acc3 = np.mean(medium_ensemble_train_acc_3)\n",
        "avg_test_acc3 = np.mean(medium_ensemble_test_acc_3)\n",
        "print(\"Medium Ensemble Model with Ridge3:\")\n",
        "print(f\"Training Accuracy: {avg_train_acc3:.4f}\")\n",
        "print(f\"Testing Accuracy: {avg_test_acc3:.4f}\")\n",
        "\n",
        "plt.plot(medium_ensemble_train_acc_3, label='Training Accuracy')\n",
        "plt.plot(medium_ensemble_test_acc_3, label='Test Accuracy')\n",
        "plt.title('Training and Test Accuracy for Medium Ensemble with 2NN + Ridge 3')\n",
        "plt.xlabel('Folds')\n",
        "plt.xticks(list(range(5)), [f\"{i+1}\" for i in range(5)])\n",
        "plt.ylabel('Accuracy')\n",
        "plt.legend()\n",
        "plt.show()"
      ]
    },
    {
      "cell_type": "markdown",
      "metadata": {
        "id": "urcoyS27m-77"
      },
      "source": [
        "Easy Ensemble Average Train and Test Acc"
      ]
    },
    {
      "cell_type": "code",
      "execution_count": 30,
      "metadata": {
        "colab": {
          "base_uri": "https://localhost:8080/",
          "height": 523
        },
        "id": "TszEe23xnBOS",
        "outputId": "58e18ae3-a197-4367-9af0-57267a16d992"
      },
      "outputs": [
        {
          "name": "stdout",
          "output_type": "stream",
          "text": [
            "Easy Ensemble Model:\n",
            "Training Accuracy: 0.4432\n",
            "Testing Accuracy: 0.4475\n"
          ]
        },
        {
          "data": {
            "image/png": "[encoded data removed]",
            "text/plain": [
              "<Figure size 640x480 with 1 Axes>"
            ]
          },
          "metadata": {},
          "output_type": "display_data"
        }
      ],
      "source": [
        "def easy_ensemble_accuracy(ridge1_models, ridge2_models, ridge3_models):\n",
        "\n",
        "    train_accuracies = []\n",
        "    test_accuracies = []\n",
        "\n",
        "    for i in range(5):\n",
        "        # Train metrics\n",
        "        ridge1_train_pred = ridge1_models[i].predict(scale_xTrain)\n",
        "        ridge2_train_pred = ridge2_models[i].predict(scale_xTrain)\n",
        "        ridge3_train_pred = ridge3_models[i].predict(scale_xTrain)\n",
        "\n",
        "        ensemble_train_pred = (ridge1_train_pred + ridge2_train_pred + ridge3_train_pred) / 3\n",
        "        ensemble_train_labels = ensemble_train_pred.argmax(axis=1)\n",
        "\n",
        "        train_acc = accuracy_score(yTrain.argmax(axis=1), ensemble_train_labels)\n",
        "        train_accuracies.append(train_acc)\n",
        "\n",
        "        # Test metrics\n",
        "        ridge1_test_pred = ridge1_models[i].predict(scale_xTest)\n",
        "        ridge2_test_pred = ridge2_models[i].predict(scale_xTest)\n",
        "        ridge3_test_pred = ridge3_models[i].predict(scale_xTest)\n",
        "\n",
        "        ensemble_test_pred = (ridge1_test_pred + ridge2_test_pred + ridge3_test_pred) / 3\n",
        "        ensemble_test_labels = ensemble_test_pred.argmax(axis=1)\n",
        "\n",
        "        test_acc = accuracy_score(yTest.argmax(axis=1), ensemble_test_labels)\n",
        "        test_accuracies.append(test_acc)\n",
        "\n",
        "\n",
        "\n",
        "    return train_accuracies, test_accuracies\n",
        "\n",
        "# Compute average train and test accuracies for the easy ensemble\n",
        "easy_ensemble_train_acc, easy_ensemble_test_acc = easy_ensemble_accuracy(ridge1_models, ridge2_models, ridge3_models)\n",
        "\n",
        "# Average of train and test accuracies\n",
        "avg_train_acc = np.mean(easy_ensemble_train_acc)\n",
        "avg_test_acc = np.mean(easy_ensemble_test_acc)\n",
        "\n",
        "print(\"Easy Ensemble Model:\")\n",
        "print(f\"Training Accuracy: {avg_train_acc:.4f}\")\n",
        "print(f\"Testing Accuracy: {avg_test_acc:.4f}\")\n",
        "\n",
        "# Plot train acc against test acc\n",
        "plt.plot(easy_ensemble_train_acc, label='Training Accuracy')\n",
        "plt.plot(easy_ensemble_test_acc, label='Test Accuracy')\n",
        "plt.title('Training and Test Accuracy for Easy Ensemble')\n",
        "plt.xlabel('Folds')\n",
        "plt.xticks(list(range(5)), [f\"{i+1}\" for i in range(5)])\n",
        "plt.ylabel('Accuracy')\n",
        "plt.legend()\n",
        "plt.show()\n"
      ]
    }
  ],
  "metadata": {
    "accelerator": "GPU",
    "colab": {
      "gpuType": "T4",
      "provenance": []
    },
    "kernelspec": {
      "display_name": "Python 3 (ipykernel)",
      "language": "python",
      "name": "python3"
    },
    "language_info": {
      "codemirror_mode": {
        "name": "ipython",
        "version": 3
      },
      "file_extension": ".py",
      "mimetype": "text/x-python",
      "name": "python",
      "nbconvert_exporter": "python",
      "pygments_lexer": "ipython3",
      "version": "3.11.4"
    },
    "orig_nbformat": 4
  },
  "nbformat": 4,
  "nbformat_minor": 0
}

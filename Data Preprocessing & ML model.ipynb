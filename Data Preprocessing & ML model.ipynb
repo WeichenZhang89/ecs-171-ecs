{
  "cells": [
    {
      "cell_type": "markdown",
      "metadata": {
        "id": "Z7VHtMsuKdwA"
      },
      "source": [
        "## Import Packages"
      ]
    },
    {
      "cell_type": "code",
      "execution_count": null,
      "metadata": {
        "ExecuteTime": {
          "end_time": "2023-08-31T01:05:53.888815900Z",
          "start_time": "2023-08-31T01:05:53.825818200Z"
        },
        "id": "RpCC49oBKdwC"
      },
      "outputs": [],
      "source": [
        "import tensorflow as tf\n",
        "import pandas as pd\n",
        "from sklearn.ensemble import IsolationForest, RandomForestClassifier\n",
        "from sklearn.preprocessing import OneHotEncoder\n",
        "from sklearn.svm import SVC\n",
        "from sklearn.model_selection import train_test_split\n",
        "from sklearn.metrics import classification_report, accuracy_score\n",
        "from sklearn.preprocessing import PolynomialFeatures\n",
        "from sklearn.linear_model import LinearRegression\n",
        "from sklearn.pipeline import make_pipeline\n"
      ]
    },
    {
      "cell_type": "markdown",
      "metadata": {
        "id": "FCyKEtXvKdwD"
      },
      "source": [
        "## Read File"
      ]
    },
    {
      "cell_type": "code",
      "execution_count": null,
      "metadata": {
        "ExecuteTime": {
          "end_time": "2023-08-31T01:05:54.070816300Z",
          "start_time": "2023-08-31T01:05:53.842816600Z"
        },
        "id": "Z9r3eextKdwD"
      },
      "outputs": [],
      "source": [
        "data = pd.read_csv('OnlineNewsPopularity.csv')\n",
        "data.columns = [col.strip() for col in data.columns]\n"
      ]
    },
    {
      "cell_type": "markdown",
      "metadata": {
        "id": "d2npfPrXKdwE"
      },
      "source": [
        "## Create isolation forest model to remove outliers\n",
        "[API Link to IF](https://scikit-learn.org/stable/modules/generated/sklearn.ensemble.IsolationForest.html#sklearn.ensemble.IsolationForest)"
      ]
    },
    {
      "cell_type": "code",
      "execution_count": null,
      "metadata": {
        "ExecuteTime": {
          "end_time": "2023-08-31T01:05:54.491814900Z",
          "start_time": "2023-08-31T01:05:54.072816400Z"
        },
        "colab": {
          "base_uri": "https://localhost:8080/"
        },
        "id": "EnwNkiBeKdwE",
        "outputId": "5e6edaa3-6bb3-40cd-e81b-9872bdc8a686"
      },
      "outputs": [
        {
          "output_type": "stream",
          "name": "stderr",
          "text": [
            "/usr/local/lib/python3.10/dist-packages/sklearn/base.py:439: UserWarning: X does not have valid feature names, but IsolationForest was fitted with feature names\n",
            "  warnings.warn(\n"
          ]
        },
        {
          "output_type": "stream",
          "name": "stdout",
          "text": [
            "There are total 3965 rows been removied.\n"
          ]
        }
      ],
      "source": [
        "old_data_length = len(data)\n",
        "IF_model = IsolationForest(contamination=0.1) # Remove 10% data\n",
        "outliers = IF_model.fit_predict(data.drop(columns=['url', 'timedelta', 'shares'])) # Delete columns than don't need in IF and train IF model\n",
        "data['outliers'] = outliers\n",
        "\n",
        "# Remove outliers\n",
        "data_outliers = data[data['outliers'] == -1]\n",
        "new_data = data[data['outliers'] != -1].drop(columns = ['outliers'])\n",
        "\n",
        "new_data_len = len(new_data)\n",
        "\n",
        "print(f\"There are total {old_data_length - new_data_len} rows been removied.\")\n"
      ]
    },
    {
      "cell_type": "markdown",
      "metadata": {
        "id": "bQKxyaYjKdwF"
      },
      "source": [
        "## Creat a function to classify an article to different categories\n",
        "* Great Article: Shares >= 90%\n",
        "* Good Article: 70% <= Shares < 90%\n",
        "* Normal Article: 30% <= Shares < 70%\n",
        "* Bad article: Shares < 30%"
      ]
    },
    {
      "cell_type": "code",
      "execution_count": null,
      "metadata": {
        "ExecuteTime": {
          "end_time": "2023-08-31T01:05:54.528815600Z",
          "start_time": "2023-08-31T01:05:54.487816400Z"
        },
        "id": "JKFSlNtjKdwF"
      },
      "outputs": [],
      "source": [
        "def article_classifier(shares, top_percent):\n",
        "    if shares >= top_percent[0.9]:\n",
        "        return 'Great'\n",
        "    elif shares >= top_percent[0.7]:\n",
        "        return 'Good'\n",
        "    elif shares >= top_percent[0.3]:\n",
        "        return 'Normal'\n",
        "    else:\n",
        "        return 'Bad'\n"
      ]
    },
    {
      "cell_type": "markdown",
      "metadata": {
        "id": "PDgcpF80KdwG"
      },
      "source": [
        "## Data Classifier"
      ]
    },
    {
      "cell_type": "code",
      "execution_count": null,
      "metadata": {
        "ExecuteTime": {
          "end_time": "2023-08-31T01:05:56.068535900Z",
          "start_time": "2023-08-31T01:05:54.501816500Z"
        },
        "id": "0P13StGSKdwG"
      },
      "outputs": [],
      "source": [
        "top_percent = new_data['shares'].quantile([0.3, 0.7, 0.9])\n",
        "\n",
        "quality = []\n",
        "for index, row in new_data.iterrows():\n",
        "    quality.append(article_classifier(row['shares'], top_percent))\n",
        "\n",
        "new_data['quality'] = quality\n"
      ]
    },
    {
      "cell_type": "markdown",
      "metadata": {
        "id": "qHm0twoLKdwG"
      },
      "source": [
        "## Split dataset into x and y and one-hot encode quality column"
      ]
    },
    {
      "cell_type": "code",
      "execution_count": null,
      "metadata": {
        "ExecuteTime": {
          "end_time": "2023-08-31T01:05:56.097536300Z",
          "start_time": "2023-08-31T01:05:56.072535300Z"
        },
        "id": "CZXqhVDOKdwG"
      },
      "outputs": [],
      "source": [
        "x = new_data.drop(columns=['quality', 'url', 'timedelta', 'shares'], axis=1)\n",
        "y = OneHotEncoder().fit_transform(new_data[['quality']]).toarray()\n"
      ]
    },
    {
      "cell_type": "markdown",
      "metadata": {
        "id": "RwnfA9raKdwG"
      },
      "source": [
        "## Train test split"
      ]
    },
    {
      "cell_type": "code",
      "execution_count": null,
      "metadata": {
        "ExecuteTime": {
          "end_time": "2023-08-31T01:05:56.128535900Z",
          "start_time": "2023-08-31T01:05:56.098537Z"
        },
        "id": "esRYC5_WKdwG"
      },
      "outputs": [],
      "source": [
        "\n",
        "xTrain, xTest, yTrain, yTest = train_test_split(x, y, test_size=0.2, random_state=10)\n"
      ]
    },
    {
      "cell_type": "markdown",
      "metadata": {
        "id": "upbHAo5AKdwG"
      },
      "source": [
        "## Scale the data to Improve the speed of training Model"
      ]
    },
    {
      "cell_type": "code",
      "execution_count": null,
      "metadata": {
        "id": "wUdwB-HwKdwH",
        "outputId": "21f44f3d-7bf9-4e0c-caab-7948c66820c6",
        "colab": {
          "base_uri": "https://localhost:8080/"
        }
      },
      "outputs": [
        {
          "output_type": "stream",
          "name": "stdout",
          "text": [
            "Requirement already satisfied: matplotlib in /usr/local/lib/python3.10/dist-packages (3.7.1)\n",
            "Requirement already satisfied: contourpy>=1.0.1 in /usr/local/lib/python3.10/dist-packages (from matplotlib) (1.1.0)\n",
            "Requirement already satisfied: cycler>=0.10 in /usr/local/lib/python3.10/dist-packages (from matplotlib) (0.11.0)\n",
            "Requirement already satisfied: fonttools>=4.22.0 in /usr/local/lib/python3.10/dist-packages (from matplotlib) (4.42.1)\n",
            "Requirement already satisfied: kiwisolver>=1.0.1 in /usr/local/lib/python3.10/dist-packages (from matplotlib) (1.4.4)\n",
            "Requirement already satisfied: numpy>=1.20 in /usr/local/lib/python3.10/dist-packages (from matplotlib) (1.23.5)\n",
            "Requirement already satisfied: packaging>=20.0 in /usr/local/lib/python3.10/dist-packages (from matplotlib) (23.1)\n",
            "Requirement already satisfied: pillow>=6.2.0 in /usr/local/lib/python3.10/dist-packages (from matplotlib) (9.4.0)\n",
            "Requirement already satisfied: pyparsing>=2.3.1 in /usr/local/lib/python3.10/dist-packages (from matplotlib) (3.1.1)\n",
            "Requirement already satisfied: python-dateutil>=2.7 in /usr/local/lib/python3.10/dist-packages (from matplotlib) (2.8.2)\n",
            "Requirement already satisfied: six>=1.5 in /usr/local/lib/python3.10/dist-packages (from python-dateutil>=2.7->matplotlib) (1.16.0)\n"
          ]
        }
      ],
      "source": [
        "!pip install matplotlib"
      ]
    },
    {
      "cell_type": "code",
      "execution_count": null,
      "metadata": {
        "ExecuteTime": {
          "end_time": "2023-08-31T01:05:56.161544400Z",
          "start_time": "2023-08-31T01:05:56.130535900Z"
        },
        "colab": {
          "base_uri": "https://localhost:8080/",
          "height": 1000
        },
        "id": "ILqpKHg1KdwH",
        "outputId": "a53a312d-583f-45d3-d4f2-2bb06326fca7"
      },
      "outputs": [
        {
          "output_type": "stream",
          "name": "stdout",
          "text": [
            "range of the xTrain:\n",
            "n_tokens_title                   2.000000e+01\n",
            "n_tokens_content                 7.054000e+03\n",
            "n_unique_tokens                  8.595913e-01\n",
            "n_non_stop_words                 5.237800e-08\n",
            "n_non_stop_unique_tokens         8.463732e-01\n",
            "num_hrefs                        3.040000e+02\n",
            "num_self_hrefs                   5.600000e+01\n",
            "num_imgs                         9.900000e+01\n",
            "num_videos                       7.500000e+01\n",
            "average_token_length             4.380634e+00\n",
            "num_keywords                     9.000000e+00\n",
            "data_channel_is_lifestyle        1.000000e+00\n",
            "data_channel_is_entertainment    1.000000e+00\n",
            "data_channel_is_bus              1.000000e+00\n",
            "data_channel_is_socmed           1.000000e+00\n",
            "data_channel_is_tech             1.000000e+00\n",
            "data_channel_is_world            1.000000e+00\n",
            "kw_min_min                       3.780000e+02\n",
            "kw_max_min                       3.660000e+04\n",
            "kw_avg_min                       6.885800e+03\n",
            "kw_min_max                       8.433000e+05\n",
            "kw_max_max                       8.433000e+05\n",
            "kw_avg_max                       8.433000e+05\n",
            "kw_min_avg                       3.614040e+03\n",
            "kw_max_avg                       1.647250e+05\n",
            "kw_avg_avg                       3.252400e+04\n",
            "self_reference_min_shares        1.431000e+05\n",
            "self_reference_max_shares        8.433000e+05\n",
            "self_reference_avg_sharess       4.231000e+05\n",
            "weekday_is_monday                1.000000e+00\n",
            "weekday_is_tuesday               1.000000e+00\n",
            "weekday_is_wednesday             1.000000e+00\n",
            "weekday_is_thursday              1.000000e+00\n",
            "weekday_is_friday                1.000000e+00\n",
            "weekday_is_saturday              1.000000e+00\n",
            "weekday_is_sunday                1.000000e+00\n",
            "is_weekend                       1.000000e+00\n",
            "LDA_00                           9.088111e-01\n",
            "LDA_01                           9.017941e-01\n",
            "LDA_02                           9.018170e-01\n",
            "LDA_03                           9.073601e-01\n",
            "LDA_04                           9.089368e-01\n",
            "global_subjectivity              8.375000e-01\n",
            "global_sentiment_polarity        9.773582e-01\n",
            "global_rate_positive_words       1.554878e-01\n",
            "global_rate_negative_words       1.849315e-01\n",
            "rate_positive_words              1.000000e+00\n",
            "rate_negative_words              1.000000e+00\n",
            "avg_positive_polarity            1.000000e+00\n",
            "min_positive_polarity            1.000000e+00\n",
            "max_positive_polarity            1.000000e+00\n",
            "avg_negative_polarity            1.000000e+00\n",
            "min_negative_polarity            1.000000e+00\n",
            "max_negative_polarity            1.000000e+00\n",
            "title_subjectivity               1.000000e+00\n",
            "title_sentiment_polarity         2.000000e+00\n",
            "abs_title_subjectivity           5.000000e-01\n",
            "abs_title_sentiment_polarity     1.000000e+00\n",
            "dtype: float64\n"
          ]
        },
        {
          "output_type": "display_data",
          "data": {
            "text/plain": [
              "<Figure size 640x480 with 1 Axes>"
            ],
            "image/png": "[encoded data removed]"
          },
          "metadata": {}
        }
      ],
      "source": [
        "\n",
        "from sklearn.preprocessing import MinMaxScaler\n",
        "\n",
        "import matplotlib.pyplot as plt\n",
        "\n",
        "\n",
        "scaler = MinMaxScaler()\n",
        "scale_xTrain = scaler.fit_transform(xTrain)\n",
        "scale_xTest = scaler.transform(xTest)\n",
        "\n",
        "print(\"range of the xTrain:\")\n",
        "print(xTrain.max() - xTrain.min())\n",
        "for i in xTrain.columns:\n",
        "    plt.hist(xTrain[i])\n",
        "plt.title(\"Histogram of xTrain\")\n",
        "plt.show()\n",
        "\n"
      ]
    },
    {
      "cell_type": "markdown",
      "metadata": {
        "collapsed": false,
        "id": "YB9HkqenKdwH"
      },
      "source": [
        "## Create and train model(NN)"
      ]
    },
    {
      "cell_type": "code",
      "execution_count": null,
      "metadata": {
        "ExecuteTime": {
          "end_time": "2023-08-31T01:06:24.759097300Z",
          "start_time": "2023-08-31T01:05:56.162545500Z"
        },
        "colab": {
          "base_uri": "https://localhost:8080/"
        },
        "id": "8_qTKInLKdwH",
        "outputId": "d901ced0-572d-43c1-d419-d781ead98124"
      },
      "outputs": [
        {
          "output_type": "stream",
          "name": "stdout",
          "text": [
            "Epoch 1/10\n",
            "892/892 [==============================] - 9s 6ms/step - loss: 1.2217 - accuracy: 0.4312\n",
            "Epoch 2/10\n",
            "892/892 [==============================] - 7s 7ms/step - loss: 1.2015 - accuracy: 0.4407\n",
            "Epoch 3/10\n",
            "892/892 [==============================] - 8s 9ms/step - loss: 1.1945 - accuracy: 0.4451\n",
            "Epoch 4/10\n",
            "892/892 [==============================] - 8s 9ms/step - loss: 1.1894 - accuracy: 0.4476\n",
            "Epoch 5/10\n",
            "892/892 [==============================] - 8s 9ms/step - loss: 1.1851 - accuracy: 0.4491\n",
            "Epoch 6/10\n",
            "892/892 [==============================] - 7s 8ms/step - loss: 1.1810 - accuracy: 0.4513\n",
            "Epoch 7/10\n",
            "892/892 [==============================] - 4s 4ms/step - loss: 1.1769 - accuracy: 0.4507\n",
            "Epoch 8/10\n",
            "892/892 [==============================] - 4s 4ms/step - loss: 1.1726 - accuracy: 0.4567\n",
            "Epoch 9/10\n",
            "892/892 [==============================] - 5s 5ms/step - loss: 1.1700 - accuracy: 0.4600\n",
            "Epoch 10/10\n",
            "892/892 [==============================] - 4s 4ms/step - loss: 1.1650 - accuracy: 0.4624\n",
            "Epoch 1/10\n",
            "892/892 [==============================] - 5s 4ms/step - loss: 1.2232 - accuracy: 0.4308\n",
            "Epoch 2/10\n",
            "892/892 [==============================] - 5s 5ms/step - loss: 1.2021 - accuracy: 0.4416\n",
            "Epoch 3/10\n",
            "892/892 [==============================] - 4s 4ms/step - loss: 1.1947 - accuracy: 0.4442\n",
            "Epoch 4/10\n",
            "892/892 [==============================] - 4s 5ms/step - loss: 1.1881 - accuracy: 0.4510\n",
            "Epoch 5/10\n",
            "892/892 [==============================] - 5s 5ms/step - loss: 1.1834 - accuracy: 0.4501\n",
            "Epoch 6/10\n",
            "892/892 [==============================] - 4s 4ms/step - loss: 1.1805 - accuracy: 0.4511\n",
            "Epoch 7/10\n",
            "892/892 [==============================] - 4s 4ms/step - loss: 1.1755 - accuracy: 0.4542\n",
            "Epoch 8/10\n",
            "892/892 [==============================] - 5s 5ms/step - loss: 1.1722 - accuracy: 0.4565\n",
            "Epoch 9/10\n",
            "892/892 [==============================] - 4s 4ms/step - loss: 1.1677 - accuracy: 0.4576\n",
            "Epoch 10/10\n",
            "892/892 [==============================] - 4s 4ms/step - loss: 1.1659 - accuracy: 0.4616\n"
          ]
        }
      ],
      "source": [
        "def build_nn_model(input_shape, num_classes):\n",
        "    model = tf.keras.models.Sequential([\n",
        "        tf.keras.layers.Dense(128, activation='relu', input_shape=input_shape),\n",
        "        tf.keras.layers.Dense(64, activation='relu'),\n",
        "        tf.keras.layers.Dense(32, activation='relu'),\n",
        "        tf.keras.layers.Dense(num_classes, activation='softmax')\n",
        "    ])\n",
        "    model.compile(optimizer='adam', loss='categorical_crossentropy', metrics=['accuracy'])\n",
        "\n",
        "    return model\n",
        "\n",
        "mirror_strategy = tf.distribute.MirroredStrategy()\n",
        "with mirror_strategy.scope():\n",
        "    nn_model1 = build_nn_model(scale_xTrain.shape[1:], yTrain.shape[1])\n",
        "    nn_model2 = build_nn_model(scale_xTrain.shape[1:], yTrain.shape[1])\n",
        "\n",
        "    fit_speed = tf.data.Dataset.from_tensor_slices((scale_xTrain, yTrain))\n",
        "    fit_speed = fit_speed.repeat().batch(100)\n",
        "\n",
        "    nn_model1.fit(scale_xTrain, yTrain, epochs=10)\n",
        "    nn_model2.fit(scale_xTrain, yTrain, epochs=10)"
      ]
    },
    {
      "cell_type": "markdown",
      "metadata": {
        "id": "JbA7nJncKdwH"
      },
      "source": [
        "## Create and train model(Random Forest)"
      ]
    },
    {
      "cell_type": "code",
      "execution_count": null,
      "metadata": {
        "ExecuteTime": {
          "end_time": "2023-08-31T01:06:41.546106200Z",
          "start_time": "2023-08-31T01:06:24.757451Z"
        },
        "colab": {
          "base_uri": "https://localhost:8080/",
          "height": 74
        },
        "id": "zQeVkgInKdwH",
        "outputId": "7575036a-b21a-4c26-fb52-d06c40794557"
      },
      "outputs": [
        {
          "output_type": "execute_result",
          "data": {
            "text/plain": [
              "RandomForestClassifier()"
            ],
            "text/html": [
              "<style>#sk-container-id-1 {color: black;background-color: white;}#sk-container-id-1 pre{padding: 0;}#sk-container-id-1 div.sk-toggleable {background-color: white;}#sk-container-id-1 label.sk-toggleable__label {cursor: pointer;display: block;width: 100%;margin-bottom: 0;padding: 0.3em;box-sizing: border-box;text-align: center;}#sk-container-id-1 label.sk-toggleable__label-arrow:before {content: \"▸\";float: left;margin-right: 0.25em;color: #696969;}#sk-container-id-1 label.sk-toggleable__label-arrow:hover:before {color: black;}#sk-container-id-1 div.sk-estimator:hover label.sk-toggleable__label-arrow:before {color: black;}#sk-container-id-1 div.sk-toggleable__content {max-height: 0;max-width: 0;overflow: hidden;text-align: left;background-color: #f0f8ff;}#sk-container-id-1 div.sk-toggleable__content pre {margin: 0.2em;color: black;border-radius: 0.25em;background-color: #f0f8ff;}#sk-container-id-1 input.sk-toggleable__control:checked~div.sk-toggleable__content {max-height: 200px;max-width: 100%;overflow: auto;}#sk-container-id-1 input.sk-toggleable__control:checked~label.sk-toggleable__label-arrow:before {content: \"▾\";}#sk-container-id-1 div.sk-estimator input.sk-toggleable__control:checked~label.sk-toggleable__label {background-color: #d4ebff;}#sk-container-id-1 div.sk-label input.sk-toggleable__control:checked~label.sk-toggleable__label {background-color: #d4ebff;}#sk-container-id-1 input.sk-hidden--visually {border: 0;clip: rect(1px 1px 1px 1px);clip: rect(1px, 1px, 1px, 1px);height: 1px;margin: -1px;overflow: hidden;padding: 0;position: absolute;width: 1px;}#sk-container-id-1 div.sk-estimator {font-family: monospace;background-color: #f0f8ff;border: 1px dotted black;border-radius: 0.25em;box-sizing: border-box;margin-bottom: 0.5em;}#sk-container-id-1 div.sk-estimator:hover {background-color: #d4ebff;}#sk-container-id-1 div.sk-parallel-item::after {content: \"\";width: 100%;border-bottom: 1px solid gray;flex-grow: 1;}#sk-container-id-1 div.sk-label:hover label.sk-toggleable__label {background-color: #d4ebff;}#sk-container-id-1 div.sk-serial::before {content: \"\";position: absolute;border-left: 1px solid gray;box-sizing: border-box;top: 0;bottom: 0;left: 50%;z-index: 0;}#sk-container-id-1 div.sk-serial {display: flex;flex-direction: column;align-items: center;background-color: white;padding-right: 0.2em;padding-left: 0.2em;position: relative;}#sk-container-id-1 div.sk-item {position: relative;z-index: 1;}#sk-container-id-1 div.sk-parallel {display: flex;align-items: stretch;justify-content: center;background-color: white;position: relative;}#sk-container-id-1 div.sk-item::before, #sk-container-id-1 div.sk-parallel-item::before {content: \"\";position: absolute;border-left: 1px solid gray;box-sizing: border-box;top: 0;bottom: 0;left: 50%;z-index: -1;}#sk-container-id-1 div.sk-parallel-item {display: flex;flex-direction: column;z-index: 1;position: relative;background-color: white;}#sk-container-id-1 div.sk-parallel-item:first-child::after {align-self: flex-end;width: 50%;}#sk-container-id-1 div.sk-parallel-item:last-child::after {align-self: flex-start;width: 50%;}#sk-container-id-1 div.sk-parallel-item:only-child::after {width: 0;}#sk-container-id-1 div.sk-dashed-wrapped {border: 1px dashed gray;margin: 0 0.4em 0.5em 0.4em;box-sizing: border-box;padding-bottom: 0.4em;background-color: white;}#sk-container-id-1 div.sk-label label {font-family: monospace;font-weight: bold;display: inline-block;line-height: 1.2em;}#sk-container-id-1 div.sk-label-container {text-align: center;}#sk-container-id-1 div.sk-container {/* jupyter's `normalize.less` sets `[hidden] { display: none; }` but bootstrap.min.css set `[hidden] { display: none !important; }` so we also need the `!important` here to be able to override the default hidden behavior on the sphinx rendered scikit-learn.org. See: https://github.com/scikit-learn/scikit-learn/issues/21755 */display: inline-block !important;position: relative;}#sk-container-id-1 div.sk-text-repr-fallback {display: none;}</style><div id=\"sk-container-id-1\" class=\"sk-top-container\"><div class=\"sk-text-repr-fallback\"><pre>RandomForestClassifier()</pre><b>In a Jupyter environment, please rerun this cell to show the HTML representation or trust the notebook. <br />On GitHub, the HTML representation is unable to render, please try loading this page with nbviewer.org.</b></div><div class=\"sk-container\" hidden><div class=\"sk-item\"><div class=\"sk-estimator sk-toggleable\"><input class=\"sk-toggleable__control sk-hidden--visually\" id=\"sk-estimator-id-1\" type=\"checkbox\" checked><label for=\"sk-estimator-id-1\" class=\"sk-toggleable__label sk-toggleable__label-arrow\">RandomForestClassifier</label><div class=\"sk-toggleable__content\"><pre>RandomForestClassifier()</pre></div></div></div></div></div>"
            ]
          },
          "metadata": {},
          "execution_count": 11
        }
      ],
      "source": [
        "RF_model = RandomForestClassifier(n_estimators=100)\n",
        "RF_model.fit(scale_xTrain, yTrain.argmax(axis=1))\n"
      ]
    },
    {
      "cell_type": "markdown",
      "metadata": {
        "id": "i_B9lBybKdwH"
      },
      "source": [
        "## Make predictions with each model individually (NN and RF)"
      ]
    },
    {
      "cell_type": "code",
      "execution_count": null,
      "metadata": {
        "colab": {
          "base_uri": "https://localhost:8080/"
        },
        "id": "Jov8ALLxKdwI",
        "outputId": "ba052bb7-9bb0-4973-8fdd-2d861cca000c"
      },
      "outputs": [
        {
          "output_type": "stream",
          "name": "stdout",
          "text": [
            "892/892 [==============================] - 5s 5ms/step\n",
            "892/892 [==============================] - 5s 5ms/step\n",
            "223/223 [==============================] - 1s 2ms/step\n",
            "223/223 [==============================] - 1s 2ms/step\n",
            "Shape:\n",
            "nn1_train_pred: (28543, 4)\n",
            "nn2_train_pred: (28543, 4)\n",
            "RF_train_pred: (28543, 4)\n",
            "Labels:\n",
            "nn1_train_pred: [0 3 3 ... 3 3 0]\n",
            "nn2_train_pred: [0 3 3 ... 3 3 3]\n",
            "RF_train_pred: [3 3 0 ... 1 1 0]\n",
            "nn1_test_pred: [3 1 1 ... 3 3 3]\n",
            "nn2_test_pred: [1 1 1 ... 3 3 1]\n",
            "RF_test_pred: [3 1 1 ... 1 3 1]\n",
            "\n"
          ]
        }
      ],
      "source": [
        "nn1_train_pred = nn_model1.predict(scale_xTrain)\n",
        "nn2_train_pred = nn_model2.predict(scale_xTrain)\n",
        "RF_train_pred = RF_model.predict_proba(scale_xTrain)\n",
        "\n",
        "nn1_test_pred = nn_model1.predict(scale_xTest)\n",
        "nn2_test_pred = nn_model2.predict(scale_xTest)\n",
        "RF_test_pred = RF_model.predict_proba(scale_xTest)\n",
        "\n",
        "print(\"Shape:\")\n",
        "print(\"nn1_train_pred:\", nn1_train_pred.shape)\n",
        "print(\"nn2_train_pred:\", nn2_train_pred.shape)\n",
        "print(\"RF_train_pred:\", RF_train_pred.shape)\n",
        "\n",
        "nn1_train_labels = nn1_train_pred.argmax(axis=1)\n",
        "nn2_train_labels = nn2_train_pred.argmax(axis=1)\n",
        "RF_train_labels = RF_train_pred.argmax(axis=1)\n",
        "\n",
        "nn1_test_labels = nn1_test_pred.argmax(axis=1)\n",
        "nn2_test_labels = nn2_test_pred.argmax(axis=1)\n",
        "RF_test_labels = RF_test_pred.argmax(axis=1)\n",
        "\n",
        "print(\"Labels:\")\n",
        "print(\"nn1_train_pred:\", nn1_train_labels)\n",
        "print(\"nn2_train_pred:\", nn2_train_labels)\n",
        "print(\"RF_train_pred:\", RF_train_labels)\n",
        "print(\"nn1_test_pred:\", nn1_test_labels)\n",
        "print(\"nn2_test_pred:\", nn2_test_labels)\n",
        "print(\"RF_test_pred:\", RF_test_labels)\n",
        "print()"
      ]
    },
    {
      "cell_type": "markdown",
      "metadata": {
        "id": "M8N6QCbHKdwI"
      },
      "source": [
        "## Simple Ensemble: 3 linear models"
      ]
    },
    {
      "cell_type": "markdown",
      "metadata": {
        "id": "nvfQHQNLKdwI"
      },
      "source": [
        "## Train the 3 linear models"
      ]
    },
    {
      "cell_type": "code",
      "execution_count": null,
      "metadata": {
        "colab": {
          "base_uri": "https://localhost:8080/"
        },
        "id": "tZiZJwW5KdwI",
        "outputId": "19f4c052-ae8c-4e3a-b650-a9b306ed70e6"
      },
      "outputs": [
        {
          "output_type": "execute_result",
          "data": {
            "text/plain": [
              "Ridge(alpha=10.0)"
            ],
            "text/html": [
              "<style>#sk-container-id-2 {color: black;background-color: white;}#sk-container-id-2 pre{padding: 0;}#sk-container-id-2 div.sk-toggleable {background-color: white;}#sk-container-id-2 label.sk-toggleable__label {cursor: pointer;display: block;width: 100%;margin-bottom: 0;padding: 0.3em;box-sizing: border-box;text-align: center;}#sk-container-id-2 label.sk-toggleable__label-arrow:before {content: \"▸\";float: left;margin-right: 0.25em;color: #696969;}#sk-container-id-2 label.sk-toggleable__label-arrow:hover:before {color: black;}#sk-container-id-2 div.sk-estimator:hover label.sk-toggleable__label-arrow:before {color: black;}#sk-container-id-2 div.sk-toggleable__content {max-height: 0;max-width: 0;overflow: hidden;text-align: left;background-color: #f0f8ff;}#sk-container-id-2 div.sk-toggleable__content pre {margin: 0.2em;color: black;border-radius: 0.25em;background-color: #f0f8ff;}#sk-container-id-2 input.sk-toggleable__control:checked~div.sk-toggleable__content {max-height: 200px;max-width: 100%;overflow: auto;}#sk-container-id-2 input.sk-toggleable__control:checked~label.sk-toggleable__label-arrow:before {content: \"▾\";}#sk-container-id-2 div.sk-estimator input.sk-toggleable__control:checked~label.sk-toggleable__label {background-color: #d4ebff;}#sk-container-id-2 div.sk-label input.sk-toggleable__control:checked~label.sk-toggleable__label {background-color: #d4ebff;}#sk-container-id-2 input.sk-hidden--visually {border: 0;clip: rect(1px 1px 1px 1px);clip: rect(1px, 1px, 1px, 1px);height: 1px;margin: -1px;overflow: hidden;padding: 0;position: absolute;width: 1px;}#sk-container-id-2 div.sk-estimator {font-family: monospace;background-color: #f0f8ff;border: 1px dotted black;border-radius: 0.25em;box-sizing: border-box;margin-bottom: 0.5em;}#sk-container-id-2 div.sk-estimator:hover {background-color: #d4ebff;}#sk-container-id-2 div.sk-parallel-item::after {content: \"\";width: 100%;border-bottom: 1px solid gray;flex-grow: 1;}#sk-container-id-2 div.sk-label:hover label.sk-toggleable__label {background-color: #d4ebff;}#sk-container-id-2 div.sk-serial::before {content: \"\";position: absolute;border-left: 1px solid gray;box-sizing: border-box;top: 0;bottom: 0;left: 50%;z-index: 0;}#sk-container-id-2 div.sk-serial {display: flex;flex-direction: column;align-items: center;background-color: white;padding-right: 0.2em;padding-left: 0.2em;position: relative;}#sk-container-id-2 div.sk-item {position: relative;z-index: 1;}#sk-container-id-2 div.sk-parallel {display: flex;align-items: stretch;justify-content: center;background-color: white;position: relative;}#sk-container-id-2 div.sk-item::before, #sk-container-id-2 div.sk-parallel-item::before {content: \"\";position: absolute;border-left: 1px solid gray;box-sizing: border-box;top: 0;bottom: 0;left: 50%;z-index: -1;}#sk-container-id-2 div.sk-parallel-item {display: flex;flex-direction: column;z-index: 1;position: relative;background-color: white;}#sk-container-id-2 div.sk-parallel-item:first-child::after {align-self: flex-end;width: 50%;}#sk-container-id-2 div.sk-parallel-item:last-child::after {align-self: flex-start;width: 50%;}#sk-container-id-2 div.sk-parallel-item:only-child::after {width: 0;}#sk-container-id-2 div.sk-dashed-wrapped {border: 1px dashed gray;margin: 0 0.4em 0.5em 0.4em;box-sizing: border-box;padding-bottom: 0.4em;background-color: white;}#sk-container-id-2 div.sk-label label {font-family: monospace;font-weight: bold;display: inline-block;line-height: 1.2em;}#sk-container-id-2 div.sk-label-container {text-align: center;}#sk-container-id-2 div.sk-container {/* jupyter's `normalize.less` sets `[hidden] { display: none; }` but bootstrap.min.css set `[hidden] { display: none !important; }` so we also need the `!important` here to be able to override the default hidden behavior on the sphinx rendered scikit-learn.org. See: https://github.com/scikit-learn/scikit-learn/issues/21755 */display: inline-block !important;position: relative;}#sk-container-id-2 div.sk-text-repr-fallback {display: none;}</style><div id=\"sk-container-id-2\" class=\"sk-top-container\"><div class=\"sk-text-repr-fallback\"><pre>Ridge(alpha=10.0)</pre><b>In a Jupyter environment, please rerun this cell to show the HTML representation or trust the notebook. <br />On GitHub, the HTML representation is unable to render, please try loading this page with nbviewer.org.</b></div><div class=\"sk-container\" hidden><div class=\"sk-item\"><div class=\"sk-estimator sk-toggleable\"><input class=\"sk-toggleable__control sk-hidden--visually\" id=\"sk-estimator-id-2\" type=\"checkbox\" checked><label for=\"sk-estimator-id-2\" class=\"sk-toggleable__label sk-toggleable__label-arrow\">Ridge</label><div class=\"sk-toggleable__content\"><pre>Ridge(alpha=10.0)</pre></div></div></div></div></div>"
            ]
          },
          "metadata": {},
          "execution_count": 13
        }
      ],
      "source": [
        "from sklearn.linear_model import Ridge\n",
        "linmodel_1 = Ridge(alpha=0.01)\n",
        "linmodel_2 = Ridge(alpha=0.3)\n",
        "linmodel_3 = Ridge(alpha=0.5)\n",
        "\n",
        "linmodel_1.fit(scale_xTrain, yTrain)\n",
        "linmodel_2.fit(scale_xTrain, yTrain)\n",
        "linmodel_3.fit(scale_xTrain, yTrain)"
      ]
    },
    {
      "cell_type": "markdown",
      "metadata": {
        "id": "6ILWdYgIKdwI"
      },
      "source": [
        "## Get the predictions out of the 3 linear regression models"
      ]
    },
    {
      "cell_type": "code",
      "execution_count": null,
      "metadata": {
        "id": "0m3P7N5vKdwI"
      },
      "outputs": [],
      "source": [
        "linmodel1_train_pred = linmodel_1.predict(scale_xTrain)\n",
        "linmodel2_train_pred = linmodel_2.predict(scale_xTrain)\n",
        "linmodel3_train_pred = linmodel_3.predict(scale_xTrain)\n",
        "\n",
        "linmodel1_test_pred = linmodel_1.predict(scale_xTest)\n",
        "linmodel2_test_pred = linmodel_2.predict(scale_xTest)\n",
        "linmodel3_test_pred = linmodel_3.predict(scale_xTest)"
      ]
    },
    {
      "cell_type": "markdown",
      "metadata": {
        "id": "GlD7AfLrKdwI"
      },
      "source": [
        "## Get the ensemble prediction"
      ]
    },
    {
      "cell_type": "code",
      "execution_count": null,
      "metadata": {
        "id": "iV4FZAkkKdwI"
      },
      "outputs": [],
      "source": [
        "ensemble_simple_train_pred = (linmodel1_train_pred + linmodel2_train_pred + linmodel3_train_pred) / 3\n",
        "ensemble_simple_test_pred = (linmodel1_test_pred + linmodel2_test_pred + linmodel3_test_pred) / 3\n",
        "\n",
        "ensemble_simple_train_labels = ensemble_simple_train_pred.argmax(axis=1)\n",
        "ensemble_simple_test_labels = ensemble_simple_test_pred.argmax(axis=1)"
      ]
    },
    {
      "cell_type": "markdown",
      "metadata": {
        "id": "oXjGpYq0KdwI"
      },
      "source": [
        "## (Simple Ensemble) Evaluation"
      ]
    },
    {
      "cell_type": "code",
      "execution_count": null,
      "metadata": {
        "colab": {
          "base_uri": "https://localhost:8080/"
        },
        "id": "zfC2ISbWKdwI",
        "outputId": "411cedf4-2665-4cf8-dbdf-87f4f0b28da8"
      },
      "outputs": [
        {
          "output_type": "stream",
          "name": "stdout",
          "text": [
            "Train:\n",
            "              precision    recall  f1-score   support\n",
            "\n",
            "           0       0.47      0.49      0.48      8329\n",
            "           1       0.41      0.04      0.07      5709\n",
            "           2       0.32      0.02      0.04      2879\n",
            "           3       0.44      0.73      0.55     11626\n",
            "\n",
            "    accuracy                           0.45     28543\n",
            "   macro avg       0.41      0.32      0.29     28543\n",
            "weighted avg       0.43      0.45      0.38     28543\n",
            "\n",
            "Test:\n",
            "              precision    recall  f1-score   support\n",
            "\n",
            "           0       0.63      0.07      0.12      2103\n",
            "           1       0.28      0.46      0.35      1420\n",
            "           2       0.24      0.16      0.19       702\n",
            "           3       0.42      0.59      0.49      2911\n",
            "\n",
            "    accuracy                           0.37      7136\n",
            "   macro avg       0.39      0.32      0.29      7136\n",
            "weighted avg       0.44      0.37      0.32      7136\n",
            "\n"
          ]
        }
      ],
      "source": [
        "print(\"Train:\")\n",
        "print(classification_report(yTrain.argmax(axis=1), ensemble_simple_train_labels, zero_division=0))\n",
        "print(\"Test:\")\n",
        "print(classification_report(yTest.argmax(axis=1), ensemble_simple_test_labels, zero_division=0))"
      ]
    },
    {
      "cell_type": "code",
      "execution_count": null,
      "metadata": {
        "id": "zPgKQ6tEZMiL",
        "outputId": "2798b7f1-4473-426a-cc2d-b0b56bbf48a0",
        "colab": {
          "base_uri": "https://localhost:8080/"
        }
      },
      "outputs": [
        {
          "output_type": "stream",
          "name": "stdout",
          "text": [
            "Model Train Accuracies:\n",
            "LR 1: 0.4494\n",
            "LR 2: 0.4487\n",
            "LR 3: 0.4451\n",
            "\n",
            "Model Test Accuracies:\n",
            "LR 1: 0.3104\n",
            "LR 2: 0.3515\n",
            "LR 3: 0.4183\n",
            "\n",
            "Ensemble Model:\n",
            "Training Accuracy: 0.4485\n",
            "Testing Accuracy: 0.3672\n",
            "There should be no overfitting.\n"
          ]
        }
      ],
      "source": [
        "from sklearn.metrics import accuracy_score\n",
        "\n",
        "lin1_train_labels = linmodel1_train_pred.argmax(axis=1)\n",
        "lin2_train_labels = linmodel2_train_pred.argmax(axis=1)\n",
        "lin3_train_labels = linmodel3_train_pred.argmax(axis=1)\n",
        "\n",
        "lin1_test_labels = linmodel1_test_pred.argmax(axis=1)\n",
        "lin2_test_labels = linmodel2_test_pred.argmax(axis=1)\n",
        "lin3_test_labels = linmodel3_test_pred.argmax(axis=1)\n",
        "\n",
        "lin1_train_accuracy = accuracy_score(yTrain.argmax(axis=1), lin1_train_labels)\n",
        "lin2_train_accuracy = accuracy_score(yTrain.argmax(axis=1), lin2_train_labels)\n",
        "lin3_train_accuracy = accuracy_score(yTrain.argmax(axis=1), lin3_train_labels)\n",
        "\n",
        "lin1_test_accuracy = accuracy_score(yTest.argmax(axis=1), lin1_test_labels)\n",
        "lin2_test_accuracy = accuracy_score(yTest.argmax(axis=1), lin2_test_labels)\n",
        "lin3_test_accuracy = accuracy_score(yTest.argmax(axis=1), lin3_test_labels)\n",
        "\n",
        "ensemble_simple_train_accuracy = accuracy_score(yTrain.argmax(axis=1), ensemble_simple_train_labels)\n",
        "ensemble_simple_test_accuracy = accuracy_score(yTest.argmax(axis=1), ensemble_simple_test_labels)\n",
        "\n",
        "print(\"Model Train Accuracies:\")\n",
        "print(f\"LR 1: {lin1_train_accuracy:.4f}\")\n",
        "print(f\"LR 2: {lin2_train_accuracy:.4f}\")\n",
        "print(f\"LR 3: {lin3_train_accuracy:.4f}\")\n",
        "print()\n",
        "\n",
        "print(\"Model Test Accuracies:\")\n",
        "print(f\"LR 1: {lin1_test_accuracy:.4f}\")\n",
        "print(f\"LR 2: {lin2_test_accuracy:.4f}\")\n",
        "print(f\"LR 3: {lin3_test_accuracy:.4f}\")\n",
        "print()\n",
        "\n",
        "print(\"Ensemble Model:\")\n",
        "print(f\"Training Accuracy: {ensemble_simple_train_accuracy:.4f}\")\n",
        "print(f\"Testing Accuracy: {ensemble_simple_test_accuracy:.4f}\")\n",
        "\n",
        "if ensemble_simple_test_accuracy > ensemble_simple_train_accuracy:\n",
        "    print(\"There could be overfitting.\")\n",
        "else:\n",
        "    print(\"There should be no overfitting.\")"
      ]
    },
    {
      "cell_type": "markdown",
      "metadata": {
        "collapsed": false,
        "id": "cQ0bgR3dKdwJ"
      },
      "source": [
        "## Medium Ensemble: 2 NN + 1 Linear"
      ]
    },
    {
      "cell_type": "code",
      "execution_count": null,
      "metadata": {
        "id": "8uWEHBN1Lw-b"
      },
      "outputs": [],
      "source": [
        "ensemble_medium_train_pred = (nn1_train_pred + nn2_train_pred + linmodel1_train_pred) / 3\n",
        "ensemble_medium_test_pred = (nn1_test_pred + nn2_test_pred + linmodel1_test_pred) / 3\n",
        "\n",
        "ensemble_medium_train_labels = ensemble_medium_train_pred.argmax(axis=1)\n",
        "ensemble_medium_test_labels = ensemble_medium_test_pred.argmax(axis=1)"
      ]
    },
    {
      "cell_type": "markdown",
      "metadata": {
        "id": "1pM1NsxiZMiL"
      },
      "source": [
        "## (Medium Ensemble) Evaluation"
      ]
    },
    {
      "cell_type": "code",
      "execution_count": null,
      "metadata": {
        "colab": {
          "base_uri": "https://localhost:8080/"
        },
        "id": "zjOtsvn1MDIJ",
        "outputId": "0cb68650-6e4b-43fe-afca-6749fede5db1"
      },
      "outputs": [
        {
          "output_type": "stream",
          "name": "stdout",
          "text": [
            "Train:\n",
            "              precision    recall  f1-score   support\n",
            "\n",
            "           0       0.50      0.53      0.51      8329\n",
            "           1       0.48      0.13      0.20      5709\n",
            "           2       0.37      0.04      0.07      2879\n",
            "           3       0.45      0.70      0.55     11626\n",
            "\n",
            "    accuracy                           0.47     28543\n",
            "   macro avg       0.45      0.35      0.33     28543\n",
            "weighted avg       0.46      0.47      0.42     28543\n",
            "\n",
            "Test:\n",
            "              precision    recall  f1-score   support\n",
            "\n",
            "           0       0.61      0.12      0.20      2103\n",
            "           1       0.31      0.41      0.35      1420\n",
            "           2       0.25      0.20      0.22       702\n",
            "           3       0.42      0.62      0.50      2911\n",
            "\n",
            "    accuracy                           0.39      7136\n",
            "   macro avg       0.40      0.34      0.32      7136\n",
            "weighted avg       0.44      0.39      0.36      7136\n",
            "\n"
          ]
        }
      ],
      "source": [
        "print(\"Train:\")\n",
        "print(classification_report(yTrain.argmax(axis=1), ensemble_medium_train_labels, zero_division=0))\n",
        "print(\"Test:\")\n",
        "print(classification_report(yTest.argmax(axis=1), ensemble_medium_test_labels, zero_division=0))"
      ]
    },
    {
      "cell_type": "code",
      "execution_count": null,
      "metadata": {
        "id": "Aogf3xAHZMiM",
        "outputId": "f369b009-5002-4aa7-c82d-52a93fd7dbad",
        "colab": {
          "base_uri": "https://localhost:8080/"
        }
      },
      "outputs": [
        {
          "output_type": "stream",
          "name": "stdout",
          "text": [
            "Model Train Accuracies:\n",
            "LR 1: 0.4494\n",
            "LR 2: 0.4487\n",
            "NN : 0.4652\n",
            "\n",
            "Model Test Accuracies:\n",
            "LR 1: 0.3104\n",
            "LR 2: 0.3515\n",
            "NN : 0.4330\n",
            "\n",
            "Ensemble Model:\n",
            "Training Accuracy: 0.4674\n",
            "Testing Accuracy: 0.3900\n",
            "There should be no overfitting.\n"
          ]
        }
      ],
      "source": [
        "lin1_train_labels = linmodel1_train_pred.argmax(axis=1)\n",
        "lin2_train_labels = linmodel2_train_pred.argmax(axis=1)\n",
        "\n",
        "lin1_test_labels = linmodel1_test_pred.argmax(axis=1)\n",
        "lin2_test_labels = linmodel2_test_pred.argmax(axis=1)\n",
        "\n",
        "lin1_train_accuracy = accuracy_score(yTrain.argmax(axis=1), lin1_train_labels)\n",
        "lin2_train_accuracy = accuracy_score(yTrain.argmax(axis=1), lin2_train_labels)\n",
        "nn1_train_accuracy = accuracy_score(yTrain.argmax(axis=1), nn1_train_labels)\n",
        "\n",
        "lin1_test_accuracy = accuracy_score(yTest.argmax(axis=1), lin1_test_labels)\n",
        "lin2_test_accuracy = accuracy_score(yTest.argmax(axis=1), lin2_test_labels)\n",
        "nn1_test_accuracy = accuracy_score(yTest.argmax(axis=1), nn1_test_labels)\n",
        "\n",
        "ensemble_medium_train_accuracy = accuracy_score(yTrain.argmax(axis=1), ensemble_medium_train_labels)\n",
        "ensemble_medium_test_accuracy = accuracy_score(yTest.argmax(axis=1), ensemble_medium_test_labels)\n",
        "\n",
        "print(\"Model Train Accuracies:\")\n",
        "print(f\"LR 1: {lin1_train_accuracy:.4f}\")\n",
        "print(f\"LR 2: {lin2_train_accuracy:.4f}\")\n",
        "print(f\"NN : {nn1_train_accuracy:.4f}\")\n",
        "print()\n",
        "\n",
        "print(\"Model Test Accuracies:\")\n",
        "print(f\"LR 1: {lin1_test_accuracy:.4f}\")\n",
        "print(f\"LR 2: {lin2_test_accuracy:.4f}\")\n",
        "print(f\"NN : {nn1_test_accuracy:.4f}\")\n",
        "print()\n",
        "\n",
        "print(\"Ensemble Model:\")\n",
        "print(f\"Training Accuracy: {ensemble_medium_train_accuracy:.4f}\")\n",
        "print(f\"Testing Accuracy: {ensemble_medium_test_accuracy:.4f}\")\n",
        "\n",
        "if ensemble_simple_test_accuracy > ensemble_simple_train_accuracy:\n",
        "    print(\"There could be overfitting.\")\n",
        "else:\n",
        "    print(\"There should be no overfitting.\")"
      ]
    },
    {
      "cell_type": "markdown",
      "metadata": {
        "collapsed": false,
        "id": "hRiQsX3wLuso"
      },
      "source": [
        "## Complex Ensemble: 2 NN + 1 RF"
      ]
    },
    {
      "cell_type": "code",
      "execution_count": null,
      "metadata": {
        "colab": {
          "base_uri": "https://localhost:8080/"
        },
        "id": "_dsTingOKdwJ",
        "outputId": "45be88a6-dd04-4488-f929-c80adccd7c01"
      },
      "outputs": [
        {
          "output_type": "stream",
          "name": "stdout",
          "text": [
            "ensemble_train_labels: [3 3 0 ... 3 1 0]\n",
            "ensemble_train_labels: [3 3 0 ... 3 1 0]\n"
          ]
        }
      ],
      "source": [
        "ensemble_train_pred = (nn1_train_pred + nn2_train_pred + RF_train_pred) / 3\n",
        "ensemble_test_pred = (nn1_test_pred + nn2_test_pred + RF_test_pred) / 3\n",
        "\n",
        "ensemble_train_labels = ensemble_train_pred.argmax(axis=1)\n",
        "ensemble_test_labels = ensemble_test_pred.argmax(axis=1)\n",
        "\n",
        "print(\"ensemble_train_labels:\",ensemble_train_labels)\n",
        "print(\"ensemble_train_labels:\",ensemble_train_labels)\n"
      ]
    },
    {
      "cell_type": "markdown",
      "metadata": {
        "id": "2aiDXl9YKdwJ"
      },
      "source": [
        "## Model Evaluation"
      ]
    },
    {
      "cell_type": "code",
      "execution_count": null,
      "metadata": {
        "colab": {
          "base_uri": "https://localhost:8080/"
        },
        "id": "BbtQHkdqKdwJ",
        "is_executing": true,
        "outputId": "e919594f-9886-4d0e-d38d-8470dcd4dcb5"
      },
      "outputs": [
        {
          "output_type": "stream",
          "name": "stdout",
          "text": [
            "Train:\n",
            "              precision    recall  f1-score   support\n",
            "\n",
            "           0       0.88      0.92      0.90      8329\n",
            "           1       0.96      0.75      0.84      5709\n",
            "           2       1.00      0.56      0.72      2879\n",
            "           3       0.83      0.99      0.90     11626\n",
            "\n",
            "    accuracy                           0.88     28543\n",
            "   macro avg       0.92      0.80      0.84     28543\n",
            "weighted avg       0.89      0.88      0.87     28543\n",
            "\n",
            "Test:\n",
            "              precision    recall  f1-score   support\n",
            "\n",
            "           0       0.58      0.17      0.27      2103\n",
            "           1       0.35      0.30      0.32      1420\n",
            "           2       0.30      0.11      0.16       702\n",
            "           3       0.42      0.73      0.53      2911\n",
            "\n",
            "    accuracy                           0.42      7136\n",
            "   macro avg       0.41      0.33      0.32      7136\n",
            "weighted avg       0.44      0.42      0.38      7136\n",
            "\n"
          ]
        }
      ],
      "source": [
        "print(\"Train:\")\n",
        "print(classification_report(yTrain.argmax(axis=1), ensemble_train_labels))\n",
        "print(\"Test:\")\n",
        "print(classification_report(yTest.argmax(axis=1), ensemble_test_labels))\n"
      ]
    },
    {
      "cell_type": "code",
      "execution_count": null,
      "metadata": {
        "id": "IB1kA0VcKdwJ",
        "outputId": "0c2ad4e7-e9a1-46e0-e106-8a8c722d83ff",
        "colab": {
          "base_uri": "https://localhost:8080/"
        }
      },
      "outputs": [
        {
          "output_type": "stream",
          "name": "stdout",
          "text": [
            "Model Train Accuracies:\n",
            "Neural Network 1: 0.4652\n",
            "Neural Network 2: 0.4660\n",
            "Random Forest: 1.0000\n",
            "\n",
            "Model Test Accuracies:\n",
            "Neural Network 1: 0.4330\n",
            "Neural Network 2: 0.4074\n",
            "Random Forest: 0.4098\n",
            "\n",
            "Ensemble Model:\n",
            "Training Accuracy: 0.8760\n",
            "Testing Accuracy: 0.4180\n",
            "There should be no overfitting.\n"
          ]
        }
      ],
      "source": [
        "nn1_train_accuracy = accuracy_score(yTrain.argmax(axis=1), nn1_train_labels)\n",
        "nn2_train_accuracy = accuracy_score(yTrain.argmax(axis=1), nn2_train_labels)\n",
        "RF_train_accuracy = accuracy_score(yTrain.argmax(axis=1), RF_train_labels)\n",
        "\n",
        "nn1_test_accuracy = accuracy_score(yTest.argmax(axis=1), nn1_test_labels)\n",
        "nn2_test_accuracy = accuracy_score(yTest.argmax(axis=1), nn2_test_labels)\n",
        "RF_test_accuracy = accuracy_score(yTest.argmax(axis=1), RF_test_labels)\n",
        "\n",
        "ensemble_train_accuracy = accuracy_score(yTrain.argmax(axis=1), ensemble_train_labels)\n",
        "ensemble_test_accuracy = accuracy_score(yTest.argmax(axis=1), ensemble_test_labels)\n",
        "\n",
        "print(\"Model Train Accuracies:\")\n",
        "print(f\"Neural Network 1: {nn1_train_accuracy:.4f}\")\n",
        "print(f\"Neural Network 2: {nn2_train_accuracy:.4f}\")\n",
        "print(f\"Random Forest: {RF_train_accuracy:.4f}\")\n",
        "print()\n",
        "\n",
        "print(\"Model Test Accuracies:\")\n",
        "print(f\"Neural Network 1: {nn1_test_accuracy:.4f}\")\n",
        "print(f\"Neural Network 2: {nn2_test_accuracy:.4f}\")\n",
        "print(f\"Random Forest: {RF_test_accuracy:.4f}\")\n",
        "print()\n",
        "\n",
        "print(\"Ensemble Model:\")\n",
        "print(f\"Training Accuracy: {ensemble_train_accuracy:.4f}\")\n",
        "print(f\"Testing Accuracy: {ensemble_test_accuracy:.4f}\")\n",
        "\n",
        "if ensemble_test_accuracy > ensemble_train_accuracy:\n",
        "    print(\"There could be overfitting.\")\n",
        "else:\n",
        "    print(\"There should be no overfitting.\")"
      ]
    },
    {
      "cell_type": "markdown",
      "metadata": {
        "id": "osrzE-LQkm97"
      },
      "source": [
        "## Stratified KFold + Complex Ensemble Evaluation"
      ]
    },
    {
      "cell_type": "code",
      "source": [
        "from sklearn.model_selection import StratifiedKFold\n",
        "\n",
        "# Initialize empty lists to store trained models\n",
        "nn1_models, nn2_models, rf_models, ridge1_models, ridge2_models, ridge3_models = [], [], [], [], [], []\n",
        "\n",
        "# Define StratifiedKFold instance\n",
        "skf = StratifiedKFold(n_splits=5, shuffle=True, random_state=10)\n",
        "\n",
        "mirror_strategy = tf.distribute.MirroredStrategy()\n",
        "\n",
        "for train_index, test_index in skf.split(x, y.argmax(axis=1)):\n",
        "    xTrain_fold, xTest_fold = x.iloc[train_index].values, x.iloc[test_index].values\n",
        "    yTrain_fold, yTest_fold = y[train_index], y[test_index]\n",
        "\n",
        "    # Scale data after splitting\n",
        "    scaler = MinMaxScaler()\n",
        "    xTrain_fold = scaler.fit_transform(xTrain_fold)\n",
        "    xTest_fold = scaler.transform(xTest_fold)  # Important: transform only using the train data scaling parameters\n",
        "\n",
        "    # Neural Network Training within the mirror_strategy scope\n",
        "    with mirror_strategy.scope():\n",
        "        nn_model1 = build_nn_model(xTrain_fold.shape[1:], yTrain_fold.shape[1])\n",
        "        nn_model2 = build_nn_model(xTrain_fold.shape[1:], yTrain_fold.shape[1])\n",
        "\n",
        "        nn_model1.fit(xTrain_fold, yTrain_fold, epochs=10, verbose=0)\n",
        "        nn_model2.fit(xTrain_fold, yTrain_fold, epochs=10, verbose=0)\n",
        "\n",
        "    # Random Forest Training\n",
        "    RF_model = RandomForestClassifier(n_estimators=100)\n",
        "    RF_model.fit(xTrain_fold, yTrain_fold.argmax(axis=1))\n",
        "\n",
        "    # Ridge Regression Training\n",
        "    linmodel_1 = Ridge(alpha=0.01)\n",
        "    linmodel_2 = Ridge(alpha=0.3)\n",
        "    linmodel_3 = Ridge(alpha=0.5)\n",
        "    linmodel_1.fit(xTrain_fold, yTrain_fold)\n",
        "    linmodel_2.fit(xTrain_fold, yTrain_fold)\n",
        "    linmodel_3.fit(xTrain_fold, yTrain_fold)\n",
        "\n",
        "    # Store trained models\n",
        "    nn1_models.append(nn_model1)\n",
        "    nn2_models.append(nn_model2)\n",
        "    rf_models.append(RF_model)\n",
        "    ridge1_models.append(linmodel_1)\n",
        "    ridge2_models.append(linmodel_2)\n",
        "    ridge3_models.append(linmodel_3)\n"
      ],
      "metadata": {
        "id": "UFGr0CQmg1Mq"
      },
      "execution_count": null,
      "outputs": []
    },
    {
      "cell_type": "code",
      "source": [
        "# Make predictions using the stored models on the entire dataset\n",
        "nn1_train_pred = nn1_models[0].predict(scale_xTrain)\n",
        "nn2_train_pred = nn2_models[0].predict(scale_xTrain)\n",
        "RF_train_pred = rf_models[0].predict_proba(scale_xTrain)\n",
        "\n",
        "nn1_test_pred = nn1_models[0].predict(scale_xTest)\n",
        "nn2_test_pred = nn2_models[0].predict(scale_xTest)\n",
        "RF_test_pred = rf_models[0].predict_proba(scale_xTest)\n",
        "\n",
        "# Complex Ensemble (2 NN + 1 RF)\n",
        "ensemble_train_pred = (nn1_train_pred + nn2_train_pred + RF_train_pred) / 3\n",
        "ensemble_test_pred = (nn1_test_pred + nn2_test_pred + RF_test_pred) / 3\n",
        "\n",
        "ensemble_train_labels = ensemble_train_pred.argmax(axis=1)\n",
        "ensemble_test_labels = ensemble_test_pred.argmax(axis=1)\n",
        "\n",
        "# Report results\n",
        "print(\"Train:\")\n",
        "print(classification_report(yTrain.argmax(axis=1), ensemble_train_labels))\n",
        "print(\"Test:\")\n",
        "print(classification_report(yTest.argmax(axis=1), ensemble_test_labels))\n"
      ],
      "metadata": {
        "id": "sY9eCj6Pjb46",
        "outputId": "054fe492-59d4-4e1f-ba08-7964fd821d01",
        "colab": {
          "base_uri": "https://localhost:8080/"
        }
      },
      "execution_count": null,
      "outputs": [
        {
          "output_type": "stream",
          "name": "stdout",
          "text": [
            "892/892 [==============================] - 5s 5ms/step\n",
            "892/892 [==============================] - 4s 4ms/step\n",
            "223/223 [==============================] - 1s 2ms/step\n",
            "223/223 [==============================] - 1s 2ms/step\n",
            "Train:\n",
            "              precision    recall  f1-score   support\n",
            "\n",
            "           0       0.55      0.80      0.66      8329\n",
            "           1       0.81      0.19      0.30      5709\n",
            "           2       0.89      0.07      0.13      2879\n",
            "           3       0.56      0.72      0.63     11626\n",
            "\n",
            "    accuracy                           0.57     28543\n",
            "   macro avg       0.70      0.44      0.43     28543\n",
            "weighted avg       0.64      0.57      0.52     28543\n",
            "\n",
            "Test:\n",
            "              precision    recall  f1-score   support\n",
            "\n",
            "           0       0.65      0.46      0.54      2103\n",
            "           1       0.59      0.37      0.45      1420\n",
            "           2       0.71      0.21      0.32       702\n",
            "           3       0.51      0.80      0.63      2911\n",
            "\n",
            "    accuracy                           0.56      7136\n",
            "   macro avg       0.61      0.46      0.48      7136\n",
            "weighted avg       0.59      0.56      0.53      7136\n",
            "\n"
          ]
        }
      ]
    }
  ],
  "metadata": {
    "colab": {
      "provenance": [],
      "gpuType": "T4"
    },
    "kernelspec": {
      "display_name": "Python 3",
      "name": "python3"
    },
    "language_info": {
      "codemirror_mode": {
        "name": "ipython",
        "version": 3
      },
      "file_extension": ".py",
      "mimetype": "text/x-python",
      "name": "python",
      "nbconvert_exporter": "python",
      "pygments_lexer": "ipython3",
      "version": "3.10.11"
    },
    "orig_nbformat": 4,
    "accelerator": "GPU"
  },
  "nbformat": 4,
  "nbformat_minor": 0
}
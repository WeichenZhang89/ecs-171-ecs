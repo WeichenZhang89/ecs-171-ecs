{
  "cells": [
    {
      "cell_type": "markdown",
      "metadata": {
        "id": "Z7VHtMsuKdwA"
      },
      "source": [
        "## Import Packages"
      ]
    },
    {
      "cell_type": "code",
      "execution_count": 20,
      "metadata": {
        "ExecuteTime": {
          "end_time": "2023-08-31T01:05:53.888815900Z",
          "start_time": "2023-08-31T01:05:53.825818200Z"
        },
        "id": "RpCC49oBKdwC"
      },
      "outputs": [],
      "source": [
        "import tensorflow as tf\n",
        "import pandas as pd\n",
        "from sklearn.ensemble import IsolationForest, RandomForestClassifier\n",
        "from sklearn.preprocessing import OneHotEncoder\n",
        "from sklearn.svm import SVC\n",
        "from sklearn.model_selection import train_test_split\n",
        "from sklearn.metrics import classification_report, accuracy_score\n",
        "from sklearn.preprocessing import PolynomialFeatures\n",
        "from sklearn.linear_model import LinearRegression\n",
        "from sklearn.pipeline import make_pipeline\n"
      ]
    },
    {
      "cell_type": "markdown",
      "metadata": {
        "id": "FCyKEtXvKdwD"
      },
      "source": [
        "## Read File"
      ]
    },
    {
      "cell_type": "code",
      "execution_count": 21,
      "metadata": {
        "ExecuteTime": {
          "end_time": "2023-08-31T01:05:54.070816300Z",
          "start_time": "2023-08-31T01:05:53.842816600Z"
        },
        "id": "Z9r3eextKdwD"
      },
      "outputs": [],
      "source": [
        "data = pd.read_csv('OnlineNewsPopularity.csv')\n",
        "data.columns = [col.strip() for col in data.columns]\n"
      ]
    },
    {
      "cell_type": "markdown",
      "metadata": {
        "id": "d2npfPrXKdwE"
      },
      "source": [
        "## Create isolation forest model to remove outliers\n",
        "[API Link to IF](https://scikit-learn.org/stable/modules/generated/sklearn.ensemble.IsolationForest.html#sklearn.ensemble.IsolationForest)"
      ]
    },
    {
      "cell_type": "code",
      "execution_count": 22,
      "metadata": {
        "ExecuteTime": {
          "end_time": "2023-08-31T01:05:54.491814900Z",
          "start_time": "2023-08-31T01:05:54.072816400Z"
        },
        "colab": {
          "base_uri": "https://localhost:8080/"
        },
        "id": "EnwNkiBeKdwE",
        "outputId": "b558c2b9-fdfd-4a71-f726-9753c8624d9b"
      },
      "outputs": [
        {
          "output_type": "stream",
          "name": "stderr",
          "text": [
            "/usr/local/lib/python3.10/dist-packages/sklearn/base.py:439: UserWarning: X does not have valid feature names, but IsolationForest was fitted with feature names\n",
            "  warnings.warn(\n"
          ]
        },
        {
          "output_type": "stream",
          "name": "stdout",
          "text": [
            "There are total 3965 rows been removied.\n"
          ]
        }
      ],
      "source": [
        "old_data_length = len(data)\n",
        "IF_model = IsolationForest(contamination=0.1) # Remove 10% data\n",
        "outliers = IF_model.fit_predict(data.drop(columns=['url', 'timedelta', 'shares'])) # Delete columns than don't need in IF and train IF model\n",
        "data['outliers'] = outliers\n",
        "\n",
        "# Remove outliers\n",
        "data_outliers = data[data['outliers'] == -1]\n",
        "new_data = data[data['outliers'] != -1].drop(columns = ['outliers'])\n",
        "\n",
        "new_data_len = len(new_data)\n",
        "\n",
        "print(f\"There are total {old_data_length - new_data_len} rows been removied.\")\n"
      ]
    },
    {
      "cell_type": "markdown",
      "metadata": {
        "id": "bQKxyaYjKdwF"
      },
      "source": [
        "## Creat a function to classify an article to different categories\n",
        "* Great Article: Shares >= 90%\n",
        "* Good Article: 70% <= Shares < 90%\n",
        "* Normal Article: 30% <= Shares < 70%\n",
        "* Bad article: Shares < 30%"
      ]
    },
    {
      "cell_type": "code",
      "execution_count": 23,
      "metadata": {
        "ExecuteTime": {
          "end_time": "2023-08-31T01:05:54.528815600Z",
          "start_time": "2023-08-31T01:05:54.487816400Z"
        },
        "id": "JKFSlNtjKdwF"
      },
      "outputs": [],
      "source": [
        "def article_classifier(shares, top_percent):\n",
        "    if shares >= top_percent[0.9]:\n",
        "        return 'Great'\n",
        "    elif shares >= top_percent[0.7]:\n",
        "        return 'Good'\n",
        "    elif shares >= top_percent[0.3]:\n",
        "        return 'Normal'\n",
        "    else:\n",
        "        return 'Bad'\n",
        ""
      ]
    },
    {
      "cell_type": "markdown",
      "metadata": {
        "id": "PDgcpF80KdwG"
      },
      "source": [
        "## Data Classifier"
      ]
    },
    {
      "cell_type": "code",
      "execution_count": 24,
      "metadata": {
        "ExecuteTime": {
          "end_time": "2023-08-31T01:05:56.068535900Z",
          "start_time": "2023-08-31T01:05:54.501816500Z"
        },
        "id": "0P13StGSKdwG"
      },
      "outputs": [],
      "source": [
        "top_percent = new_data['shares'].quantile([0.3, 0.7, 0.9])\n",
        "\n",
        "quality = []\n",
        "for index, row in new_data.iterrows():\n",
        "    quality.append(article_classifier(row['shares'], top_percent))\n",
        "\n",
        "new_data['quality'] = quality\n"
      ]
    },
    {
      "cell_type": "markdown",
      "metadata": {
        "id": "qHm0twoLKdwG"
      },
      "source": [
        "## Split dataset into x and y and one-hot encode quality column"
      ]
    },
    {
      "cell_type": "code",
      "execution_count": 25,
      "metadata": {
        "ExecuteTime": {
          "end_time": "2023-08-31T01:05:56.097536300Z",
          "start_time": "2023-08-31T01:05:56.072535300Z"
        },
        "id": "CZXqhVDOKdwG"
      },
      "outputs": [],
      "source": [
        "x = new_data.drop(columns=['quality', 'url', 'timedelta', 'shares'], axis=1)\n",
        "y = OneHotEncoder().fit_transform(new_data[['quality']]).toarray()\n"
      ]
    },
    {
      "cell_type": "markdown",
      "metadata": {
        "id": "RwnfA9raKdwG"
      },
      "source": [
        "## Train test split"
      ]
    },
    {
      "cell_type": "code",
      "execution_count": 26,
      "metadata": {
        "ExecuteTime": {
          "end_time": "2023-08-31T01:05:56.128535900Z",
          "start_time": "2023-08-31T01:05:56.098537Z"
        },
        "id": "esRYC5_WKdwG"
      },
      "outputs": [],
      "source": [
        "\n",
        "xTrain, xTest, yTrain, yTest = train_test_split(x, y, test_size=0.2, random_state=10)\n"
      ]
    },
    {
      "cell_type": "markdown",
      "metadata": {
        "id": "upbHAo5AKdwG"
      },
      "source": [
        "## Scale the data to Improve the speed of training Model"
      ]
    },
    {
      "cell_type": "code",
      "execution_count": null,
      "metadata": {
        "id": "wUdwB-HwKdwH",
        "outputId": "2177edac-9f52-4b20-e130-df151bc7153f"
      },
      "outputs": [
        {
          "name": "stdout",
          "output_type": "stream",
          "text": [
            "Requirement already satisfied: matplotlib in /Users/will./anaconda3/lib/python3.11/site-packages (3.7.1)\n",
            "Requirement already satisfied: contourpy>=1.0.1 in /Users/will./anaconda3/lib/python3.11/site-packages (from matplotlib) (1.0.5)\n",
            "Requirement already satisfied: cycler>=0.10 in /Users/will./anaconda3/lib/python3.11/site-packages (from matplotlib) (0.11.0)\n",
            "Requirement already satisfied: fonttools>=4.22.0 in /Users/will./anaconda3/lib/python3.11/site-packages (from matplotlib) (4.25.0)\n",
            "Requirement already satisfied: kiwisolver>=1.0.1 in /Users/will./anaconda3/lib/python3.11/site-packages (from matplotlib) (1.4.4)\n",
            "Requirement already satisfied: numpy>=1.20 in /Users/will./anaconda3/lib/python3.11/site-packages (from matplotlib) (1.24.3)\n",
            "Requirement already satisfied: packaging>=20.0 in /Users/will./anaconda3/lib/python3.11/site-packages (from matplotlib) (23.0)\n",
            "Requirement already satisfied: pillow>=6.2.0 in /Users/will./anaconda3/lib/python3.11/site-packages (from matplotlib) (9.4.0)\n",
            "Requirement already satisfied: pyparsing>=2.3.1 in /Users/will./anaconda3/lib/python3.11/site-packages (from matplotlib) (3.0.9)\n",
            "Requirement already satisfied: python-dateutil>=2.7 in /Users/will./anaconda3/lib/python3.11/site-packages (from matplotlib) (2.8.2)\n",
            "Requirement already satisfied: six>=1.5 in /Users/will./anaconda3/lib/python3.11/site-packages (from python-dateutil>=2.7->matplotlib) (1.16.0)\n"
          ]
        }
      ],
      "source": [
        "!pip install matplotlib"
      ]
    },
    {
      "cell_type": "code",
      "execution_count": 27,
      "metadata": {
        "ExecuteTime": {
          "end_time": "2023-08-31T01:05:56.161544400Z",
          "start_time": "2023-08-31T01:05:56.130535900Z"
        },
        "colab": {
          "base_uri": "https://localhost:8080/",
          "height": 1000
        },
        "id": "ILqpKHg1KdwH",
        "outputId": "07b629c8-4653-4120-9903-81408a6910a8"
      },
      "outputs": [
        {
          "output_type": "stream",
          "name": "stdout",
          "text": [
            "range of the xTrain:\n",
            "n_tokens_title                   2.000000e+01\n",
            "n_tokens_content                 7.053000e+03\n",
            "n_unique_tokens                  8.325642e-01\n",
            "n_non_stop_words                 5.237800e-08\n",
            "n_non_stop_unique_tokens         8.463732e-01\n",
            "num_hrefs                        3.040000e+02\n",
            "num_self_hrefs                   4.400000e+01\n",
            "num_imgs                         1.000000e+02\n",
            "num_videos                       6.500000e+01\n",
            "average_token_length             4.416949e+00\n",
            "num_keywords                     9.000000e+00\n",
            "data_channel_is_lifestyle        1.000000e+00\n",
            "data_channel_is_entertainment    1.000000e+00\n",
            "data_channel_is_bus              1.000000e+00\n",
            "data_channel_is_socmed           1.000000e+00\n",
            "data_channel_is_tech             1.000000e+00\n",
            "data_channel_is_world            1.000000e+00\n",
            "kw_min_min                       3.190000e+02\n",
            "kw_max_min                       1.022000e+05\n",
            "kw_avg_min                       1.471786e+04\n",
            "kw_min_max                       8.433000e+05\n",
            "kw_max_max                       8.433000e+05\n",
            "kw_avg_max                       8.433000e+05\n",
            "kw_min_avg                       3.614040e+03\n",
            "kw_max_avg                       1.219429e+05\n",
            "kw_avg_avg                       1.684454e+04\n",
            "self_reference_min_shares        2.103000e+05\n",
            "self_reference_max_shares        8.433000e+05\n",
            "self_reference_avg_sharess       4.465667e+05\n",
            "weekday_is_monday                1.000000e+00\n",
            "weekday_is_tuesday               1.000000e+00\n",
            "weekday_is_wednesday             1.000000e+00\n",
            "weekday_is_thursday              1.000000e+00\n",
            "weekday_is_friday                1.000000e+00\n",
            "weekday_is_saturday              1.000000e+00\n",
            "weekday_is_sunday                1.000000e+00\n",
            "is_weekend                       1.000000e+00\n",
            "LDA_00                           9.088117e-01\n",
            "LDA_01                           9.017941e-01\n",
            "LDA_02                           9.018171e-01\n",
            "LDA_03                           9.073601e-01\n",
            "LDA_04                           9.089368e-01\n",
            "global_subjectivity              9.375000e-01\n",
            "global_sentiment_polarity        1.002358e+00\n",
            "global_rate_positive_words       1.363636e-01\n",
            "global_rate_negative_words       1.849315e-01\n",
            "rate_positive_words              1.000000e+00\n",
            "rate_negative_words              1.000000e+00\n",
            "avg_positive_polarity            1.000000e+00\n",
            "min_positive_polarity            1.000000e+00\n",
            "max_positive_polarity            1.000000e+00\n",
            "avg_negative_polarity            1.000000e+00\n",
            "min_negative_polarity            1.000000e+00\n",
            "max_negative_polarity            1.000000e+00\n",
            "title_subjectivity               1.000000e+00\n",
            "title_sentiment_polarity         2.000000e+00\n",
            "abs_title_subjectivity           5.000000e-01\n",
            "abs_title_sentiment_polarity     1.000000e+00\n",
            "dtype: float64\n"
          ]
        },
        {
          "output_type": "display_data",
          "data": {
            "text/plain": [
              "<Figure size 640x480 with 1 Axes>"
            ],
            "image/png": "[encoded data removed]"
          },
          "metadata": {}
        }
      ],
      "source": [
        "\n",
        "from sklearn.preprocessing import MinMaxScaler\n",
        "\n",
        "import matplotlib.pyplot as plt\n",
        "\n",
        "\n",
        "scaler = MinMaxScaler()\n",
        "scale_xTrain = scaler.fit_transform(xTrain)\n",
        "scale_xTest = scaler.fit_transform(xTest)\n",
        "\n",
        "print(\"range of the xTrain:\")\n",
        "print(xTrain.max() - xTrain.min())\n",
        "for i in xTrain.columns:\n",
        "    plt.hist(xTrain[i])\n",
        "plt.title(\"Histogram of xTrain\")\n",
        "plt.show()\n",
        "\n"
      ]
    },
    {
      "cell_type": "markdown",
      "metadata": {
        "collapsed": false,
        "id": "YB9HkqenKdwH"
      },
      "source": [
        "## Create and train model(NN)"
      ]
    },
    {
      "cell_type": "code",
      "execution_count": 28,
      "metadata": {
        "ExecuteTime": {
          "end_time": "2023-08-31T01:06:24.759097300Z",
          "start_time": "2023-08-31T01:05:56.162545500Z"
        },
        "colab": {
          "base_uri": "https://localhost:8080/"
        },
        "id": "8_qTKInLKdwH",
        "outputId": "7a3eb83f-9468-47ce-b3e1-d4b727d36644"
      },
      "outputs": [
        {
          "output_type": "stream",
          "name": "stdout",
          "text": [
            "Epoch 1/10\n",
            "892/892 [==============================] - 5s 4ms/step - loss: 1.2223 - accuracy: 0.4292\n",
            "Epoch 2/10\n",
            "892/892 [==============================] - 5s 5ms/step - loss: 1.2014 - accuracy: 0.4416\n",
            "Epoch 3/10\n",
            "892/892 [==============================] - 4s 4ms/step - loss: 1.1927 - accuracy: 0.4455\n",
            "Epoch 4/10\n",
            "892/892 [==============================] - 4s 4ms/step - loss: 1.1879 - accuracy: 0.4466\n",
            "Epoch 5/10\n",
            "892/892 [==============================] - 5s 5ms/step - loss: 1.1820 - accuracy: 0.4509\n",
            "Epoch 6/10\n",
            "892/892 [==============================] - 4s 4ms/step - loss: 1.1791 - accuracy: 0.4530\n",
            "Epoch 7/10\n",
            "892/892 [==============================] - 4s 4ms/step - loss: 1.1750 - accuracy: 0.4547\n",
            "Epoch 8/10\n",
            "892/892 [==============================] - 6s 6ms/step - loss: 1.1712 - accuracy: 0.4554\n",
            "Epoch 9/10\n",
            "892/892 [==============================] - 5s 5ms/step - loss: 1.1670 - accuracy: 0.4590\n",
            "Epoch 10/10\n",
            "892/892 [==============================] - 4s 4ms/step - loss: 1.1628 - accuracy: 0.4605\n",
            "Epoch 1/10\n",
            "892/892 [==============================] - 5s 4ms/step - loss: 1.2242 - accuracy: 0.4292\n",
            "Epoch 2/10\n",
            "892/892 [==============================] - 5s 5ms/step - loss: 1.2023 - accuracy: 0.4401\n",
            "Epoch 3/10\n",
            "892/892 [==============================] - 4s 4ms/step - loss: 1.1950 - accuracy: 0.4397\n",
            "Epoch 4/10\n",
            "892/892 [==============================] - 4s 4ms/step - loss: 1.1887 - accuracy: 0.4449\n",
            "Epoch 5/10\n",
            "892/892 [==============================] - 5s 5ms/step - loss: 1.1841 - accuracy: 0.4493\n",
            "Epoch 6/10\n",
            "892/892 [==============================] - 4s 4ms/step - loss: 1.1796 - accuracy: 0.4519\n",
            "Epoch 7/10\n",
            "892/892 [==============================] - 4s 4ms/step - loss: 1.1744 - accuracy: 0.4559\n",
            "Epoch 8/10\n",
            "892/892 [==============================] - 5s 5ms/step - loss: 1.1715 - accuracy: 0.4556\n",
            "Epoch 9/10\n",
            "892/892 [==============================] - 4s 4ms/step - loss: 1.1681 - accuracy: 0.4585\n",
            "Epoch 10/10\n",
            "892/892 [==============================] - 4s 4ms/step - loss: 1.1625 - accuracy: 0.4611\n"
          ]
        }
      ],
      "source": [
        "def build_nn_model(input_shape, num_classes):\n",
        "    model = tf.keras.models.Sequential([\n",
        "        tf.keras.layers.Dense(128, activation='relu', input_shape=input_shape),\n",
        "        tf.keras.layers.Dense(64, activation='relu'),\n",
        "        tf.keras.layers.Dense(32, activation='relu'),\n",
        "        tf.keras.layers.Dense(num_classes, activation='softmax')\n",
        "    ])\n",
        "    model.compile(optimizer='adam', loss='categorical_crossentropy', metrics=['accuracy'])\n",
        "\n",
        "    return model\n",
        "\n",
        "mirror_strategy = tf.distribute.MirroredStrategy()\n",
        "with mirror_strategy.scope():\n",
        "    nn_model1 = build_nn_model(scale_xTrain.shape[1:], yTrain.shape[1])\n",
        "    nn_model2 = build_nn_model(scale_xTrain.shape[1:], yTrain.shape[1])\n",
        "\n",
        "    fit_speed = tf.data.Dataset.from_tensor_slices((scale_xTrain, yTrain))\n",
        "    fit_speed = fit_speed.repeat().batch(100)\n",
        "\n",
        "    nn_model1.fit(scale_xTrain, yTrain, epochs=10)\n",
        "    nn_model2.fit(scale_xTrain, yTrain, epochs=10)"
      ]
    },
    {
      "cell_type": "markdown",
      "metadata": {
        "id": "JbA7nJncKdwH"
      },
      "source": [
        "## Create and train model(Random Forest)"
      ]
    },
    {
      "cell_type": "code",
      "execution_count": 29,
      "metadata": {
        "ExecuteTime": {
          "end_time": "2023-08-31T01:06:41.546106200Z",
          "start_time": "2023-08-31T01:06:24.757451Z"
        },
        "colab": {
          "base_uri": "https://localhost:8080/",
          "height": 74
        },
        "id": "zQeVkgInKdwH",
        "outputId": "8177baac-e199-4b95-b332-77ee8a8832e6"
      },
      "outputs": [
        {
          "output_type": "execute_result",
          "data": {
            "text/plain": [
              "RandomForestClassifier()"
            ],
            "text/html": [
              "<style>#sk-container-id-3 {color: black;background-color: white;}#sk-container-id-3 pre{padding: 0;}#sk-container-id-3 div.sk-toggleable {background-color: white;}#sk-container-id-3 label.sk-toggleable__label {cursor: pointer;display: block;width: 100%;margin-bottom: 0;padding: 0.3em;box-sizing: border-box;text-align: center;}#sk-container-id-3 label.sk-toggleable__label-arrow:before {content: \"▸\";float: left;margin-right: 0.25em;color: #696969;}#sk-container-id-3 label.sk-toggleable__label-arrow:hover:before {color: black;}#sk-container-id-3 div.sk-estimator:hover label.sk-toggleable__label-arrow:before {color: black;}#sk-container-id-3 div.sk-toggleable__content {max-height: 0;max-width: 0;overflow: hidden;text-align: left;background-color: #f0f8ff;}#sk-container-id-3 div.sk-toggleable__content pre {margin: 0.2em;color: black;border-radius: 0.25em;background-color: #f0f8ff;}#sk-container-id-3 input.sk-toggleable__control:checked~div.sk-toggleable__content {max-height: 200px;max-width: 100%;overflow: auto;}#sk-container-id-3 input.sk-toggleable__control:checked~label.sk-toggleable__label-arrow:before {content: \"▾\";}#sk-container-id-3 div.sk-estimator input.sk-toggleable__control:checked~label.sk-toggleable__label {background-color: #d4ebff;}#sk-container-id-3 div.sk-label input.sk-toggleable__control:checked~label.sk-toggleable__label {background-color: #d4ebff;}#sk-container-id-3 input.sk-hidden--visually {border: 0;clip: rect(1px 1px 1px 1px);clip: rect(1px, 1px, 1px, 1px);height: 1px;margin: -1px;overflow: hidden;padding: 0;position: absolute;width: 1px;}#sk-container-id-3 div.sk-estimator {font-family: monospace;background-color: #f0f8ff;border: 1px dotted black;border-radius: 0.25em;box-sizing: border-box;margin-bottom: 0.5em;}#sk-container-id-3 div.sk-estimator:hover {background-color: #d4ebff;}#sk-container-id-3 div.sk-parallel-item::after {content: \"\";width: 100%;border-bottom: 1px solid gray;flex-grow: 1;}#sk-container-id-3 div.sk-label:hover label.sk-toggleable__label {background-color: #d4ebff;}#sk-container-id-3 div.sk-serial::before {content: \"\";position: absolute;border-left: 1px solid gray;box-sizing: border-box;top: 0;bottom: 0;left: 50%;z-index: 0;}#sk-container-id-3 div.sk-serial {display: flex;flex-direction: column;align-items: center;background-color: white;padding-right: 0.2em;padding-left: 0.2em;position: relative;}#sk-container-id-3 div.sk-item {position: relative;z-index: 1;}#sk-container-id-3 div.sk-parallel {display: flex;align-items: stretch;justify-content: center;background-color: white;position: relative;}#sk-container-id-3 div.sk-item::before, #sk-container-id-3 div.sk-parallel-item::before {content: \"\";position: absolute;border-left: 1px solid gray;box-sizing: border-box;top: 0;bottom: 0;left: 50%;z-index: -1;}#sk-container-id-3 div.sk-parallel-item {display: flex;flex-direction: column;z-index: 1;position: relative;background-color: white;}#sk-container-id-3 div.sk-parallel-item:first-child::after {align-self: flex-end;width: 50%;}#sk-container-id-3 div.sk-parallel-item:last-child::after {align-self: flex-start;width: 50%;}#sk-container-id-3 div.sk-parallel-item:only-child::after {width: 0;}#sk-container-id-3 div.sk-dashed-wrapped {border: 1px dashed gray;margin: 0 0.4em 0.5em 0.4em;box-sizing: border-box;padding-bottom: 0.4em;background-color: white;}#sk-container-id-3 div.sk-label label {font-family: monospace;font-weight: bold;display: inline-block;line-height: 1.2em;}#sk-container-id-3 div.sk-label-container {text-align: center;}#sk-container-id-3 div.sk-container {/* jupyter's `normalize.less` sets `[hidden] { display: none; }` but bootstrap.min.css set `[hidden] { display: none !important; }` so we also need the `!important` here to be able to override the default hidden behavior on the sphinx rendered scikit-learn.org. See: https://github.com/scikit-learn/scikit-learn/issues/21755 */display: inline-block !important;position: relative;}#sk-container-id-3 div.sk-text-repr-fallback {display: none;}</style><div id=\"sk-container-id-3\" class=\"sk-top-container\"><div class=\"sk-text-repr-fallback\"><pre>RandomForestClassifier()</pre><b>In a Jupyter environment, please rerun this cell to show the HTML representation or trust the notebook. <br />On GitHub, the HTML representation is unable to render, please try loading this page with nbviewer.org.</b></div><div class=\"sk-container\" hidden><div class=\"sk-item\"><div class=\"sk-estimator sk-toggleable\"><input class=\"sk-toggleable__control sk-hidden--visually\" id=\"sk-estimator-id-3\" type=\"checkbox\" checked><label for=\"sk-estimator-id-3\" class=\"sk-toggleable__label sk-toggleable__label-arrow\">RandomForestClassifier</label><div class=\"sk-toggleable__content\"><pre>RandomForestClassifier()</pre></div></div></div></div></div>"
            ]
          },
          "metadata": {},
          "execution_count": 29
        }
      ],
      "source": [
        "RF_model = RandomForestClassifier(n_estimators=100)\n",
        "RF_model.fit(scale_xTrain, yTrain.argmax(axis=1))\n"
      ]
    },
    {
      "cell_type": "markdown",
      "metadata": {
        "id": "i_B9lBybKdwH"
      },
      "source": [
        "## Make predictions with each model individually"
      ]
    },
    {
      "cell_type": "code",
      "execution_count": 30,
      "metadata": {
        "colab": {
          "base_uri": "https://localhost:8080/"
        },
        "id": "Jov8ALLxKdwI",
        "outputId": "1d784bc5-4198-43cd-92cc-3e034015601f"
      },
      "outputs": [
        {
          "output_type": "stream",
          "name": "stdout",
          "text": [
            "892/892 [==============================] - 3s 3ms/step\n",
            "892/892 [==============================] - 2s 2ms/step\n",
            "223/223 [==============================] - 1s 2ms/step\n",
            "223/223 [==============================] - 1s 3ms/step\n",
            "Shape:\n",
            "nn1_train_pred: (28543, 4)\n",
            "nn2_train_pred: (28543, 4)\n",
            "RF_train_pred: (28543, 4)\n",
            "Labels:\n",
            "nn1_train_pred: [1 0 3 ... 0 3 3]\n",
            "nn2_train_pred: [3 0 3 ... 3 3 3]\n",
            "RF_train_pred: [0 3 3 ... 0 3 0]\n",
            "nn1_test_pred: [3 1 3 ... 3 3 1]\n",
            "nn2_test_pred: [3 1 3 ... 3 3 1]\n",
            "RF_test_pred: [3 1 3 ... 3 3 1]\n",
            "\n"
          ]
        }
      ],
      "source": [
        "nn1_train_pred = nn_model1.predict(scale_xTrain)\n",
        "nn2_train_pred = nn_model2.predict(scale_xTrain)\n",
        "RF_train_pred = RF_model.predict_proba(scale_xTrain)\n",
        "\n",
        "nn1_test_pred = nn_model1.predict(scale_xTest)\n",
        "nn2_test_pred = nn_model2.predict(scale_xTest)\n",
        "RF_test_pred = RF_model.predict_proba(scale_xTest)\n",
        "\n",
        "print(\"Shape:\")\n",
        "print(\"nn1_train_pred:\", nn1_train_pred.shape)\n",
        "print(\"nn2_train_pred:\", nn2_train_pred.shape)\n",
        "print(\"RF_train_pred:\", RF_train_pred.shape)\n",
        "\n",
        "nn1_train_labels = nn1_train_pred.argmax(axis=1)\n",
        "nn2_train_labels = nn2_train_pred.argmax(axis=1)\n",
        "RF_train_labels = RF_train_pred.argmax(axis=1)\n",
        "\n",
        "nn1_test_labels = nn1_test_pred.argmax(axis=1)\n",
        "nn2_test_labels = nn2_test_pred.argmax(axis=1)\n",
        "RF_test_labels = RF_test_pred.argmax(axis=1)\n",
        "\n",
        "print(\"Labels:\")\n",
        "print(\"nn1_train_pred:\", nn1_train_labels)\n",
        "print(\"nn2_train_pred:\", nn2_train_labels)\n",
        "print(\"RF_train_pred:\", RF_train_labels)\n",
        "print(\"nn1_test_pred:\", nn1_test_labels)\n",
        "print(\"nn2_test_pred:\", nn2_test_labels)\n",
        "print(\"RF_test_pred:\", RF_test_labels)\n",
        "print()"
      ]
    },
    {
      "cell_type": "markdown",
      "metadata": {
        "id": "M8N6QCbHKdwI"
      },
      "source": [
        "## Simple Ensemble: 3 linear models"
      ]
    },
    {
      "cell_type": "markdown",
      "metadata": {
        "id": "nvfQHQNLKdwI"
      },
      "source": [
        "## Train the 3 linear models"
      ]
    },
    {
      "cell_type": "code",
      "execution_count": 31,
      "metadata": {
        "colab": {
          "base_uri": "https://localhost:8080/",
          "height": 74
        },
        "id": "tZiZJwW5KdwI",
        "outputId": "b9a77e61-360d-4216-8b73-713aba79b7b2"
      },
      "outputs": [
        {
          "output_type": "execute_result",
          "data": {
            "text/plain": [
              "LinearRegression()"
            ],
            "text/html": [
              "<style>#sk-container-id-4 {color: black;background-color: white;}#sk-container-id-4 pre{padding: 0;}#sk-container-id-4 div.sk-toggleable {background-color: white;}#sk-container-id-4 label.sk-toggleable__label {cursor: pointer;display: block;width: 100%;margin-bottom: 0;padding: 0.3em;box-sizing: border-box;text-align: center;}#sk-container-id-4 label.sk-toggleable__label-arrow:before {content: \"▸\";float: left;margin-right: 0.25em;color: #696969;}#sk-container-id-4 label.sk-toggleable__label-arrow:hover:before {color: black;}#sk-container-id-4 div.sk-estimator:hover label.sk-toggleable__label-arrow:before {color: black;}#sk-container-id-4 div.sk-toggleable__content {max-height: 0;max-width: 0;overflow: hidden;text-align: left;background-color: #f0f8ff;}#sk-container-id-4 div.sk-toggleable__content pre {margin: 0.2em;color: black;border-radius: 0.25em;background-color: #f0f8ff;}#sk-container-id-4 input.sk-toggleable__control:checked~div.sk-toggleable__content {max-height: 200px;max-width: 100%;overflow: auto;}#sk-container-id-4 input.sk-toggleable__control:checked~label.sk-toggleable__label-arrow:before {content: \"▾\";}#sk-container-id-4 div.sk-estimator input.sk-toggleable__control:checked~label.sk-toggleable__label {background-color: #d4ebff;}#sk-container-id-4 div.sk-label input.sk-toggleable__control:checked~label.sk-toggleable__label {background-color: #d4ebff;}#sk-container-id-4 input.sk-hidden--visually {border: 0;clip: rect(1px 1px 1px 1px);clip: rect(1px, 1px, 1px, 1px);height: 1px;margin: -1px;overflow: hidden;padding: 0;position: absolute;width: 1px;}#sk-container-id-4 div.sk-estimator {font-family: monospace;background-color: #f0f8ff;border: 1px dotted black;border-radius: 0.25em;box-sizing: border-box;margin-bottom: 0.5em;}#sk-container-id-4 div.sk-estimator:hover {background-color: #d4ebff;}#sk-container-id-4 div.sk-parallel-item::after {content: \"\";width: 100%;border-bottom: 1px solid gray;flex-grow: 1;}#sk-container-id-4 div.sk-label:hover label.sk-toggleable__label {background-color: #d4ebff;}#sk-container-id-4 div.sk-serial::before {content: \"\";position: absolute;border-left: 1px solid gray;box-sizing: border-box;top: 0;bottom: 0;left: 50%;z-index: 0;}#sk-container-id-4 div.sk-serial {display: flex;flex-direction: column;align-items: center;background-color: white;padding-right: 0.2em;padding-left: 0.2em;position: relative;}#sk-container-id-4 div.sk-item {position: relative;z-index: 1;}#sk-container-id-4 div.sk-parallel {display: flex;align-items: stretch;justify-content: center;background-color: white;position: relative;}#sk-container-id-4 div.sk-item::before, #sk-container-id-4 div.sk-parallel-item::before {content: \"\";position: absolute;border-left: 1px solid gray;box-sizing: border-box;top: 0;bottom: 0;left: 50%;z-index: -1;}#sk-container-id-4 div.sk-parallel-item {display: flex;flex-direction: column;z-index: 1;position: relative;background-color: white;}#sk-container-id-4 div.sk-parallel-item:first-child::after {align-self: flex-end;width: 50%;}#sk-container-id-4 div.sk-parallel-item:last-child::after {align-self: flex-start;width: 50%;}#sk-container-id-4 div.sk-parallel-item:only-child::after {width: 0;}#sk-container-id-4 div.sk-dashed-wrapped {border: 1px dashed gray;margin: 0 0.4em 0.5em 0.4em;box-sizing: border-box;padding-bottom: 0.4em;background-color: white;}#sk-container-id-4 div.sk-label label {font-family: monospace;font-weight: bold;display: inline-block;line-height: 1.2em;}#sk-container-id-4 div.sk-label-container {text-align: center;}#sk-container-id-4 div.sk-container {/* jupyter's `normalize.less` sets `[hidden] { display: none; }` but bootstrap.min.css set `[hidden] { display: none !important; }` so we also need the `!important` here to be able to override the default hidden behavior on the sphinx rendered scikit-learn.org. See: https://github.com/scikit-learn/scikit-learn/issues/21755 */display: inline-block !important;position: relative;}#sk-container-id-4 div.sk-text-repr-fallback {display: none;}</style><div id=\"sk-container-id-4\" class=\"sk-top-container\"><div class=\"sk-text-repr-fallback\"><pre>LinearRegression()</pre><b>In a Jupyter environment, please rerun this cell to show the HTML representation or trust the notebook. <br />On GitHub, the HTML representation is unable to render, please try loading this page with nbviewer.org.</b></div><div class=\"sk-container\" hidden><div class=\"sk-item\"><div class=\"sk-estimator sk-toggleable\"><input class=\"sk-toggleable__control sk-hidden--visually\" id=\"sk-estimator-id-4\" type=\"checkbox\" checked><label for=\"sk-estimator-id-4\" class=\"sk-toggleable__label sk-toggleable__label-arrow\">LinearRegression</label><div class=\"sk-toggleable__content\"><pre>LinearRegression()</pre></div></div></div></div></div>"
            ]
          },
          "metadata": {},
          "execution_count": 31
        }
      ],
      "source": [
        "from sklearn.linear_model import LinearRegression\n",
        "linmodel_1 = LinearRegression()\n",
        "linmodel_2 = LinearRegression()\n",
        "linmodel_3 = LinearRegression()\n",
        "\n",
        "linmodel_1.fit(scale_xTrain,yTrain)\n",
        "linmodel_2.fit(scale_xTrain,yTrain)\n",
        "linmodel_3.fit(scale_xTrain,yTrain)"
      ]
    },
    {
      "cell_type": "markdown",
      "metadata": {
        "id": "6ILWdYgIKdwI"
      },
      "source": [
        "## Get the predictions out of the 3 linear regression models"
      ]
    },
    {
      "cell_type": "code",
      "execution_count": 32,
      "metadata": {
        "id": "0m3P7N5vKdwI"
      },
      "outputs": [],
      "source": [
        "linmodel1_train_pred = linmodel_1.predict(scale_xTrain)\n",
        "linmodel2_train_pred = linmodel_2.predict(scale_xTrain)\n",
        "linmodel3_train_pred = linmodel_3.predict(scale_xTrain)\n",
        "\n",
        "linmodel1_test_pred = linmodel_1.predict(scale_xTest)\n",
        "linmodel2_test_pred = linmodel_2.predict(scale_xTest)\n",
        "linmodel3_test_pred = linmodel_3.predict(scale_xTest)"
      ]
    },
    {
      "cell_type": "markdown",
      "metadata": {
        "id": "GlD7AfLrKdwI"
      },
      "source": [
        "## Get the ensemble prediction"
      ]
    },
    {
      "cell_type": "code",
      "execution_count": 33,
      "metadata": {
        "id": "iV4FZAkkKdwI"
      },
      "outputs": [],
      "source": [
        "ensemble_simple_train_pred = (linmodel1_train_pred + linmodel2_train_pred + linmodel3_train_pred) / 3\n",
        "ensemble_simple_test_pred = (linmodel1_test_pred + linmodel2_test_pred + linmodel3_test_pred) / 3\n",
        "\n",
        "ensemble_simple_train_labels = ensemble_simple_train_pred.argmax(axis=1)\n",
        "ensemble_simple_test_labels = ensemble_simple_test_pred.argmax(axis=1)"
      ]
    },
    {
      "cell_type": "markdown",
      "metadata": {
        "id": "oXjGpYq0KdwI"
      },
      "source": [
        "## (Simple Ensemble) Classification Report"
      ]
    },
    {
      "cell_type": "code",
      "execution_count": 34,
      "metadata": {
        "colab": {
          "base_uri": "https://localhost:8080/"
        },
        "id": "zfC2ISbWKdwI",
        "outputId": "6ebc4696-8276-4dbd-ee29-15ec0a65ca55"
      },
      "outputs": [
        {
          "output_type": "stream",
          "name": "stdout",
          "text": [
            "Train:\n",
            "              precision    recall  f1-score   support\n",
            "\n",
            "           0       0.47      0.49      0.48      8336\n",
            "           1       0.37      0.07      0.12      5734\n",
            "           2       0.36      0.03      0.06      2887\n",
            "           3       0.44      0.71      0.54     11586\n",
            "\n",
            "    accuracy                           0.45     28543\n",
            "   macro avg       0.41      0.33      0.30     28543\n",
            "weighted avg       0.43      0.45      0.39     28543\n",
            "\n",
            "Test:\n",
            "              precision    recall  f1-score   support\n",
            "\n",
            "           0       0.00      0.00      0.00      2095\n",
            "           1       0.13      0.11      0.12      1406\n",
            "           2       0.11      0.89      0.19       729\n",
            "           3       0.00      0.00      0.00      2906\n",
            "\n",
            "    accuracy                           0.11      7136\n",
            "   macro avg       0.06      0.25      0.08      7136\n",
            "weighted avg       0.04      0.11      0.04      7136\n",
            "\n",
            "Training error\n"
          ]
        },
        {
          "output_type": "stream",
          "name": "stderr",
          "text": [
            "/usr/local/lib/python3.10/dist-packages/sklearn/metrics/_classification.py:1344: UndefinedMetricWarning: Precision and F-score are ill-defined and being set to 0.0 in labels with no predicted samples. Use `zero_division` parameter to control this behavior.\n",
            "  _warn_prf(average, modifier, msg_start, len(result))\n",
            "/usr/local/lib/python3.10/dist-packages/sklearn/metrics/_classification.py:1344: UndefinedMetricWarning: Precision and F-score are ill-defined and being set to 0.0 in labels with no predicted samples. Use `zero_division` parameter to control this behavior.\n",
            "  _warn_prf(average, modifier, msg_start, len(result))\n",
            "/usr/local/lib/python3.10/dist-packages/sklearn/metrics/_classification.py:1344: UndefinedMetricWarning: Precision and F-score are ill-defined and being set to 0.0 in labels with no predicted samples. Use `zero_division` parameter to control this behavior.\n",
            "  _warn_prf(average, modifier, msg_start, len(result))\n"
          ]
        }
      ],
      "source": [
        "print(\"Train:\")\n",
        "print(classification_report(yTrain.argmax(axis=1), ensemble_simple_train_labels))\n",
        "print(\"Test:\")\n",
        "print(classification_report(yTest.argmax(axis=1), ensemble_simple_test_labels))\n",
        "\n",
        "print(\"Training error\")"
      ]
    },
    {
      "cell_type": "markdown",
      "metadata": {
        "collapsed": false,
        "id": "cQ0bgR3dKdwJ"
      },
      "source": [
        "## Medium Complex Ensemble: 2 NN + 1 Linear"
      ]
    },
    {
      "cell_type": "code",
      "source": [
        "ensemble_medium_train_pred = (nn1_train_pred + nn2_train_pred + linmodel1_train_pred) / 3\n",
        "ensemble_medium_test_pred = (nn1_test_pred + nn2_test_pred + linmodel1_test_pred) / 3\n",
        "\n",
        "ensemble_train_labels = ensemble_medium_train_pred.argmax(axis=1)\n",
        "ensemble_test_labels = ensemble_medium_test_pred.argmax(axis=1)"
      ],
      "metadata": {
        "id": "8uWEHBN1Lw-b"
      },
      "execution_count": 37,
      "outputs": []
    },
    {
      "cell_type": "code",
      "source": [
        "print(\"Train:\")\n",
        "print(classification_report(yTrain.argmax(axis=1), ensemble_train_labels))\n",
        "print(\"Test:\")\n",
        "print(classification_report(yTest.argmax(axis=1), ensemble_test_labels))"
      ],
      "metadata": {
        "id": "zjOtsvn1MDIJ",
        "outputId": "93b12e0b-88d4-4ef8-c6cc-447e463362ad",
        "colab": {
          "base_uri": "https://localhost:8080/"
        }
      },
      "execution_count": 38,
      "outputs": [
        {
          "output_type": "stream",
          "name": "stdout",
          "text": [
            "Train:\n",
            "              precision    recall  f1-score   support\n",
            "\n",
            "           0       0.52      0.45      0.48      8336\n",
            "           1       0.45      0.14      0.22      5734\n",
            "           2       0.41      0.02      0.04      2887\n",
            "           3       0.45      0.75      0.56     11586\n",
            "\n",
            "    accuracy                           0.47     28543\n",
            "   macro avg       0.46      0.34      0.32     28543\n",
            "weighted avg       0.47      0.47      0.42     28543\n",
            "\n",
            "Test:\n",
            "              precision    recall  f1-score   support\n",
            "\n",
            "           0       0.00      0.00      0.00      2095\n",
            "           1       0.13      0.11      0.12      1406\n",
            "           2       0.11      0.89      0.19       729\n",
            "           3       0.00      0.00      0.00      2906\n",
            "\n",
            "    accuracy                           0.11      7136\n",
            "   macro avg       0.06      0.25      0.08      7136\n",
            "weighted avg       0.04      0.11      0.04      7136\n",
            "\n"
          ]
        },
        {
          "output_type": "stream",
          "name": "stderr",
          "text": [
            "/usr/local/lib/python3.10/dist-packages/sklearn/metrics/_classification.py:1344: UndefinedMetricWarning: Precision and F-score are ill-defined and being set to 0.0 in labels with no predicted samples. Use `zero_division` parameter to control this behavior.\n",
            "  _warn_prf(average, modifier, msg_start, len(result))\n",
            "/usr/local/lib/python3.10/dist-packages/sklearn/metrics/_classification.py:1344: UndefinedMetricWarning: Precision and F-score are ill-defined and being set to 0.0 in labels with no predicted samples. Use `zero_division` parameter to control this behavior.\n",
            "  _warn_prf(average, modifier, msg_start, len(result))\n",
            "/usr/local/lib/python3.10/dist-packages/sklearn/metrics/_classification.py:1344: UndefinedMetricWarning: Precision and F-score are ill-defined and being set to 0.0 in labels with no predicted samples. Use `zero_division` parameter to control this behavior.\n",
            "  _warn_prf(average, modifier, msg_start, len(result))\n"
          ]
        }
      ]
    },
    {
      "cell_type": "markdown",
      "metadata": {
        "collapsed": false,
        "id": "hRiQsX3wLuso"
      },
      "source": [
        "## Complex Ensemble: 2 NN + 1 RF"
      ]
    },
    {
      "cell_type": "code",
      "execution_count": 35,
      "metadata": {
        "colab": {
          "base_uri": "https://localhost:8080/"
        },
        "id": "_dsTingOKdwJ",
        "outputId": "cb93153f-980d-4df9-e231-c4ba8f6e99a9"
      },
      "outputs": [
        {
          "output_type": "stream",
          "name": "stdout",
          "text": [
            "ensemble_train_labels: [0 3 3 ... 0 3 3]\n",
            "ensemble_train_labels: [0 3 3 ... 0 3 3]\n"
          ]
        }
      ],
      "source": [
        "ensemble_train_pred = (nn1_train_pred + nn2_train_pred + RF_train_pred) / 3\n",
        "ensemble_test_pred = (nn1_test_pred + nn2_test_pred + RF_test_pred) / 3\n",
        "\n",
        "ensemble_train_labels = ensemble_train_pred.argmax(axis=1)\n",
        "ensemble_test_labels = ensemble_test_pred.argmax(axis=1)\n",
        "\n",
        "print(\"ensemble_train_labels:\",ensemble_train_labels)\n",
        "print(\"ensemble_train_labels:\",ensemble_train_labels)\n"
      ]
    },
    {
      "cell_type": "markdown",
      "metadata": {
        "id": "2aiDXl9YKdwJ"
      },
      "source": [
        "## Model Evaluation"
      ]
    },
    {
      "cell_type": "code",
      "execution_count": 36,
      "metadata": {
        "is_executing": true,
        "colab": {
          "base_uri": "https://localhost:8080/"
        },
        "id": "BbtQHkdqKdwJ",
        "outputId": "f51a2489-6c2b-4afa-ad26-d40ae8d442db"
      },
      "outputs": [
        {
          "output_type": "stream",
          "name": "stdout",
          "text": [
            "Train:\n",
            "              precision    recall  f1-score   support\n",
            "\n",
            "           0       0.89      0.88      0.89      8336\n",
            "           1       0.93      0.69      0.80      5734\n",
            "           2       1.00      0.45      0.62      2887\n",
            "           3       0.77      0.98      0.86     11586\n",
            "\n",
            "    accuracy                           0.84     28543\n",
            "   macro avg       0.90      0.75      0.79     28543\n",
            "weighted avg       0.86      0.84      0.83     28543\n",
            "\n",
            "Test:\n",
            "              precision    recall  f1-score   support\n",
            "\n",
            "           0       0.58      0.27      0.36      2095\n",
            "           1       0.39      0.23      0.28      1406\n",
            "           2       0.34      0.03      0.06       729\n",
            "           3       0.44      0.80      0.57      2906\n",
            "\n",
            "    accuracy                           0.45      7136\n",
            "   macro avg       0.44      0.33      0.32      7136\n",
            "weighted avg       0.46      0.45      0.40      7136\n",
            "\n"
          ]
        }
      ],
      "source": [
        "print(\"Train:\")\n",
        "print(classification_report(yTrain.argmax(axis=1), ensemble_train_labels))\n",
        "print(\"Test:\")\n",
        "print(classification_report(yTest.argmax(axis=1), ensemble_test_labels))\n"
      ]
    },
    {
      "cell_type": "code",
      "execution_count": null,
      "metadata": {
        "id": "IB1kA0VcKdwJ",
        "outputId": "d2523127-b6e1-4e46-8edb-5ef0dae96767"
      },
      "outputs": [
        {
          "name": "stdout",
          "output_type": "stream",
          "text": [
            "Model Train Accuracies:\n",
            "Neural Network 1: 0.4598\n",
            "Neural Network 2: 0.4655\n",
            "Random Forest: 1.0000\n",
            "\n",
            "Model Test Accuracies:\n",
            "Neural Network 1: 0.4301\n",
            "Neural Network 2: 0.4409\n",
            "Random Forest: 0.4261\n",
            "\n",
            "Ensemble Model:\n",
            "Training Accuracy: 0.8786\n",
            "Testing Accuracy: 0.4410\n"
          ]
        }
      ],
      "source": [
        "from sklearn.metrics import accuracy_score\n",
        "nn1_train_accuracy = accuracy_score(yTrain.argmax(axis=1), nn1_train_labels)\n",
        "nn2_train_accuracy = accuracy_score(yTrain.argmax(axis=1), nn2_train_labels)\n",
        "RF_train_accuracy = accuracy_score(yTrain.argmax(axis=1), RF_train_labels)\n",
        "\n",
        "nn1_test_accuracy = accuracy_score(yTest.argmax(axis=1), nn1_test_labels)\n",
        "nn2_test_accuracy = accuracy_score(yTest.argmax(axis=1), nn2_test_labels)\n",
        "RF_test_accuracy = accuracy_score(yTest.argmax(axis=1), RF_test_labels)\n",
        "\n",
        "ensemble_train_accuracy = accuracy_score(yTrain.argmax(axis=1), ensemble_train_labels)\n",
        "ensemble_test_accuracy = accuracy_score(yTest.argmax(axis=1), ensemble_test_labels)\n",
        "\n",
        "print(\"Model Train Accuracies:\")\n",
        "print(f\"Neural Network 1: {nn1_train_accuracy:.4f}\")\n",
        "print(f\"Neural Network 2: {nn2_train_accuracy:.4f}\")\n",
        "print(f\"Random Forest: {RF_train_accuracy:.4f}\")\n",
        "print()\n",
        "\n",
        "print(\"Model Test Accuracies:\")\n",
        "print(f\"Neural Network 1: {nn1_test_accuracy:.4f}\")\n",
        "print(f\"Neural Network 2: {nn2_test_accuracy:.4f}\")\n",
        "print(f\"Random Forest: {RF_test_accuracy:.4f}\")\n",
        "print()\n",
        "\n",
        "print(\"Ensemble Model:\")\n",
        "print(f\"Training Accuracy: {ensemble_train_accuracy:.4f}\")\n",
        "print(f\"Testing Accuracy: {ensemble_test_accuracy:.4f}\")"
      ]
    }
  ],
  "metadata": {
    "kernelspec": {
      "display_name": "Python 3 (ipykernel)",
      "language": "python",
      "name": "python3"
    },
    "language_info": {
      "codemirror_mode": {
        "name": "ipython",
        "version": 3
      },
      "file_extension": ".py",
      "mimetype": "text/x-python",
      "name": "python",
      "nbconvert_exporter": "python",
      "pygments_lexer": "ipython3",
      "version": "3.11.4"
    },
    "orig_nbformat": 4,
    "colab": {
      "provenance": []
    }
  },
  "nbformat": 4,
  "nbformat_minor": 0
}
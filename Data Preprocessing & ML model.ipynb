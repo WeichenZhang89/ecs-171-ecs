{
 "cells": [
  {
   "cell_type": "markdown",
   "metadata": {},
   "source": [
    "## Import Packages"
   ]
  },
  {
   "cell_type": "code",
   "execution_count": 70,
   "metadata": {
    "ExecuteTime": {
     "end_time": "2023-08-31T01:05:53.888815900Z",
     "start_time": "2023-08-31T01:05:53.825818200Z"
    }
   },
   "outputs": [],
   "source": [
    "import tensorflow as tf\n",
    "import pandas as pd\n",
    "from sklearn.ensemble import IsolationForest, RandomForestClassifier\n",
    "from sklearn.preprocessing import OneHotEncoder\n",
    "from sklearn.svm import SVC\n",
    "from sklearn.model_selection import train_test_split\n",
    "from sklearn.metrics import classification_report, accuracy_score\n",
    "from sklearn.preprocessing import PolynomialFeatures\n",
    "from sklearn.linear_model import LinearRegression\n",
    "from sklearn.pipeline import make_pipeline\n"
   ]
  },
  {
   "cell_type": "markdown",
   "metadata": {},
   "source": [
    "## Read File"
   ]
  },
  {
   "cell_type": "code",
   "execution_count": 71,
   "metadata": {
    "ExecuteTime": {
     "end_time": "2023-08-31T01:05:54.070816300Z",
     "start_time": "2023-08-31T01:05:53.842816600Z"
    }
   },
   "outputs": [],
   "source": [
    "data = pd.read_csv('OnlineNewsPopularity.csv')\n",
    "data.columns = [col.strip() for col in data.columns]\n"
   ]
  },
  {
   "cell_type": "markdown",
   "metadata": {},
   "source": [
    "## Create isolation forest model to remove outliers\n",
    "[API Link to IF](https://scikit-learn.org/stable/modules/generated/sklearn.ensemble.IsolationForest.html#sklearn.ensemble.IsolationForest)"
   ]
  },
  {
   "cell_type": "code",
   "execution_count": 72,
   "metadata": {
    "ExecuteTime": {
     "end_time": "2023-08-31T01:05:54.491814900Z",
     "start_time": "2023-08-31T01:05:54.072816400Z"
    }
   },
   "outputs": [
    {
     "name": "stderr",
     "output_type": "stream",
     "text": [
      "/Users/will./anaconda3/lib/python3.11/site-packages/sklearn/base.py:450: UserWarning: X does not have valid feature names, but IsolationForest was fitted with feature names\n",
      "  warnings.warn(\n"
     ]
    },
    {
     "name": "stdout",
     "output_type": "stream",
     "text": [
      "There are total 3965 rows been removied.\n"
     ]
    }
   ],
   "source": [
    "old_data_length = len(data)\n",
    "IF_model = IsolationForest(contamination=0.1) # Remove 10% data\n",
    "outliers = IF_model.fit_predict(data.drop(columns=['url', 'timedelta', 'shares'])) # Delete columns than don't need in IF and train IF model\n",
    "data['outliers'] = outliers\n",
    "\n",
    "# Remove outliers\n",
    "data_outliers = data[data['outliers'] == -1]\n",
    "new_data = data[data['outliers'] != -1].drop(columns = ['outliers'])\n",
    "\n",
    "new_data_len = len(new_data)\n",
    "\n",
    "print(f\"There are total {old_data_length - new_data_len} rows been removied.\")\n"
   ]
  },
  {
   "cell_type": "markdown",
   "metadata": {},
   "source": [
    "## Creat a function to classify an article to different categories\n",
    "* Great Article: Shares >= 90%\n",
    "* Good Article: 70% <= Shares < 90%\n",
    "* Normal Article: 30% <= Shares < 70%\n",
    "* Bad article: Shares < 30%"
   ]
  },
  {
   "cell_type": "code",
   "execution_count": 73,
   "metadata": {
    "ExecuteTime": {
     "end_time": "2023-08-31T01:05:54.528815600Z",
     "start_time": "2023-08-31T01:05:54.487816400Z"
    }
   },
   "outputs": [],
   "source": [
    "def article_classifier(shares, top_percent):\n",
    "    if shares >= top_percent[0.9]:\n",
    "        return 'Great'\n",
    "    elif shares >= top_percent[0.7]:\n",
    "        return 'Good'\n",
    "    elif shares >= top_percent[0.3]:\n",
    "        return 'Normal'\n",
    "    else:\n",
    "        return 'Bad'\n",
    "        "
   ]
  },
  {
   "cell_type": "markdown",
   "metadata": {},
   "source": [
    "## Data Classifier"
   ]
  },
  {
   "cell_type": "code",
   "execution_count": 74,
   "metadata": {
    "ExecuteTime": {
     "end_time": "2023-08-31T01:05:56.068535900Z",
     "start_time": "2023-08-31T01:05:54.501816500Z"
    }
   },
   "outputs": [],
   "source": [
    "top_percent = new_data['shares'].quantile([0.3, 0.7, 0.9])\n",
    "\n",
    "quality = []\n",
    "for index, row in new_data.iterrows():\n",
    "    quality.append(article_classifier(row['shares'], top_percent))\n",
    "\n",
    "new_data['quality'] = quality\n"
   ]
  },
  {
   "cell_type": "markdown",
   "metadata": {},
   "source": [
    "## Split dataset into x and y and one-hot encode quality column"
   ]
  },
  {
   "cell_type": "code",
   "execution_count": 75,
   "metadata": {
    "ExecuteTime": {
     "end_time": "2023-08-31T01:05:56.097536300Z",
     "start_time": "2023-08-31T01:05:56.072535300Z"
    }
   },
   "outputs": [],
   "source": [
    "x = new_data.drop(columns=['quality', 'url', 'timedelta', 'shares'], axis=1)\n",
    "y = OneHotEncoder().fit_transform(new_data[['quality']]).toarray()\n"
   ]
  },
  {
   "cell_type": "markdown",
   "metadata": {},
   "source": [
    "## Train test split"
   ]
  },
  {
   "cell_type": "code",
   "execution_count": 76,
   "metadata": {
    "ExecuteTime": {
     "end_time": "2023-08-31T01:05:56.128535900Z",
     "start_time": "2023-08-31T01:05:56.098537Z"
    }
   },
   "outputs": [],
   "source": [
    "\n",
    "xTrain, xTest, yTrain, yTest = train_test_split(x, y, test_size=0.2, random_state=10)\n"
   ]
  },
  {
   "cell_type": "markdown",
   "metadata": {},
   "source": [
    "## Scale the data to Improve the speed of training Model"
   ]
  },
  {
   "cell_type": "code",
   "execution_count": 77,
   "metadata": {},
   "outputs": [
    {
     "name": "stdout",
     "output_type": "stream",
     "text": [
      "Requirement already satisfied: matplotlib in /Users/will./anaconda3/lib/python3.11/site-packages (3.7.1)\n",
      "Requirement already satisfied: contourpy>=1.0.1 in /Users/will./anaconda3/lib/python3.11/site-packages (from matplotlib) (1.0.5)\n",
      "Requirement already satisfied: cycler>=0.10 in /Users/will./anaconda3/lib/python3.11/site-packages (from matplotlib) (0.11.0)\n",
      "Requirement already satisfied: fonttools>=4.22.0 in /Users/will./anaconda3/lib/python3.11/site-packages (from matplotlib) (4.25.0)\n",
      "Requirement already satisfied: kiwisolver>=1.0.1 in /Users/will./anaconda3/lib/python3.11/site-packages (from matplotlib) (1.4.4)\n",
      "Requirement already satisfied: numpy>=1.20 in /Users/will./anaconda3/lib/python3.11/site-packages (from matplotlib) (1.24.3)\n",
      "Requirement already satisfied: packaging>=20.0 in /Users/will./anaconda3/lib/python3.11/site-packages (from matplotlib) (23.0)\n",
      "Requirement already satisfied: pillow>=6.2.0 in /Users/will./anaconda3/lib/python3.11/site-packages (from matplotlib) (9.4.0)\n",
      "Requirement already satisfied: pyparsing>=2.3.1 in /Users/will./anaconda3/lib/python3.11/site-packages (from matplotlib) (3.0.9)\n",
      "Requirement already satisfied: python-dateutil>=2.7 in /Users/will./anaconda3/lib/python3.11/site-packages (from matplotlib) (2.8.2)\n",
      "Requirement already satisfied: six>=1.5 in /Users/will./anaconda3/lib/python3.11/site-packages (from python-dateutil>=2.7->matplotlib) (1.16.0)\n"
     ]
    }
   ],
   "source": [
    "!pip install matplotlib"
   ]
  },
  {
   "cell_type": "code",
   "execution_count": 78,
   "metadata": {
    "ExecuteTime": {
     "end_time": "2023-08-31T01:05:56.161544400Z",
     "start_time": "2023-08-31T01:05:56.130535900Z"
    }
   },
   "outputs": [
    {
     "name": "stdout",
     "output_type": "stream",
     "text": [
      "range of the xTrain:\n",
      "n_tokens_title                   1.800000e+01\n",
      "n_tokens_content                 7.053000e+03\n",
      "n_unique_tokens                  7.857646e-01\n",
      "n_non_stop_words                 5.237800e-08\n",
      "n_non_stop_unique_tokens         8.259740e-01\n",
      "num_hrefs                        3.040000e+02\n",
      "num_self_hrefs                   4.400000e+01\n",
      "num_imgs                         1.000000e+02\n",
      "num_videos                       6.600000e+01\n",
      "average_token_length             4.441534e+00\n",
      "num_keywords                     9.000000e+00\n",
      "data_channel_is_lifestyle        1.000000e+00\n",
      "data_channel_is_entertainment    1.000000e+00\n",
      "data_channel_is_bus              1.000000e+00\n",
      "data_channel_is_socmed           1.000000e+00\n",
      "data_channel_is_tech             1.000000e+00\n",
      "data_channel_is_world            1.000000e+00\n",
      "kw_min_min                       3.780000e+02\n",
      "kw_max_min                       4.010000e+04\n",
      "kw_avg_min                       5.865571e+03\n",
      "kw_min_max                       8.433000e+05\n",
      "kw_max_max                       8.433000e+05\n",
      "kw_avg_max                       8.433000e+05\n",
      "kw_min_avg                       3.614040e+03\n",
      "kw_max_avg                       1.647250e+05\n",
      "kw_avg_avg                       1.942929e+04\n",
      "self_reference_min_shares        1.967000e+05\n",
      "self_reference_max_shares        8.433000e+05\n",
      "self_reference_avg_sharess       4.465667e+05\n",
      "weekday_is_monday                1.000000e+00\n",
      "weekday_is_tuesday               1.000000e+00\n",
      "weekday_is_wednesday             1.000000e+00\n",
      "weekday_is_thursday              1.000000e+00\n",
      "weekday_is_friday                1.000000e+00\n",
      "weekday_is_saturday              1.000000e+00\n",
      "weekday_is_sunday                1.000000e+00\n",
      "is_weekend                       1.000000e+00\n",
      "LDA_00                           9.088124e-01\n",
      "LDA_01                           9.017942e-01\n",
      "LDA_02                           9.018169e-01\n",
      "LDA_03                           9.073601e-01\n",
      "LDA_04                           9.089368e-01\n",
      "global_subjectivity              9.777778e-01\n",
      "global_sentiment_polarity        9.365801e-01\n",
      "global_rate_positive_words       1.554878e-01\n",
      "global_rate_negative_words       8.616780e-02\n",
      "rate_positive_words              1.000000e+00\n",
      "rate_negative_words              1.000000e+00\n",
      "avg_positive_polarity            1.000000e+00\n",
      "min_positive_polarity            1.000000e+00\n",
      "max_positive_polarity            1.000000e+00\n",
      "avg_negative_polarity            1.000000e+00\n",
      "min_negative_polarity            1.000000e+00\n",
      "max_negative_polarity            1.000000e+00\n",
      "title_subjectivity               1.000000e+00\n",
      "title_sentiment_polarity         2.000000e+00\n",
      "abs_title_subjectivity           5.000000e-01\n",
      "abs_title_sentiment_polarity     1.000000e+00\n",
      "dtype: float64\n"
     ]
    },
    {
     "data": {
      "image/png": "[encoded data removed]",
      "text/plain": [
       "<Figure size 640x480 with 1 Axes>"
      ]
     },
     "metadata": {},
     "output_type": "display_data"
    }
   ],
   "source": [
    "\n",
    "from sklearn.preprocessing import MinMaxScaler\n",
    "\n",
    "import matplotlib.pyplot as plt\n",
    "\n",
    "\n",
    "scaler = MinMaxScaler()\n",
    "scale_xTrain = scaler.fit_transform(xTrain)\n",
    "scale_xTest = scaler.fit_transform(xTest)\n",
    "\n",
    "print(\"range of the xTrain:\")\n",
    "print(xTrain.max() - xTrain.min())\n",
    "for i in xTrain.columns:\n",
    "    plt.hist(xTrain[i])\n",
    "plt.title(\"Histogram of xTrain\")\n",
    "plt.show()\n",
    "\n"
   ]
  },
  {
   "cell_type": "markdown",
   "metadata": {
    "collapsed": false
   },
   "source": [
    "## Create and train model(NN)"
   ]
  },
  {
   "cell_type": "code",
   "execution_count": 79,
   "metadata": {
    "ExecuteTime": {
     "end_time": "2023-08-31T01:06:24.759097300Z",
     "start_time": "2023-08-31T01:05:56.162545500Z"
    },
    "collapsed": false
   },
   "outputs": [
    {
     "name": "stdout",
     "output_type": "stream",
     "text": [
      "INFO:tensorflow:Using MirroredStrategy with devices ('/job:localhost/replica:0/task:0/device:CPU:0',)\n",
      "Epoch 1/10\n",
      "  1/892 [..............................] - ETA: 2:00 - loss: 1.4947 - accuracy: 0.1562"
     ]
    },
    {
     "name": "stderr",
     "output_type": "stream",
     "text": [
      "2023-08-31 21:53:04.563520: W tensorflow/core/framework/dataset.cc:956] Input of GeneratorDatasetOp::Dataset will not be optimized because the dataset does not implement the AsGraphDefInternal() method needed to apply optimizations.\n"
     ]
    },
    {
     "name": "stdout",
     "output_type": "stream",
     "text": [
      "892/892 [==============================] - 1s 552us/step - loss: 1.2318 - accuracy: 0.4197\n",
      "Epoch 2/10\n",
      "892/892 [==============================] - 1s 560us/step - loss: 1.2120 - accuracy: 0.4298\n",
      "Epoch 3/10\n",
      "892/892 [==============================] - 0s 543us/step - loss: 1.2027 - accuracy: 0.4371\n",
      "Epoch 4/10\n",
      "892/892 [==============================] - 0s 555us/step - loss: 1.1977 - accuracy: 0.4385\n",
      "Epoch 5/10\n",
      "892/892 [==============================] - 0s 546us/step - loss: 1.1937 - accuracy: 0.4387\n",
      "Epoch 6/10\n",
      "892/892 [==============================] - 0s 540us/step - loss: 1.1894 - accuracy: 0.4405\n",
      "Epoch 7/10\n",
      "892/892 [==============================] - 0s 556us/step - loss: 1.1842 - accuracy: 0.4460\n",
      "Epoch 8/10\n",
      "892/892 [==============================] - 0s 538us/step - loss: 1.1817 - accuracy: 0.4457\n",
      "Epoch 9/10\n",
      "892/892 [==============================] - 0s 540us/step - loss: 1.1764 - accuracy: 0.4497\n",
      "Epoch 10/10\n",
      "892/892 [==============================] - 0s 544us/step - loss: 1.1748 - accuracy: 0.4501\n",
      "Epoch 1/10\n",
      "892/892 [==============================] - 1s 557us/step - loss: 1.2347 - accuracy: 0.4173\n",
      "Epoch 2/10\n",
      "892/892 [==============================] - 0s 555us/step - loss: 1.2123 - accuracy: 0.4302\n",
      "Epoch 3/10\n",
      "892/892 [==============================] - 0s 557us/step - loss: 1.2047 - accuracy: 0.4350\n",
      "Epoch 4/10\n",
      "892/892 [==============================] - 0s 539us/step - loss: 1.1990 - accuracy: 0.4393\n",
      "Epoch 5/10\n",
      "892/892 [==============================] - 0s 539us/step - loss: 1.1931 - accuracy: 0.4437\n",
      "Epoch 6/10\n",
      "892/892 [==============================] - 0s 536us/step - loss: 1.1893 - accuracy: 0.4437\n",
      "Epoch 7/10\n",
      "892/892 [==============================] - 0s 541us/step - loss: 1.1839 - accuracy: 0.4491\n",
      "Epoch 8/10\n",
      "892/892 [==============================] - 0s 554us/step - loss: 1.1798 - accuracy: 0.4517\n",
      "Epoch 9/10\n",
      "892/892 [==============================] - 0s 542us/step - loss: 1.1770 - accuracy: 0.4506\n",
      "Epoch 10/10\n",
      "892/892 [==============================] - 0s 541us/step - loss: 1.1724 - accuracy: 0.4560\n"
     ]
    }
   ],
   "source": [
    "def build_nn_model(input_shape, num_classes):\n",
    "    model = tf.keras.models.Sequential([\n",
    "        tf.keras.layers.Dense(128, activation='relu', input_shape=input_shape),\n",
    "        tf.keras.layers.Dense(64, activation='relu'),\n",
    "        tf.keras.layers.Dense(32, activation='relu'),\n",
    "        tf.keras.layers.Dense(num_classes, activation='softmax')\n",
    "    ])\n",
    "    model.compile(optimizer='adam', loss='categorical_crossentropy', metrics=['accuracy'])\n",
    "\n",
    "    return model\n",
    "\n",
    "mirror_strategy = tf.distribute.MirroredStrategy()\n",
    "with mirror_strategy.scope():\n",
    "    nn_model1 = build_nn_model(scale_xTrain.shape[1:], yTrain.shape[1])\n",
    "    nn_model2 = build_nn_model(scale_xTrain.shape[1:], yTrain.shape[1])\n",
    "\n",
    "    fit_speed = tf.data.Dataset.from_tensor_slices((scale_xTrain, yTrain))\n",
    "    fit_speed = fit_speed.repeat().batch(100)\n",
    "\n",
    "    nn_model1.fit(scale_xTrain, yTrain, epochs=10)\n",
    "    nn_model2.fit(scale_xTrain, yTrain, epochs=10)"
   ]
  },
  {
   "cell_type": "markdown",
   "metadata": {},
   "source": [
    "## Create and train model(Random Forest)"
   ]
  },
  {
   "cell_type": "code",
   "execution_count": 80,
   "metadata": {
    "ExecuteTime": {
     "end_time": "2023-08-31T01:06:41.546106200Z",
     "start_time": "2023-08-31T01:06:24.757451Z"
    }
   },
   "outputs": [
    {
     "data": {
      "text/html": [
       "<style>#sk-container-id-5 {color: black;background-color: white;}#sk-container-id-5 pre{padding: 0;}#sk-container-id-5 div.sk-toggleable {background-color: white;}#sk-container-id-5 label.sk-toggleable__label {cursor: pointer;display: block;width: 100%;margin-bottom: 0;padding: 0.3em;box-sizing: border-box;text-align: center;}#sk-container-id-5 label.sk-toggleable__label-arrow:before {content: \"▸\";float: left;margin-right: 0.25em;color: #696969;}#sk-container-id-5 label.sk-toggleable__label-arrow:hover:before {color: black;}#sk-container-id-5 div.sk-estimator:hover label.sk-toggleable__label-arrow:before {color: black;}#sk-container-id-5 div.sk-toggleable__content {max-height: 0;max-width: 0;overflow: hidden;text-align: left;background-color: #f0f8ff;}#sk-container-id-5 div.sk-toggleable__content pre {margin: 0.2em;color: black;border-radius: 0.25em;background-color: #f0f8ff;}#sk-container-id-5 input.sk-toggleable__control:checked~div.sk-toggleable__content {max-height: 200px;max-width: 100%;overflow: auto;}#sk-container-id-5 input.sk-toggleable__control:checked~label.sk-toggleable__label-arrow:before {content: \"▾\";}#sk-container-id-5 div.sk-estimator input.sk-toggleable__control:checked~label.sk-toggleable__label {background-color: #d4ebff;}#sk-container-id-5 div.sk-label input.sk-toggleable__control:checked~label.sk-toggleable__label {background-color: #d4ebff;}#sk-container-id-5 input.sk-hidden--visually {border: 0;clip: rect(1px 1px 1px 1px);clip: rect(1px, 1px, 1px, 1px);height: 1px;margin: -1px;overflow: hidden;padding: 0;position: absolute;width: 1px;}#sk-container-id-5 div.sk-estimator {font-family: monospace;background-color: #f0f8ff;border: 1px dotted black;border-radius: 0.25em;box-sizing: border-box;margin-bottom: 0.5em;}#sk-container-id-5 div.sk-estimator:hover {background-color: #d4ebff;}#sk-container-id-5 div.sk-parallel-item::after {content: \"\";width: 100%;border-bottom: 1px solid gray;flex-grow: 1;}#sk-container-id-5 div.sk-label:hover label.sk-toggleable__label {background-color: #d4ebff;}#sk-container-id-5 div.sk-serial::before {content: \"\";position: absolute;border-left: 1px solid gray;box-sizing: border-box;top: 0;bottom: 0;left: 50%;z-index: 0;}#sk-container-id-5 div.sk-serial {display: flex;flex-direction: column;align-items: center;background-color: white;padding-right: 0.2em;padding-left: 0.2em;position: relative;}#sk-container-id-5 div.sk-item {position: relative;z-index: 1;}#sk-container-id-5 div.sk-parallel {display: flex;align-items: stretch;justify-content: center;background-color: white;position: relative;}#sk-container-id-5 div.sk-item::before, #sk-container-id-5 div.sk-parallel-item::before {content: \"\";position: absolute;border-left: 1px solid gray;box-sizing: border-box;top: 0;bottom: 0;left: 50%;z-index: -1;}#sk-container-id-5 div.sk-parallel-item {display: flex;flex-direction: column;z-index: 1;position: relative;background-color: white;}#sk-container-id-5 div.sk-parallel-item:first-child::after {align-self: flex-end;width: 50%;}#sk-container-id-5 div.sk-parallel-item:last-child::after {align-self: flex-start;width: 50%;}#sk-container-id-5 div.sk-parallel-item:only-child::after {width: 0;}#sk-container-id-5 div.sk-dashed-wrapped {border: 1px dashed gray;margin: 0 0.4em 0.5em 0.4em;box-sizing: border-box;padding-bottom: 0.4em;background-color: white;}#sk-container-id-5 div.sk-label label {font-family: monospace;font-weight: bold;display: inline-block;line-height: 1.2em;}#sk-container-id-5 div.sk-label-container {text-align: center;}#sk-container-id-5 div.sk-container {/* jupyter's `normalize.less` sets `[hidden] { display: none; }` but bootstrap.min.css set `[hidden] { display: none !important; }` so we also need the `!important` here to be able to override the default hidden behavior on the sphinx rendered scikit-learn.org. See: https://github.com/scikit-learn/scikit-learn/issues/21755 */display: inline-block !important;position: relative;}#sk-container-id-5 div.sk-text-repr-fallback {display: none;}</style><div id=\"sk-container-id-5\" class=\"sk-top-container\"><div class=\"sk-text-repr-fallback\"><pre>RandomForestClassifier()</pre><b>In a Jupyter environment, please rerun this cell to show the HTML representation or trust the notebook. <br />On GitHub, the HTML representation is unable to render, please try loading this page with nbviewer.org.</b></div><div class=\"sk-container\" hidden><div class=\"sk-item\"><div class=\"sk-estimator sk-toggleable\"><input class=\"sk-toggleable__control sk-hidden--visually\" id=\"sk-estimator-id-5\" type=\"checkbox\" checked><label for=\"sk-estimator-id-5\" class=\"sk-toggleable__label sk-toggleable__label-arrow\">RandomForestClassifier</label><div class=\"sk-toggleable__content\"><pre>RandomForestClassifier()</pre></div></div></div></div></div>"
      ],
      "text/plain": [
       "RandomForestClassifier()"
      ]
     },
     "execution_count": 80,
     "metadata": {},
     "output_type": "execute_result"
    }
   ],
   "source": [
    "RF_model = RandomForestClassifier(n_estimators=100)\n",
    "RF_model.fit(scale_xTrain, yTrain.argmax(axis=1))\n"
   ]
  },
  {
   "cell_type": "markdown",
   "metadata": {},
   "source": [
    "## Make predictions with each model individually"
   ]
  },
  {
   "cell_type": "code",
   "execution_count": 81,
   "metadata": {},
   "outputs": [
    {
     "name": "stdout",
     "output_type": "stream",
     "text": [
      "892/892 [==============================] - 0s 309us/step\n",
      "892/892 [==============================] - 0s 292us/step\n",
      "223/223 [==============================] - 0s 322us/step\n",
      "223/223 [==============================] - 0s 361us/step\n",
      "Shape:\n",
      "nn1_train_pred: (28543, 4)\n",
      "nn2_train_pred: (28543, 4)\n",
      "RF_train_pred: (28543, 4)\n",
      "Labels:\n",
      "nn1_train_pred: [0 3 0 ... 3 1 3]\n",
      "nn2_train_pred: [3 3 0 ... 3 3 3]\n",
      "RF_train_pred: [3 1 0 ... 3 3 1]\n",
      "nn1_test_pred: [3 3 3 ... 2 3 3]\n",
      "nn2_test_pred: [3 3 3 ... 2 3 3]\n",
      "RF_test_pred: [0 3 3 ... 2 3 3]\n",
      "\n"
     ]
    }
   ],
   "source": [
    "nn1_train_pred = nn_model1.predict(scale_xTrain)\n",
    "nn2_train_pred = nn_model2.predict(scale_xTrain)\n",
    "RF_train_pred = RF_model.predict_proba(scale_xTrain)\n",
    "\n",
    "nn1_test_pred = nn_model1.predict(scale_xTest)\n",
    "nn2_test_pred = nn_model2.predict(scale_xTest)\n",
    "RF_test_pred = RF_model.predict_proba(scale_xTest)\n",
    "\n",
    "print(\"Shape:\")\n",
    "print(\"nn1_train_pred:\", nn1_train_pred.shape)\n",
    "print(\"nn2_train_pred:\", nn2_train_pred.shape)\n",
    "print(\"RF_train_pred:\", RF_train_pred.shape)\n",
    "\n",
    "nn1_train_labels = nn1_train_pred.argmax(axis=1)\n",
    "nn2_train_labels = nn2_train_pred.argmax(axis=1)\n",
    "RF_train_labels = RF_train_pred.argmax(axis=1)\n",
    "\n",
    "nn1_test_labels = nn1_test_pred.argmax(axis=1)\n",
    "nn2_test_labels = nn2_test_pred.argmax(axis=1)\n",
    "RF_test_labels = RF_test_pred.argmax(axis=1)\n",
    "\n",
    "print(\"Labels:\")\n",
    "print(\"nn1_train_pred:\", nn1_train_labels)\n",
    "print(\"nn2_train_pred:\", nn2_train_labels)\n",
    "print(\"RF_train_pred:\", RF_train_labels)\n",
    "print(\"nn1_test_pred:\", nn1_test_labels)\n",
    "print(\"nn2_test_pred:\", nn2_test_labels)\n",
    "print(\"RF_test_pred:\", RF_test_labels)\n",
    "print()"
   ]
  },
  {
   "cell_type": "markdown",
   "metadata": {},
   "source": [
    "## Simple Ensemble: 3 linear models"
   ]
  },
  {
   "cell_type": "markdown",
   "metadata": {},
   "source": [
    "## Train the 3 linear models"
   ]
  },
  {
   "cell_type": "code",
   "execution_count": 83,
   "metadata": {},
   "outputs": [
    {
     "data": {
      "text/html": [
       "<style>#sk-container-id-6 {color: black;background-color: white;}#sk-container-id-6 pre{padding: 0;}#sk-container-id-6 div.sk-toggleable {background-color: white;}#sk-container-id-6 label.sk-toggleable__label {cursor: pointer;display: block;width: 100%;margin-bottom: 0;padding: 0.3em;box-sizing: border-box;text-align: center;}#sk-container-id-6 label.sk-toggleable__label-arrow:before {content: \"▸\";float: left;margin-right: 0.25em;color: #696969;}#sk-container-id-6 label.sk-toggleable__label-arrow:hover:before {color: black;}#sk-container-id-6 div.sk-estimator:hover label.sk-toggleable__label-arrow:before {color: black;}#sk-container-id-6 div.sk-toggleable__content {max-height: 0;max-width: 0;overflow: hidden;text-align: left;background-color: #f0f8ff;}#sk-container-id-6 div.sk-toggleable__content pre {margin: 0.2em;color: black;border-radius: 0.25em;background-color: #f0f8ff;}#sk-container-id-6 input.sk-toggleable__control:checked~div.sk-toggleable__content {max-height: 200px;max-width: 100%;overflow: auto;}#sk-container-id-6 input.sk-toggleable__control:checked~label.sk-toggleable__label-arrow:before {content: \"▾\";}#sk-container-id-6 div.sk-estimator input.sk-toggleable__control:checked~label.sk-toggleable__label {background-color: #d4ebff;}#sk-container-id-6 div.sk-label input.sk-toggleable__control:checked~label.sk-toggleable__label {background-color: #d4ebff;}#sk-container-id-6 input.sk-hidden--visually {border: 0;clip: rect(1px 1px 1px 1px);clip: rect(1px, 1px, 1px, 1px);height: 1px;margin: -1px;overflow: hidden;padding: 0;position: absolute;width: 1px;}#sk-container-id-6 div.sk-estimator {font-family: monospace;background-color: #f0f8ff;border: 1px dotted black;border-radius: 0.25em;box-sizing: border-box;margin-bottom: 0.5em;}#sk-container-id-6 div.sk-estimator:hover {background-color: #d4ebff;}#sk-container-id-6 div.sk-parallel-item::after {content: \"\";width: 100%;border-bottom: 1px solid gray;flex-grow: 1;}#sk-container-id-6 div.sk-label:hover label.sk-toggleable__label {background-color: #d4ebff;}#sk-container-id-6 div.sk-serial::before {content: \"\";position: absolute;border-left: 1px solid gray;box-sizing: border-box;top: 0;bottom: 0;left: 50%;z-index: 0;}#sk-container-id-6 div.sk-serial {display: flex;flex-direction: column;align-items: center;background-color: white;padding-right: 0.2em;padding-left: 0.2em;position: relative;}#sk-container-id-6 div.sk-item {position: relative;z-index: 1;}#sk-container-id-6 div.sk-parallel {display: flex;align-items: stretch;justify-content: center;background-color: white;position: relative;}#sk-container-id-6 div.sk-item::before, #sk-container-id-6 div.sk-parallel-item::before {content: \"\";position: absolute;border-left: 1px solid gray;box-sizing: border-box;top: 0;bottom: 0;left: 50%;z-index: -1;}#sk-container-id-6 div.sk-parallel-item {display: flex;flex-direction: column;z-index: 1;position: relative;background-color: white;}#sk-container-id-6 div.sk-parallel-item:first-child::after {align-self: flex-end;width: 50%;}#sk-container-id-6 div.sk-parallel-item:last-child::after {align-self: flex-start;width: 50%;}#sk-container-id-6 div.sk-parallel-item:only-child::after {width: 0;}#sk-container-id-6 div.sk-dashed-wrapped {border: 1px dashed gray;margin: 0 0.4em 0.5em 0.4em;box-sizing: border-box;padding-bottom: 0.4em;background-color: white;}#sk-container-id-6 div.sk-label label {font-family: monospace;font-weight: bold;display: inline-block;line-height: 1.2em;}#sk-container-id-6 div.sk-label-container {text-align: center;}#sk-container-id-6 div.sk-container {/* jupyter's `normalize.less` sets `[hidden] { display: none; }` but bootstrap.min.css set `[hidden] { display: none !important; }` so we also need the `!important` here to be able to override the default hidden behavior on the sphinx rendered scikit-learn.org. See: https://github.com/scikit-learn/scikit-learn/issues/21755 */display: inline-block !important;position: relative;}#sk-container-id-6 div.sk-text-repr-fallback {display: none;}</style><div id=\"sk-container-id-6\" class=\"sk-top-container\"><div class=\"sk-text-repr-fallback\"><pre>LinearRegression()</pre><b>In a Jupyter environment, please rerun this cell to show the HTML representation or trust the notebook. <br />On GitHub, the HTML representation is unable to render, please try loading this page with nbviewer.org.</b></div><div class=\"sk-container\" hidden><div class=\"sk-item\"><div class=\"sk-estimator sk-toggleable\"><input class=\"sk-toggleable__control sk-hidden--visually\" id=\"sk-estimator-id-6\" type=\"checkbox\" checked><label for=\"sk-estimator-id-6\" class=\"sk-toggleable__label sk-toggleable__label-arrow\">LinearRegression</label><div class=\"sk-toggleable__content\"><pre>LinearRegression()</pre></div></div></div></div></div>"
      ],
      "text/plain": [
       "LinearRegression()"
      ]
     },
     "execution_count": 83,
     "metadata": {},
     "output_type": "execute_result"
    }
   ],
   "source": [
    "from sklearn.linear_model import LinearRegression\n",
    "linmodel_1 = LinearRegression()\n",
    "linmodel_2 = LinearRegression()\n",
    "linmodel_3 = LinearRegression()\n",
    "\n",
    "linmodel_1.fit(scale_xTrain,yTrain)\n",
    "linmodel_2.fit(scale_xTrain,yTrain)\n",
    "linmodel_3.fit(scale_xTrain,yTrain)"
   ]
  },
  {
   "cell_type": "markdown",
   "metadata": {},
   "source": [
    "## Get the predictions out of the 3 linear regression models"
   ]
  },
  {
   "cell_type": "code",
   "execution_count": 82,
   "metadata": {},
   "outputs": [],
   "source": [
    "linmodel1_train_pred = linmodel_1.predict(scale_xTrain)\n",
    "linmodel2_train_pred = linmodel_2.predict(scale_xTrain)\n",
    "linmodel3_train_pred = linmodel_3.predict(scale_xTrain)\n",
    "\n",
    "linmodel1_test_pred = linmodel_1.predict(scale_xTest)\n",
    "linmodel2_test_pred = linmodel_2.predict(scale_xTest)\n",
    "linmodel3_test_pred = linmodel_3.predict(scale_xTest)"
   ]
  },
  {
   "cell_type": "markdown",
   "metadata": {},
   "source": [
    "## Get the ensemble prediction"
   ]
  },
  {
   "cell_type": "code",
   "execution_count": 84,
   "metadata": {},
   "outputs": [],
   "source": [
    "ensemble_simple_train_pred = (linmodel1_train_pred + linmodel2_train_pred + linmodel3_train_pred) / 3\n",
    "ensemble_simple_test_pred = (linmodel1_test_pred + linmodel2_test_pred + linmodel3_test_pred) / 3\n",
    "\n",
    "ensemble_simple_train_labels = ensemble_simple_train_pred.argmax(axis=1)\n",
    "ensemble_simple_test_labels = ensemble_simple_test_pred.argmax(axis=1)"
   ]
  },
  {
   "cell_type": "markdown",
   "metadata": {},
   "source": [
    "## (Simple Ensemble) Classification Report "
   ]
  },
  {
   "cell_type": "code",
   "execution_count": 85,
   "metadata": {},
   "outputs": [
    {
     "name": "stdout",
     "output_type": "stream",
     "text": [
      "Train:\n",
      "              precision    recall  f1-score   support\n",
      "\n",
      "           0       0.29      0.65      0.40      8380\n",
      "           1       0.38      0.02      0.03      6019\n",
      "           2       0.30      0.01      0.01      2952\n",
      "           3       0.38      0.32      0.35     11192\n",
      "\n",
      "    accuracy                           0.32     28543\n",
      "   macro avg       0.34      0.25      0.20     28543\n",
      "weighted avg       0.35      0.32      0.26     28543\n",
      "\n",
      "Test:\n",
      "              precision    recall  f1-score   support\n",
      "\n",
      "           0       0.30      1.00      0.46      2108\n",
      "           1       0.00      0.00      0.00      1549\n",
      "           2       0.00      0.00      0.00       678\n",
      "           3       0.00      0.00      0.00      2801\n",
      "\n",
      "    accuracy                           0.30      7136\n",
      "   macro avg       0.07      0.25      0.11      7136\n",
      "weighted avg       0.09      0.30      0.13      7136\n",
      "\n",
      "Training error\n"
     ]
    },
    {
     "name": "stderr",
     "output_type": "stream",
     "text": [
      "/Users/will./anaconda3/lib/python3.11/site-packages/sklearn/metrics/_classification.py:1334: UndefinedMetricWarning: Precision and F-score are ill-defined and being set to 0.0 in labels with no predicted samples. Use `zero_division` parameter to control this behavior.\n",
      "  _warn_prf(average, modifier, msg_start, len(result))\n",
      "/Users/will./anaconda3/lib/python3.11/site-packages/sklearn/metrics/_classification.py:1334: UndefinedMetricWarning: Precision and F-score are ill-defined and being set to 0.0 in labels with no predicted samples. Use `zero_division` parameter to control this behavior.\n",
      "  _warn_prf(average, modifier, msg_start, len(result))\n",
      "/Users/will./anaconda3/lib/python3.11/site-packages/sklearn/metrics/_classification.py:1334: UndefinedMetricWarning: Precision and F-score are ill-defined and being set to 0.0 in labels with no predicted samples. Use `zero_division` parameter to control this behavior.\n",
      "  _warn_prf(average, modifier, msg_start, len(result))\n"
     ]
    }
   ],
   "source": [
    "print(\"Train:\")\n",
    "print(classification_report(yTrain.argmax(axis=1), ensemble_simple_train_labels))\n",
    "print(\"Test:\")\n",
    "print(classification_report(yTest.argmax(axis=1), ensemble_simple_test_labels))\n",
    "\n",
    "print(\"Training error\")"
   ]
  },
  {
   "cell_type": "markdown",
   "metadata": {
    "collapsed": false
   },
   "source": [
    "## Complex Ensemble: 2 NN + 1 RF"
   ]
  },
  {
   "cell_type": "code",
   "execution_count": 86,
   "metadata": {},
   "outputs": [
    {
     "name": "stdout",
     "output_type": "stream",
     "text": [
      "ensemble_train_labels: [3 1 0 ... 3 3 3]\n",
      "ensemble_train_labels: [3 1 0 ... 3 3 3]\n"
     ]
    }
   ],
   "source": [
    "ensemble_train_pred = (nn1_train_pred + nn2_train_pred + RF_train_pred) / 3\n",
    "ensemble_test_pred = (nn1_test_pred + nn2_test_pred + RF_test_pred) / 3\n",
    "\n",
    "ensemble_train_labels = ensemble_train_pred.argmax(axis=1)\n",
    "ensemble_test_labels = ensemble_test_pred.argmax(axis=1)\n",
    "\n",
    "print(\"ensemble_train_labels:\",ensemble_train_labels)\n",
    "print(\"ensemble_train_labels:\",ensemble_train_labels)\n"
   ]
  },
  {
   "cell_type": "markdown",
   "metadata": {},
   "source": [
    "## Model Evaluation"
   ]
  },
  {
   "cell_type": "code",
   "execution_count": 87,
   "metadata": {
    "is_executing": true
   },
   "outputs": [
    {
     "name": "stdout",
     "output_type": "stream",
     "text": [
      "Train:\n",
      "              precision    recall  f1-score   support\n",
      "\n",
      "           0       0.86      0.90      0.88      8380\n",
      "           1       0.94      0.82      0.88      6019\n",
      "           2       1.00      0.60      0.75      2952\n",
      "           3       0.85      0.97      0.90     11192\n",
      "\n",
      "    accuracy                           0.88     28543\n",
      "   macro avg       0.91      0.82      0.85     28543\n",
      "weighted avg       0.89      0.88      0.88     28543\n",
      "\n",
      "Test:\n",
      "              precision    recall  f1-score   support\n",
      "\n",
      "           0       0.53      0.36      0.43      2108\n",
      "           1       0.39      0.27      0.32      1549\n",
      "           2       0.25      0.07      0.11       678\n",
      "           3       0.43      0.69      0.53      2801\n",
      "\n",
      "    accuracy                           0.44      7136\n",
      "   macro avg       0.40      0.35      0.35      7136\n",
      "weighted avg       0.44      0.44      0.41      7136\n",
      "\n"
     ]
    }
   ],
   "source": [
    "print(\"Train:\")\n",
    "print(classification_report(yTrain.argmax(axis=1), ensemble_train_labels))\n",
    "print(\"Test:\")\n",
    "print(classification_report(yTest.argmax(axis=1), ensemble_test_labels))\n"
   ]
  },
  {
   "cell_type": "code",
   "execution_count": 88,
   "metadata": {},
   "outputs": [
    {
     "name": "stdout",
     "output_type": "stream",
     "text": [
      "Model Train Accuracies:\n",
      "Neural Network 1: 0.4598\n",
      "Neural Network 2: 0.4655\n",
      "Random Forest: 1.0000\n",
      "\n",
      "Model Test Accuracies:\n",
      "Neural Network 1: 0.4301\n",
      "Neural Network 2: 0.4409\n",
      "Random Forest: 0.4261\n",
      "\n",
      "Ensemble Model:\n",
      "Training Accuracy: 0.8786\n",
      "Testing Accuracy: 0.4410\n"
     ]
    }
   ],
   "source": [
    "from sklearn.metrics import accuracy_score\n",
    "nn1_train_accuracy = accuracy_score(yTrain.argmax(axis=1), nn1_train_labels)\n",
    "nn2_train_accuracy = accuracy_score(yTrain.argmax(axis=1), nn2_train_labels)\n",
    "RF_train_accuracy = accuracy_score(yTrain.argmax(axis=1), RF_train_labels)\n",
    "\n",
    "nn1_test_accuracy = accuracy_score(yTest.argmax(axis=1), nn1_test_labels)\n",
    "nn2_test_accuracy = accuracy_score(yTest.argmax(axis=1), nn2_test_labels)\n",
    "RF_test_accuracy = accuracy_score(yTest.argmax(axis=1), RF_test_labels)\n",
    "\n",
    "ensemble_train_accuracy = accuracy_score(yTrain.argmax(axis=1), ensemble_train_labels)\n",
    "ensemble_test_accuracy = accuracy_score(yTest.argmax(axis=1), ensemble_test_labels)\n",
    "\n",
    "print(\"Model Train Accuracies:\")\n",
    "print(f\"Neural Network 1: {nn1_train_accuracy:.4f}\")\n",
    "print(f\"Neural Network 2: {nn2_train_accuracy:.4f}\")\n",
    "print(f\"Random Forest: {RF_train_accuracy:.4f}\")\n",
    "print()\n",
    "\n",
    "print(\"Model Test Accuracies:\")\n",
    "print(f\"Neural Network 1: {nn1_test_accuracy:.4f}\")\n",
    "print(f\"Neural Network 2: {nn2_test_accuracy:.4f}\")\n",
    "print(f\"Random Forest: {RF_test_accuracy:.4f}\")\n",
    "print()\n",
    "\n",
    "print(\"Ensemble Model:\")\n",
    "print(f\"Training Accuracy: {ensemble_train_accuracy:.4f}\")\n",
    "print(f\"Testing Accuracy: {ensemble_test_accuracy:.4f}\")"
   ]
  }
 ],
 "metadata": {
  "kernelspec": {
   "display_name": "Python 3 (ipykernel)",
   "language": "python",
   "name": "python3"
  },
  "language_info": {
   "codemirror_mode": {
    "name": "ipython",
    "version": 3
   },
   "file_extension": ".py",
   "mimetype": "text/x-python",
   "name": "python",
   "nbconvert_exporter": "python",
   "pygments_lexer": "ipython3",
   "version": "3.11.4"
  },
  "orig_nbformat": 4
 },
 "nbformat": 4,
 "nbformat_minor": 2
}

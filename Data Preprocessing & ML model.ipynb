{
 "cells": [
  {
   "cell_type": "markdown",
   "metadata": {},
   "source": [
    "## Import Packages"
   ]
  },
  {
   "cell_type": "code",
   "execution_count": 33,
   "metadata": {
    "ExecuteTime": {
     "end_time": "2023-08-31T01:05:53.888815900Z",
     "start_time": "2023-08-31T01:05:53.825818200Z"
    }
   },
   "outputs": [],
   "source": [
    "import tensorflow as tf\n",
    "import pandas as pd\n",
    "from sklearn.ensemble import IsolationForest, RandomForestClassifier\n",
    "from sklearn.preprocessing import OneHotEncoder\n",
    "from sklearn.svm import SVC\n",
    "from sklearn.model_selection import train_test_split\n",
    "from sklearn.metrics import classification_report, accuracy_score\n",
    "from sklearn.preprocessing import PolynomialFeatures\n",
    "from sklearn.linear_model import LinearRegression\n",
    "from sklearn.pipeline import make_pipeline\n"
   ]
  },
  {
   "cell_type": "markdown",
   "metadata": {},
   "source": [
    "## Read File"
   ]
  },
  {
   "cell_type": "code",
   "execution_count": 34,
   "metadata": {
    "ExecuteTime": {
     "end_time": "2023-08-31T01:05:54.070816300Z",
     "start_time": "2023-08-31T01:05:53.842816600Z"
    }
   },
   "outputs": [],
   "source": [
    "data = pd.read_csv('OnlineNewsPopularity.csv')\n",
    "data.columns = [col.strip() for col in data.columns]\n"
   ]
  },
  {
   "cell_type": "markdown",
   "metadata": {},
   "source": [
    "## Create isolation forest model to remove outliers\n",
    "[API Link to IF](https://scikit-learn.org/stable/modules/generated/sklearn.ensemble.IsolationForest.html#sklearn.ensemble.IsolationForest)"
   ]
  },
  {
   "cell_type": "code",
   "execution_count": 35,
   "metadata": {
    "ExecuteTime": {
     "end_time": "2023-08-31T01:05:54.491814900Z",
     "start_time": "2023-08-31T01:05:54.072816400Z"
    }
   },
   "outputs": [
    {
     "name": "stderr",
     "output_type": "stream",
     "text": [
      "/Users/will./anaconda3/lib/python3.11/site-packages/sklearn/base.py:450: UserWarning: X does not have valid feature names, but IsolationForest was fitted with feature names\n",
      "  warnings.warn(\n"
     ]
    },
    {
     "name": "stdout",
     "output_type": "stream",
     "text": [
      "There are total 3965 rows been removied.\n"
     ]
    }
   ],
   "source": [
    "old_data_length = len(data)\n",
    "IF_model = IsolationForest(contamination=0.1) # Remove 10% data\n",
    "outliers = IF_model.fit_predict(data.drop(columns=['url', 'timedelta', 'shares'])) # Delete columns than don't need in IF and train IF model\n",
    "data['outliers'] = outliers\n",
    "\n",
    "# Remove outliers\n",
    "data_outliers = data[data['outliers'] == -1]\n",
    "new_data = data[data['outliers'] != -1].drop(columns = ['outliers'])\n",
    "\n",
    "new_data_len = len(new_data)\n",
    "\n",
    "print(f\"There are total {old_data_length - new_data_len} rows been removied.\")\n"
   ]
  },
  {
   "cell_type": "markdown",
   "metadata": {},
   "source": [
    "## Creat a function to classify an article to different categories\n",
    "* Great Article: Shares >= 90%\n",
    "* Good Article: 70% <= Shares < 90%\n",
    "* Normal Article: 30% <= Shares < 70%\n",
    "* Bad article: Shares < 30%"
   ]
  },
  {
   "cell_type": "code",
   "execution_count": 36,
   "metadata": {
    "ExecuteTime": {
     "end_time": "2023-08-31T01:05:54.528815600Z",
     "start_time": "2023-08-31T01:05:54.487816400Z"
    }
   },
   "outputs": [],
   "source": [
    "def article_classifier(shares, top_percent):\n",
    "    if shares >= top_percent[0.9]:\n",
    "        return 'Great'\n",
    "    elif shares >= top_percent[0.7]:\n",
    "        return 'Good'\n",
    "    elif shares >= top_percent[0.3]:\n",
    "        return 'Normal'\n",
    "    else:\n",
    "        return 'Bad'\n",
    "        "
   ]
  },
  {
   "cell_type": "markdown",
   "metadata": {},
   "source": [
    "## Data Classifier"
   ]
  },
  {
   "cell_type": "code",
   "execution_count": 37,
   "metadata": {
    "ExecuteTime": {
     "end_time": "2023-08-31T01:05:56.068535900Z",
     "start_time": "2023-08-31T01:05:54.501816500Z"
    }
   },
   "outputs": [],
   "source": [
    "top_percent = new_data['shares'].quantile([0.3, 0.7, 0.9])\n",
    "\n",
    "quality = []\n",
    "for index, row in new_data.iterrows():\n",
    "    quality.append(article_classifier(row['shares'], top_percent))\n",
    "\n",
    "new_data['quality'] = quality\n"
   ]
  },
  {
   "cell_type": "markdown",
   "metadata": {},
   "source": [
    "## Split dataset into x and y and one-hot encode quality column"
   ]
  },
  {
   "cell_type": "code",
   "execution_count": 38,
   "metadata": {
    "ExecuteTime": {
     "end_time": "2023-08-31T01:05:56.097536300Z",
     "start_time": "2023-08-31T01:05:56.072535300Z"
    }
   },
   "outputs": [],
   "source": [
    "x = new_data.drop(columns=['quality', 'url', 'timedelta', 'shares'], axis=1)\n",
    "y = OneHotEncoder().fit_transform(new_data[['quality']]).toarray()\n"
   ]
  },
  {
   "cell_type": "markdown",
   "metadata": {},
   "source": [
    "## Train test split"
   ]
  },
  {
   "cell_type": "code",
   "execution_count": 39,
   "metadata": {
    "ExecuteTime": {
     "end_time": "2023-08-31T01:05:56.128535900Z",
     "start_time": "2023-08-31T01:05:56.098537Z"
    }
   },
   "outputs": [],
   "source": [
    "\n",
    "xTrain, xTest, yTrain, yTest = train_test_split(x, y, test_size=0.2, random_state=10)\n"
   ]
  },
  {
   "cell_type": "markdown",
   "metadata": {},
   "source": [
    "## Scale the data to Improve the speed of training Model"
   ]
  },
  {
   "cell_type": "code",
   "execution_count": 40,
   "metadata": {},
   "outputs": [
    {
     "name": "stdout",
     "output_type": "stream",
     "text": [
      "Requirement already satisfied: matplotlib in /Users/will./anaconda3/lib/python3.11/site-packages (3.7.1)\n",
      "Requirement already satisfied: contourpy>=1.0.1 in /Users/will./anaconda3/lib/python3.11/site-packages (from matplotlib) (1.0.5)\n",
      "Requirement already satisfied: cycler>=0.10 in /Users/will./anaconda3/lib/python3.11/site-packages (from matplotlib) (0.11.0)\n",
      "Requirement already satisfied: fonttools>=4.22.0 in /Users/will./anaconda3/lib/python3.11/site-packages (from matplotlib) (4.25.0)\n",
      "Requirement already satisfied: kiwisolver>=1.0.1 in /Users/will./anaconda3/lib/python3.11/site-packages (from matplotlib) (1.4.4)\n",
      "Requirement already satisfied: numpy>=1.20 in /Users/will./anaconda3/lib/python3.11/site-packages (from matplotlib) (1.24.3)\n",
      "Requirement already satisfied: packaging>=20.0 in /Users/will./anaconda3/lib/python3.11/site-packages (from matplotlib) (23.0)\n",
      "Requirement already satisfied: pillow>=6.2.0 in /Users/will./anaconda3/lib/python3.11/site-packages (from matplotlib) (9.4.0)\n",
      "Requirement already satisfied: pyparsing>=2.3.1 in /Users/will./anaconda3/lib/python3.11/site-packages (from matplotlib) (3.0.9)\n",
      "Requirement already satisfied: python-dateutil>=2.7 in /Users/will./anaconda3/lib/python3.11/site-packages (from matplotlib) (2.8.2)\n",
      "Requirement already satisfied: six>=1.5 in /Users/will./anaconda3/lib/python3.11/site-packages (from python-dateutil>=2.7->matplotlib) (1.16.0)\n"
     ]
    }
   ],
   "source": [
    "!pip install matplotlib"
   ]
  },
  {
   "cell_type": "markdown",
   "metadata": {},
   "source": [
    "<span style=\"color:red\">Since the data is not normally distributed, so we may not use the standardization. Plus, the range doesn't vary from 0 to 1.</span>"
   ]
  },
  {
   "cell_type": "code",
   "execution_count": 41,
   "metadata": {
    "ExecuteTime": {
     "end_time": "2023-08-31T01:05:56.161544400Z",
     "start_time": "2023-08-31T01:05:56.130535900Z"
    }
   },
   "outputs": [
    {
     "name": "stdout",
     "output_type": "stream",
     "text": [
      "range of the xTrain:\n",
      "n_tokens_title                   2.000000e+01\n",
      "n_tokens_content                 7.057000e+03\n",
      "n_unique_tokens                  8.127916e-01\n",
      "n_non_stop_words                 7.117500e-08\n",
      "n_non_stop_unique_tokens         7.880987e-01\n",
      "num_hrefs                        3.040000e+02\n",
      "num_self_hrefs                   7.400000e+01\n",
      "num_imgs                         1.000000e+02\n",
      "num_videos                       6.500000e+01\n",
      "average_token_length             4.416949e+00\n",
      "num_keywords                     9.000000e+00\n",
      "data_channel_is_lifestyle        1.000000e+00\n",
      "data_channel_is_entertainment    1.000000e+00\n",
      "data_channel_is_bus              1.000000e+00\n",
      "data_channel_is_socmed           1.000000e+00\n",
      "data_channel_is_tech             1.000000e+00\n",
      "data_channel_is_world            1.000000e+00\n",
      "kw_min_min                       3.190000e+02\n",
      "kw_max_min                       5.000000e+04\n",
      "kw_avg_min                       8.495333e+03\n",
      "kw_min_max                       8.433000e+05\n",
      "kw_max_max                       8.433000e+05\n",
      "kw_avg_max                       8.433000e+05\n",
      "kw_min_avg                       3.614040e+03\n",
      "kw_max_avg                       1.219429e+05\n",
      "kw_avg_avg                       1.942929e+04\n",
      "self_reference_min_shares        2.103000e+05\n",
      "self_reference_max_shares        8.433000e+05\n",
      "self_reference_avg_sharess       4.629333e+05\n",
      "weekday_is_monday                1.000000e+00\n",
      "weekday_is_tuesday               1.000000e+00\n",
      "weekday_is_wednesday             1.000000e+00\n",
      "weekday_is_thursday              1.000000e+00\n",
      "weekday_is_friday                1.000000e+00\n",
      "weekday_is_saturday              1.000000e+00\n",
      "weekday_is_sunday                1.000000e+00\n",
      "is_weekend                       1.000000e+00\n",
      "LDA_00                           9.088124e-01\n",
      "LDA_01                           9.017940e-01\n",
      "LDA_02                           9.018171e-01\n",
      "LDA_03                           9.073601e-01\n",
      "LDA_04                           9.089368e-01\n",
      "global_subjectivity              9.375000e-01\n",
      "global_sentiment_polarity        9.662470e-01\n",
      "global_rate_positive_words       1.554878e-01\n",
      "global_rate_negative_words       1.849315e-01\n",
      "rate_positive_words              1.000000e+00\n",
      "rate_negative_words              1.000000e+00\n",
      "avg_positive_polarity            1.000000e+00\n",
      "min_positive_polarity            1.000000e+00\n",
      "max_positive_polarity            1.000000e+00\n",
      "avg_negative_polarity            1.000000e+00\n",
      "min_negative_polarity            1.000000e+00\n",
      "max_negative_polarity            1.000000e+00\n",
      "title_subjectivity               1.000000e+00\n",
      "title_sentiment_polarity         2.000000e+00\n",
      "abs_title_subjectivity           5.000000e-01\n",
      "abs_title_sentiment_polarity     1.000000e+00\n",
      "dtype: float64\n"
     ]
    },
    {
     "data": {
      "image/png": "[encoded data removed]",
      "text/plain": [
       "<Figure size 640x480 with 1 Axes>"
      ]
     },
     "metadata": {},
     "output_type": "display_data"
    }
   ],
   "source": [
    "from sklearn.preprocessing import StandardScaler\n",
    "from sklearn.preprocessing import MinMaxScaler\n",
    "\n",
    "import matplotlib.pyplot as plt\n",
    "import pandas as pd\n",
    "\n",
    "scaler = MinMaxScaler()\n",
    "scale_xTrain = scaler.fit_transform(xTrain)\n",
    "scale_xTest = scaler.fit_transform(xTest)\n",
    "\n",
    "print(\"range of the xTrain:\")\n",
    "print(xTrain.max() - xTrain.min())\n",
    "for i in xTrain.columns:\n",
    "    plt.hist(xTrain[i])\n",
    "plt.title(\"Histogram of xTrain\")\n",
    "plt.show()\n",
    "\n"
   ]
  },
  {
   "cell_type": "markdown",
   "metadata": {
    "collapsed": false
   },
   "source": [
    "## Create and train model(NN)"
   ]
  },
  {
   "cell_type": "code",
   "execution_count": 42,
   "metadata": {
    "ExecuteTime": {
     "end_time": "2023-08-31T01:06:24.759097300Z",
     "start_time": "2023-08-31T01:05:56.162545500Z"
    },
    "collapsed": false
   },
   "outputs": [
    {
     "name": "stdout",
     "output_type": "stream",
     "text": [
      "INFO:tensorflow:Using MirroredStrategy with devices ('/job:localhost/replica:0/task:0/device:CPU:0',)\n",
      "Epoch 1/10\n",
      " 96/892 [==>...........................] - ETA: 0s - loss: 1.2624 - accuracy: 0.4134  "
     ]
    },
    {
     "name": "stderr",
     "output_type": "stream",
     "text": [
      "2023-08-31 21:21:03.240464: W tensorflow/core/framework/dataset.cc:956] Input of GeneratorDatasetOp::Dataset will not be optimized because the dataset does not implement the AsGraphDefInternal() method needed to apply optimizations.\n"
     ]
    },
    {
     "name": "stdout",
     "output_type": "stream",
     "text": [
      "892/892 [==============================] - 1s 544us/step - loss: 1.2211 - accuracy: 0.4328\n",
      "Epoch 2/10\n",
      "892/892 [==============================] - 0s 555us/step - loss: 1.2041 - accuracy: 0.4433\n",
      "Epoch 3/10\n",
      "892/892 [==============================] - 1s 576us/step - loss: 1.1965 - accuracy: 0.4445\n",
      "Epoch 4/10\n",
      "892/892 [==============================] - 1s 568us/step - loss: 1.1893 - accuracy: 0.4488\n",
      "Epoch 5/10\n",
      "892/892 [==============================] - 0s 547us/step - loss: 1.1850 - accuracy: 0.4522\n",
      "Epoch 6/10\n",
      "892/892 [==============================] - 0s 552us/step - loss: 1.1804 - accuracy: 0.4537\n",
      "Epoch 7/10\n",
      "892/892 [==============================] - 1s 566us/step - loss: 1.1758 - accuracy: 0.4570\n",
      "Epoch 8/10\n",
      "892/892 [==============================] - 0s 552us/step - loss: 1.1710 - accuracy: 0.4585\n",
      "Epoch 9/10\n",
      "892/892 [==============================] - 0s 544us/step - loss: 1.1682 - accuracy: 0.4618\n",
      "Epoch 10/10\n",
      "892/892 [==============================] - 0s 547us/step - loss: 1.1653 - accuracy: 0.4627\n",
      "Epoch 1/10\n",
      "892/892 [==============================] - 1s 541us/step - loss: 1.2218 - accuracy: 0.4353\n",
      "Epoch 2/10\n",
      "892/892 [==============================] - 0s 556us/step - loss: 1.2029 - accuracy: 0.4437\n",
      "Epoch 3/10\n",
      "892/892 [==============================] - 0s 543us/step - loss: 1.1940 - accuracy: 0.4473\n",
      "Epoch 4/10\n",
      "892/892 [==============================] - 0s 542us/step - loss: 1.1896 - accuracy: 0.4510\n",
      "Epoch 5/10\n",
      "892/892 [==============================] - 0s 540us/step - loss: 1.1840 - accuracy: 0.4523\n",
      "Epoch 6/10\n",
      "892/892 [==============================] - 0s 553us/step - loss: 1.1798 - accuracy: 0.4558\n",
      "Epoch 7/10\n",
      "892/892 [==============================] - 1s 560us/step - loss: 1.1753 - accuracy: 0.4597\n",
      "Epoch 8/10\n",
      "892/892 [==============================] - 0s 550us/step - loss: 1.1705 - accuracy: 0.4599\n",
      "Epoch 9/10\n",
      "892/892 [==============================] - 0s 545us/step - loss: 1.1667 - accuracy: 0.4605\n",
      "Epoch 10/10\n",
      "892/892 [==============================] - 0s 552us/step - loss: 1.1623 - accuracy: 0.4639\n"
     ]
    }
   ],
   "source": [
    "def build_nn_model(input_shape, num_classes):\n",
    "    model = tf.keras.models.Sequential([\n",
    "        tf.keras.layers.Dense(128, activation='relu', input_shape=input_shape),\n",
    "        tf.keras.layers.Dense(64, activation='relu'),\n",
    "        tf.keras.layers.Dense(32, activation='relu'),\n",
    "        tf.keras.layers.Dense(num_classes, activation='softmax')\n",
    "    ])\n",
    "    model.compile(optimizer='adam', loss='categorical_crossentropy', metrics=['accuracy'])\n",
    "\n",
    "    return model\n",
    "\n",
    "mirror_strategy = tf.distribute.MirroredStrategy()\n",
    "with mirror_strategy.scope():\n",
    "    nn_model1 = build_nn_model(scale_xTrain.shape[1:], yTrain.shape[1])\n",
    "    nn_model2 = build_nn_model(scale_xTrain.shape[1:], yTrain.shape[1])\n",
    "\n",
    "    fit_speed = tf.data.Dataset.from_tensor_slices((scale_xTrain, yTrain))\n",
    "    fit_speed = fit_speed.repeat().batch(100)\n",
    "\n",
    "    nn_model1.fit(scale_xTrain, yTrain, epochs=10)\n",
    "    nn_model2.fit(scale_xTrain, yTrain, epochs=10)"
   ]
  },
  {
   "cell_type": "markdown",
   "metadata": {},
   "source": [
    "## Create and train model(Random Forest)"
   ]
  },
  {
   "cell_type": "code",
   "execution_count": 43,
   "metadata": {
    "ExecuteTime": {
     "end_time": "2023-08-31T01:06:41.546106200Z",
     "start_time": "2023-08-31T01:06:24.757451Z"
    }
   },
   "outputs": [
    {
     "data": {
      "text/html": [
       "<style>#sk-container-id-3 {color: black;background-color: white;}#sk-container-id-3 pre{padding: 0;}#sk-container-id-3 div.sk-toggleable {background-color: white;}#sk-container-id-3 label.sk-toggleable__label {cursor: pointer;display: block;width: 100%;margin-bottom: 0;padding: 0.3em;box-sizing: border-box;text-align: center;}#sk-container-id-3 label.sk-toggleable__label-arrow:before {content: \"▸\";float: left;margin-right: 0.25em;color: #696969;}#sk-container-id-3 label.sk-toggleable__label-arrow:hover:before {color: black;}#sk-container-id-3 div.sk-estimator:hover label.sk-toggleable__label-arrow:before {color: black;}#sk-container-id-3 div.sk-toggleable__content {max-height: 0;max-width: 0;overflow: hidden;text-align: left;background-color: #f0f8ff;}#sk-container-id-3 div.sk-toggleable__content pre {margin: 0.2em;color: black;border-radius: 0.25em;background-color: #f0f8ff;}#sk-container-id-3 input.sk-toggleable__control:checked~div.sk-toggleable__content {max-height: 200px;max-width: 100%;overflow: auto;}#sk-container-id-3 input.sk-toggleable__control:checked~label.sk-toggleable__label-arrow:before {content: \"▾\";}#sk-container-id-3 div.sk-estimator input.sk-toggleable__control:checked~label.sk-toggleable__label {background-color: #d4ebff;}#sk-container-id-3 div.sk-label input.sk-toggleable__control:checked~label.sk-toggleable__label {background-color: #d4ebff;}#sk-container-id-3 input.sk-hidden--visually {border: 0;clip: rect(1px 1px 1px 1px);clip: rect(1px, 1px, 1px, 1px);height: 1px;margin: -1px;overflow: hidden;padding: 0;position: absolute;width: 1px;}#sk-container-id-3 div.sk-estimator {font-family: monospace;background-color: #f0f8ff;border: 1px dotted black;border-radius: 0.25em;box-sizing: border-box;margin-bottom: 0.5em;}#sk-container-id-3 div.sk-estimator:hover {background-color: #d4ebff;}#sk-container-id-3 div.sk-parallel-item::after {content: \"\";width: 100%;border-bottom: 1px solid gray;flex-grow: 1;}#sk-container-id-3 div.sk-label:hover label.sk-toggleable__label {background-color: #d4ebff;}#sk-container-id-3 div.sk-serial::before {content: \"\";position: absolute;border-left: 1px solid gray;box-sizing: border-box;top: 0;bottom: 0;left: 50%;z-index: 0;}#sk-container-id-3 div.sk-serial {display: flex;flex-direction: column;align-items: center;background-color: white;padding-right: 0.2em;padding-left: 0.2em;position: relative;}#sk-container-id-3 div.sk-item {position: relative;z-index: 1;}#sk-container-id-3 div.sk-parallel {display: flex;align-items: stretch;justify-content: center;background-color: white;position: relative;}#sk-container-id-3 div.sk-item::before, #sk-container-id-3 div.sk-parallel-item::before {content: \"\";position: absolute;border-left: 1px solid gray;box-sizing: border-box;top: 0;bottom: 0;left: 50%;z-index: -1;}#sk-container-id-3 div.sk-parallel-item {display: flex;flex-direction: column;z-index: 1;position: relative;background-color: white;}#sk-container-id-3 div.sk-parallel-item:first-child::after {align-self: flex-end;width: 50%;}#sk-container-id-3 div.sk-parallel-item:last-child::after {align-self: flex-start;width: 50%;}#sk-container-id-3 div.sk-parallel-item:only-child::after {width: 0;}#sk-container-id-3 div.sk-dashed-wrapped {border: 1px dashed gray;margin: 0 0.4em 0.5em 0.4em;box-sizing: border-box;padding-bottom: 0.4em;background-color: white;}#sk-container-id-3 div.sk-label label {font-family: monospace;font-weight: bold;display: inline-block;line-height: 1.2em;}#sk-container-id-3 div.sk-label-container {text-align: center;}#sk-container-id-3 div.sk-container {/* jupyter's `normalize.less` sets `[hidden] { display: none; }` but bootstrap.min.css set `[hidden] { display: none !important; }` so we also need the `!important` here to be able to override the default hidden behavior on the sphinx rendered scikit-learn.org. See: https://github.com/scikit-learn/scikit-learn/issues/21755 */display: inline-block !important;position: relative;}#sk-container-id-3 div.sk-text-repr-fallback {display: none;}</style><div id=\"sk-container-id-3\" class=\"sk-top-container\"><div class=\"sk-text-repr-fallback\"><pre>RandomForestClassifier()</pre><b>In a Jupyter environment, please rerun this cell to show the HTML representation or trust the notebook. <br />On GitHub, the HTML representation is unable to render, please try loading this page with nbviewer.org.</b></div><div class=\"sk-container\" hidden><div class=\"sk-item\"><div class=\"sk-estimator sk-toggleable\"><input class=\"sk-toggleable__control sk-hidden--visually\" id=\"sk-estimator-id-3\" type=\"checkbox\" checked><label for=\"sk-estimator-id-3\" class=\"sk-toggleable__label sk-toggleable__label-arrow\">RandomForestClassifier</label><div class=\"sk-toggleable__content\"><pre>RandomForestClassifier()</pre></div></div></div></div></div>"
      ],
      "text/plain": [
       "RandomForestClassifier()"
      ]
     },
     "execution_count": 43,
     "metadata": {},
     "output_type": "execute_result"
    }
   ],
   "source": [
    "RF_model = RandomForestClassifier(n_estimators=100)\n",
    "RF_model.fit(scale_xTrain, yTrain.argmax(axis=1))\n"
   ]
  },
  {
   "cell_type": "markdown",
   "metadata": {},
   "source": [
    "## Make predictions with each model individually"
   ]
  },
  {
   "cell_type": "code",
   "execution_count": 44,
   "metadata": {},
   "outputs": [
    {
     "name": "stdout",
     "output_type": "stream",
     "text": [
      "892/892 [==============================] - 0s 291us/step\n",
      "892/892 [==============================] - 0s 280us/step\n",
      "223/223 [==============================] - 0s 332us/step\n",
      "223/223 [==============================] - 0s 332us/step\n",
      "Shape:\n",
      "nn1_train_pred: (28543, 4)\n",
      "nn2_train_pred: (28543, 4)\n",
      "RF_train_pred: (28543, 4)\n",
      "Labels:\n",
      "nn1_train_pred: [3 0 0 ... 3 3 3]\n",
      "nn2_train_pred: [3 3 0 ... 3 3 3]\n",
      "RF_train_pred: [3 1 0 ... 3 3 2]\n",
      "nn1_test_pred: [3 3 3 ... 3 0 3]\n",
      "nn2_test_pred: [3 3 3 ... 3 0 3]\n",
      "RF_test_pred: [3 1 0 ... 1 3 3]\n",
      "\n"
     ]
    }
   ],
   "source": [
    "nn1_train_pred = nn_model1.predict(scale_xTrain)\n",
    "nn2_train_pred = nn_model2.predict(scale_xTrain)\n",
    "RF_train_pred = RF_model.predict_proba(scale_xTrain)\n",
    "\n",
    "nn1_test_pred = nn_model1.predict(scale_xTest)\n",
    "nn2_test_pred = nn_model2.predict(scale_xTest)\n",
    "RF_test_pred = RF_model.predict_proba(scale_xTest)\n",
    "\n",
    "print(\"Shape:\")\n",
    "print(\"nn1_train_pred:\", nn1_train_pred.shape)\n",
    "print(\"nn2_train_pred:\", nn2_train_pred.shape)\n",
    "print(\"RF_train_pred:\", RF_train_pred.shape)\n",
    "\n",
    "nn1_train_labels = nn1_train_pred.argmax(axis=1)\n",
    "nn2_train_labels = nn2_train_pred.argmax(axis=1)\n",
    "RF_train_labels = RF_train_pred.argmax(axis=1)\n",
    "\n",
    "nn1_test_labels = nn1_test_pred.argmax(axis=1)\n",
    "nn2_test_labels = nn2_test_pred.argmax(axis=1)\n",
    "RF_test_labels = RF_test_pred.argmax(axis=1)\n",
    "\n",
    "print(\"Labels:\")\n",
    "print(\"nn1_train_pred:\", nn1_train_labels)\n",
    "print(\"nn2_train_pred:\", nn2_train_labels)\n",
    "print(\"RF_train_pred:\", RF_train_labels)\n",
    "print(\"nn1_test_pred:\", nn1_test_labels)\n",
    "print(\"nn2_test_pred:\", nn2_test_labels)\n",
    "print(\"RF_test_pred:\", RF_test_labels)\n",
    "print()"
   ]
  },
  {
   "cell_type": "markdown",
   "metadata": {},
   "source": [
    "## Simple Ensemble: 3 linear models"
   ]
  },
  {
   "cell_type": "markdown",
   "metadata": {},
   "source": [
    "## Train the 3 linear models"
   ]
  },
  {
   "cell_type": "code",
   "execution_count": 45,
   "metadata": {},
   "outputs": [
    {
     "data": {
      "text/html": [
       "<style>#sk-container-id-4 {color: black;background-color: white;}#sk-container-id-4 pre{padding: 0;}#sk-container-id-4 div.sk-toggleable {background-color: white;}#sk-container-id-4 label.sk-toggleable__label {cursor: pointer;display: block;width: 100%;margin-bottom: 0;padding: 0.3em;box-sizing: border-box;text-align: center;}#sk-container-id-4 label.sk-toggleable__label-arrow:before {content: \"▸\";float: left;margin-right: 0.25em;color: #696969;}#sk-container-id-4 label.sk-toggleable__label-arrow:hover:before {color: black;}#sk-container-id-4 div.sk-estimator:hover label.sk-toggleable__label-arrow:before {color: black;}#sk-container-id-4 div.sk-toggleable__content {max-height: 0;max-width: 0;overflow: hidden;text-align: left;background-color: #f0f8ff;}#sk-container-id-4 div.sk-toggleable__content pre {margin: 0.2em;color: black;border-radius: 0.25em;background-color: #f0f8ff;}#sk-container-id-4 input.sk-toggleable__control:checked~div.sk-toggleable__content {max-height: 200px;max-width: 100%;overflow: auto;}#sk-container-id-4 input.sk-toggleable__control:checked~label.sk-toggleable__label-arrow:before {content: \"▾\";}#sk-container-id-4 div.sk-estimator input.sk-toggleable__control:checked~label.sk-toggleable__label {background-color: #d4ebff;}#sk-container-id-4 div.sk-label input.sk-toggleable__control:checked~label.sk-toggleable__label {background-color: #d4ebff;}#sk-container-id-4 input.sk-hidden--visually {border: 0;clip: rect(1px 1px 1px 1px);clip: rect(1px, 1px, 1px, 1px);height: 1px;margin: -1px;overflow: hidden;padding: 0;position: absolute;width: 1px;}#sk-container-id-4 div.sk-estimator {font-family: monospace;background-color: #f0f8ff;border: 1px dotted black;border-radius: 0.25em;box-sizing: border-box;margin-bottom: 0.5em;}#sk-container-id-4 div.sk-estimator:hover {background-color: #d4ebff;}#sk-container-id-4 div.sk-parallel-item::after {content: \"\";width: 100%;border-bottom: 1px solid gray;flex-grow: 1;}#sk-container-id-4 div.sk-label:hover label.sk-toggleable__label {background-color: #d4ebff;}#sk-container-id-4 div.sk-serial::before {content: \"\";position: absolute;border-left: 1px solid gray;box-sizing: border-box;top: 0;bottom: 0;left: 50%;z-index: 0;}#sk-container-id-4 div.sk-serial {display: flex;flex-direction: column;align-items: center;background-color: white;padding-right: 0.2em;padding-left: 0.2em;position: relative;}#sk-container-id-4 div.sk-item {position: relative;z-index: 1;}#sk-container-id-4 div.sk-parallel {display: flex;align-items: stretch;justify-content: center;background-color: white;position: relative;}#sk-container-id-4 div.sk-item::before, #sk-container-id-4 div.sk-parallel-item::before {content: \"\";position: absolute;border-left: 1px solid gray;box-sizing: border-box;top: 0;bottom: 0;left: 50%;z-index: -1;}#sk-container-id-4 div.sk-parallel-item {display: flex;flex-direction: column;z-index: 1;position: relative;background-color: white;}#sk-container-id-4 div.sk-parallel-item:first-child::after {align-self: flex-end;width: 50%;}#sk-container-id-4 div.sk-parallel-item:last-child::after {align-self: flex-start;width: 50%;}#sk-container-id-4 div.sk-parallel-item:only-child::after {width: 0;}#sk-container-id-4 div.sk-dashed-wrapped {border: 1px dashed gray;margin: 0 0.4em 0.5em 0.4em;box-sizing: border-box;padding-bottom: 0.4em;background-color: white;}#sk-container-id-4 div.sk-label label {font-family: monospace;font-weight: bold;display: inline-block;line-height: 1.2em;}#sk-container-id-4 div.sk-label-container {text-align: center;}#sk-container-id-4 div.sk-container {/* jupyter's `normalize.less` sets `[hidden] { display: none; }` but bootstrap.min.css set `[hidden] { display: none !important; }` so we also need the `!important` here to be able to override the default hidden behavior on the sphinx rendered scikit-learn.org. See: https://github.com/scikit-learn/scikit-learn/issues/21755 */display: inline-block !important;position: relative;}#sk-container-id-4 div.sk-text-repr-fallback {display: none;}</style><div id=\"sk-container-id-4\" class=\"sk-top-container\"><div class=\"sk-text-repr-fallback\"><pre>LinearRegression()</pre><b>In a Jupyter environment, please rerun this cell to show the HTML representation or trust the notebook. <br />On GitHub, the HTML representation is unable to render, please try loading this page with nbviewer.org.</b></div><div class=\"sk-container\" hidden><div class=\"sk-item\"><div class=\"sk-estimator sk-toggleable\"><input class=\"sk-toggleable__control sk-hidden--visually\" id=\"sk-estimator-id-4\" type=\"checkbox\" checked><label for=\"sk-estimator-id-4\" class=\"sk-toggleable__label sk-toggleable__label-arrow\">LinearRegression</label><div class=\"sk-toggleable__content\"><pre>LinearRegression()</pre></div></div></div></div></div>"
      ],
      "text/plain": [
       "LinearRegression()"
      ]
     },
     "execution_count": 45,
     "metadata": {},
     "output_type": "execute_result"
    }
   ],
   "source": [
    "from sklearn.linear_model import LinearRegression\n",
    "linmodel_1 = LinearRegression()\n",
    "linmodel_2 = LinearRegression()\n",
    "linmodel_3 = LinearRegression()\n",
    "\n",
    "linmodel_1.fit(scale_xTrain,yTrain)\n",
    "linmodel_2.fit(scale_xTrain,yTrain)\n",
    "linmodel_3.fit(scale_xTrain,yTrain)"
   ]
  },
  {
   "cell_type": "markdown",
   "metadata": {},
   "source": [
    "## Get the predictions out of the 3 linear regression models"
   ]
  },
  {
   "cell_type": "code",
   "execution_count": 46,
   "metadata": {},
   "outputs": [],
   "source": [
    "linmodel1_train_pred = linmodel_1.predict(scale_xTrain)\n",
    "linmodel2_train_pred = linmodel_2.predict(scale_xTrain)\n",
    "linmodel3_train_pred = linmodel_3.predict(scale_xTrain)\n",
    "\n",
    "linmodel1_test_pred = linmodel_1.predict(scale_xTest)\n",
    "linmodel2_test_pred = linmodel_2.predict(scale_xTest)\n",
    "linmodel3_test_pred = linmodel_3.predict(scale_xTest)"
   ]
  },
  {
   "cell_type": "markdown",
   "metadata": {},
   "source": [
    "## Get the ensemble prediction"
   ]
  },
  {
   "cell_type": "code",
   "execution_count": 47,
   "metadata": {},
   "outputs": [],
   "source": [
    "ensemble_simple_train_pred = (linmodel1_train_pred + linmodel2_train_pred + linmodel3_train_pred) / 3\n",
    "ensemble_simple_test_pred = (linmodel1_test_pred + linmodel2_test_pred + linmodel3_test_pred) / 3\n",
    "\n",
    "ensemble_simple_train_labels = ensemble_simple_train_pred.argmax(axis=1)\n",
    "ensemble_simple_test_labels = ensemble_simple_test_pred.argmax(axis=1)"
   ]
  },
  {
   "cell_type": "markdown",
   "metadata": {},
   "source": [
    "## (Simple Ensemble) Classification Report "
   ]
  },
  {
   "cell_type": "code",
   "execution_count": 48,
   "metadata": {},
   "outputs": [
    {
     "name": "stdout",
     "output_type": "stream",
     "text": [
      "Train:\n",
      "              precision    recall  f1-score   support\n",
      "\n",
      "           0       0.48      0.50      0.49      8336\n",
      "           1       0.38      0.04      0.07      5650\n",
      "           2       0.38      0.03      0.06      2918\n",
      "           3       0.44      0.72      0.55     11639\n",
      "\n",
      "    accuracy                           0.45     28543\n",
      "   macro avg       0.42      0.32      0.29     28543\n",
      "weighted avg       0.43      0.45      0.39     28543\n",
      "\n",
      "Test:\n",
      "              precision    recall  f1-score   support\n",
      "\n",
      "           0       0.28      0.83      0.41      2101\n",
      "           1       0.00      0.00      0.00      1425\n",
      "           2       0.00      0.00      0.00       712\n",
      "           3       0.39      0.12      0.18      2898\n",
      "\n",
      "    accuracy                           0.29      7136\n",
      "   macro avg       0.17      0.24      0.15      7136\n",
      "weighted avg       0.24      0.29      0.20      7136\n",
      "\n",
      "Training error\n"
     ]
    },
    {
     "name": "stderr",
     "output_type": "stream",
     "text": [
      "/Users/will./anaconda3/lib/python3.11/site-packages/sklearn/metrics/_classification.py:1334: UndefinedMetricWarning: Precision and F-score are ill-defined and being set to 0.0 in labels with no predicted samples. Use `zero_division` parameter to control this behavior.\n",
      "  _warn_prf(average, modifier, msg_start, len(result))\n",
      "/Users/will./anaconda3/lib/python3.11/site-packages/sklearn/metrics/_classification.py:1334: UndefinedMetricWarning: Precision and F-score are ill-defined and being set to 0.0 in labels with no predicted samples. Use `zero_division` parameter to control this behavior.\n",
      "  _warn_prf(average, modifier, msg_start, len(result))\n",
      "/Users/will./anaconda3/lib/python3.11/site-packages/sklearn/metrics/_classification.py:1334: UndefinedMetricWarning: Precision and F-score are ill-defined and being set to 0.0 in labels with no predicted samples. Use `zero_division` parameter to control this behavior.\n",
      "  _warn_prf(average, modifier, msg_start, len(result))\n"
     ]
    }
   ],
   "source": [
    "print(\"Train:\")\n",
    "print(classification_report(yTrain.argmax(axis=1), ensemble_simple_train_labels))\n",
    "print(\"Test:\")\n",
    "print(classification_report(yTest.argmax(axis=1), ensemble_simple_test_labels))\n",
    "\n",
    "print(\"Training error\")"
   ]
  },
  {
   "cell_type": "markdown",
   "metadata": {
    "collapsed": false
   },
   "source": [
    "## Complex Ensemble: 2 NN + 1 RF"
   ]
  },
  {
   "cell_type": "code",
   "execution_count": 49,
   "metadata": {},
   "outputs": [
    {
     "name": "stdout",
     "output_type": "stream",
     "text": [
      "ensemble_train_labels: [3 1 0 ... 3 3 3]\n",
      "ensemble_train_labels: [3 1 0 ... 3 3 3]\n"
     ]
    }
   ],
   "source": [
    "ensemble_train_pred = (nn1_train_pred + nn2_train_pred + RF_train_pred) / 3\n",
    "ensemble_test_pred = (nn1_test_pred + nn2_test_pred + RF_test_pred) / 3\n",
    "\n",
    "ensemble_train_labels = ensemble_train_pred.argmax(axis=1)\n",
    "ensemble_test_labels = ensemble_test_pred.argmax(axis=1)\n",
    "\n",
    "print(\"ensemble_train_labels:\",ensemble_train_labels)\n",
    "print(\"ensemble_train_labels:\",ensemble_train_labels)\n"
   ]
  },
  {
   "cell_type": "markdown",
   "metadata": {},
   "source": [
    "## Model Evaluation"
   ]
  },
  {
   "cell_type": "code",
   "execution_count": 50,
   "metadata": {
    "is_executing": true
   },
   "outputs": [
    {
     "name": "stdout",
     "output_type": "stream",
     "text": [
      "Train:\n",
      "              precision    recall  f1-score   support\n",
      "\n",
      "           0       0.76      0.94      0.84      8336\n",
      "           1       0.97      0.54      0.69      5650\n",
      "           2       1.00      0.44      0.61      2918\n",
      "           3       0.78      0.92      0.84     11639\n",
      "\n",
      "    accuracy                           0.80     28543\n",
      "   macro avg       0.88      0.71      0.75     28543\n",
      "weighted avg       0.83      0.80      0.79     28543\n",
      "\n",
      "Test:\n",
      "              precision    recall  f1-score   support\n",
      "\n",
      "           0       0.55      0.31      0.39      2101\n",
      "           1       0.44      0.17      0.25      1425\n",
      "           2       0.25      0.20      0.22       712\n",
      "           3       0.44      0.74      0.55      2898\n",
      "\n",
      "    accuracy                           0.44      7136\n",
      "   macro avg       0.42      0.35      0.35      7136\n",
      "weighted avg       0.45      0.44      0.41      7136\n",
      "\n"
     ]
    }
   ],
   "source": [
    "print(\"Train:\")\n",
    "print(classification_report(yTrain.argmax(axis=1), ensemble_train_labels))\n",
    "print(\"Test:\")\n",
    "print(classification_report(yTest.argmax(axis=1), ensemble_test_labels))\n"
   ]
  },
  {
   "cell_type": "code",
   "execution_count": 51,
   "metadata": {},
   "outputs": [
    {
     "name": "stdout",
     "output_type": "stream",
     "text": [
      "Model Train Accuracies:\n",
      "Neural Network 1: 0.4595\n",
      "Neural Network 2: 0.4645\n",
      "Random Forest: 1.0000\n",
      "\n",
      "Model Test Accuracies:\n",
      "Neural Network 1: 0.4507\n",
      "Neural Network 2: 0.4325\n",
      "Random Forest: 0.4096\n",
      "\n",
      "Ensemble Model:\n",
      "Training Accuracy: 0.8023\n",
      "Testing Accuracy: 0.4444\n"
     ]
    }
   ],
   "source": [
    "from sklearn.metrics import accuracy_score\n",
    "nn1_train_accuracy = accuracy_score(yTrain.argmax(axis=1), nn1_train_labels)\n",
    "nn2_train_accuracy = accuracy_score(yTrain.argmax(axis=1), nn2_train_labels)\n",
    "RF_train_accuracy = accuracy_score(yTrain.argmax(axis=1), RF_train_labels)\n",
    "\n",
    "nn1_test_accuracy = accuracy_score(yTest.argmax(axis=1), nn1_test_labels)\n",
    "nn2_test_accuracy = accuracy_score(yTest.argmax(axis=1), nn2_test_labels)\n",
    "RF_test_accuracy = accuracy_score(yTest.argmax(axis=1), RF_test_labels)\n",
    "\n",
    "ensemble_train_accuracy = accuracy_score(yTrain.argmax(axis=1), ensemble_train_labels)\n",
    "ensemble_test_accuracy = accuracy_score(yTest.argmax(axis=1), ensemble_test_labels)\n",
    "\n",
    "print(\"Model Train Accuracies:\")\n",
    "print(f\"Neural Network 1: {nn1_train_accuracy:.4f}\")\n",
    "print(f\"Neural Network 2: {nn2_train_accuracy:.4f}\")\n",
    "print(f\"Random Forest: {RF_train_accuracy:.4f}\")\n",
    "print()\n",
    "\n",
    "print(\"Model Test Accuracies:\")\n",
    "print(f\"Neural Network 1: {nn1_test_accuracy:.4f}\")\n",
    "print(f\"Neural Network 2: {nn2_test_accuracy:.4f}\")\n",
    "print(f\"Random Forest: {RF_test_accuracy:.4f}\")\n",
    "print()\n",
    "\n",
    "print(\"Ensemble Model:\")\n",
    "print(f\"Training Accuracy: {ensemble_train_accuracy:.4f}\")\n",
    "print(f\"Testing Accuracy: {ensemble_test_accuracy:.4f}\")"
   ]
  },
  {
   "cell_type": "markdown",
   "metadata": {},
   "source": [
    "### MSE calculation\n"
   ]
  },
  {
   "cell_type": "code",
   "execution_count": 66,
   "metadata": {},
   "outputs": [
    {
     "name": "stdout",
     "output_type": "stream",
     "text": [
      "training mse for ensemble model: 3.0698\n",
      "testing mse for ensemble model: 4.3215\n"
     ]
    }
   ],
   "source": [
    "from sklearn.metrics import mean_squared_error\n",
    "training_mse_final_model = mean_squared_error(yTrain.argmax(axis=1), ensemble_simple_train_labels)\n",
    "print(f\"training mse for ensemble model: {training_mse_final_model:.4f}\")\n",
    "\n",
    "\n",
    "testing_mse_final_model = mean_squared_error(yTest.argmax(axis=1),ensemble_simple_test_labels)\n",
    "print(f\"testing mse for ensemble model: {testing_mse_final_model:.4f}\")"
   ]
  }
 ],
 "metadata": {
  "kernelspec": {
   "display_name": "Python 3 (ipykernel)",
   "language": "python",
   "name": "python3"
  },
  "language_info": {
   "codemirror_mode": {
    "name": "ipython",
    "version": 3
   },
   "file_extension": ".py",
   "mimetype": "text/x-python",
   "name": "python",
   "nbconvert_exporter": "python",
   "pygments_lexer": "ipython3",
   "version": "3.11.4"
  },
  "orig_nbformat": 4
 },
 "nbformat": 4,
 "nbformat_minor": 2
}

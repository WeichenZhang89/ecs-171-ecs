{
 "cells": [
  {
   "cell_type": "markdown",
   "source": [
    "## Package Import"
   ],
   "metadata": {
    "collapsed": false
   },
   "id": "ae6122e015dabbef"
  },
  {
   "cell_type": "code",
   "execution_count": 50,
   "id": "initial_id",
   "metadata": {
    "collapsed": true,
    "ExecuteTime": {
     "end_time": "2023-09-08T07:27:24.415340Z",
     "start_time": "2023-09-08T07:27:24.393341600Z"
    }
   },
   "outputs": [],
   "source": [
    "import tensorflow as tf\n",
    "import numpy as np\n",
    "import pandas as pd\n",
    "from sklearn.ensemble import IsolationForest, RandomForestClassifier\n",
    "from sklearn.preprocessing import OneHotEncoder\n",
    "from sklearn.svm import SVC\n",
    "from sklearn.model_selection import train_test_split\n",
    "from sklearn.metrics import classification_report, accuracy_score, confusion_matrix\n",
    "from sklearn.preprocessing import PolynomialFeatures\n",
    "from sklearn.linear_model import LinearRegression\n",
    "from sklearn.pipeline import make_pipeline\n",
    "from sklearn.model_selection import StratifiedKFold\n",
    "from sklearn.linear_model import Ridge\n",
    "from tensorflow.keras.models import Sequential\n",
    "from tensorflow.keras.layers import Dense\n",
    "from sklearn.preprocessing import LabelEncoder\n",
    "from tensorflow.keras.layers import Dropout\n",
    "from sklearn.preprocessing import MinMaxScaler\n",
    "from keras.regularizers import l2, l1\n",
    "from tensorflow.keras.models import load_model\n",
    "from joblib import dump, load\n",
    "import matplotlib.pyplot as plt"
   ]
  },
  {
   "cell_type": "markdown",
   "source": [
    "## Read File"
   ],
   "metadata": {
    "collapsed": false
   },
   "id": "11207d1d021c3b15"
  },
  {
   "cell_type": "code",
   "execution_count": 2,
   "outputs": [],
   "source": [
    "data = pd.read_csv('OnlineNewsPopularity.csv')\n",
    "data.columns = [col.strip() for col in data.columns]"
   ],
   "metadata": {
    "collapsed": false,
    "ExecuteTime": {
     "end_time": "2023-09-08T06:34:47.978525200Z",
     "start_time": "2023-09-08T06:34:47.750528900Z"
    }
   },
   "id": "2f4bad0ef494c313"
  },
  {
   "cell_type": "markdown",
   "source": [
    "## Create isolation forest model to remove outliers\n",
    "[API Link to IF](https://scikit-learn.org/stable/modules/generated/sklearn.ensemble.IsolationForest.html#sklearn.ensemble.IsolationForest)"
   ],
   "metadata": {
    "collapsed": false
   },
   "id": "6607924ba57244"
  },
  {
   "cell_type": "code",
   "execution_count": 3,
   "outputs": [
    {
     "name": "stdout",
     "output_type": "stream",
     "text": [
      "There are total 3965 rows been removied.\n"
     ]
    }
   ],
   "source": [
    "old_data_length = len(data)\n",
    "IF_model = IsolationForest(contamination=0.1) # Remove 10% data\n",
    "outliers = IF_model.fit_predict(data.drop(columns=['url', 'timedelta', 'shares'])) # Delete columns than don't need in IF and train IF model\n",
    "data['outliers'] = outliers\n",
    "\n",
    "# Remove outliers\n",
    "data_outliers = data[data['outliers'] == -1]\n",
    "new_data = data[data['outliers'] != -1].drop(columns = ['outliers'])\n",
    "\n",
    "new_data_len = len(new_data)\n",
    "\n",
    "print(f\"There are total {old_data_length - new_data_len} rows been removied.\")"
   ],
   "metadata": {
    "collapsed": false,
    "ExecuteTime": {
     "end_time": "2023-09-08T06:34:48.391995500Z",
     "start_time": "2023-09-08T06:34:47.974527600Z"
    }
   },
   "id": "68c18190a1c0fcfb"
  },
  {
   "cell_type": "markdown",
   "source": [
    "## Creat a function to classify an article to different categories\n",
    "* Great Article: Shares >= 90%\n",
    "* Good Article: 70% <= Shares < 90%\n",
    "* Normal Article: 30% <= Shares < 70%\n",
    "* Bad article: Shares < 30%"
   ],
   "metadata": {
    "collapsed": false
   },
   "id": "a78eeb1a0617bd88"
  },
  {
   "cell_type": "code",
   "execution_count": 4,
   "outputs": [],
   "source": [
    "def article_classifier(shares, top_percent):\n",
    "    if shares >= top_percent[0.9]:\n",
    "        return 'Great'\n",
    "    elif shares >= top_percent[0.7]:\n",
    "        return 'Good'\n",
    "    elif shares >= top_percent[0.3]:\n",
    "        return 'Normal'\n",
    "    else:\n",
    "        return 'Bad'\n"
   ],
   "metadata": {
    "collapsed": false,
    "ExecuteTime": {
     "end_time": "2023-09-08T06:34:48.405995100Z",
     "start_time": "2023-09-08T06:34:48.383998700Z"
    }
   },
   "id": "45d519cc1e63b28d"
  },
  {
   "cell_type": "markdown",
   "source": [
    "## Data Classifier"
   ],
   "metadata": {
    "collapsed": false
   },
   "id": "380c2344c7889899"
  },
  {
   "cell_type": "code",
   "execution_count": 5,
   "outputs": [],
   "source": [
    "top_percent = new_data['shares'].quantile([0.3, 0.7, 0.9])\n",
    "\n",
    "quality = []\n",
    "for index, row in new_data.iterrows():\n",
    "    quality.append(article_classifier(row['shares'], top_percent))\n",
    "\n",
    "new_data['quality'] = quality"
   ],
   "metadata": {
    "collapsed": false,
    "ExecuteTime": {
     "end_time": "2023-09-08T06:34:49.981814900Z",
     "start_time": "2023-09-08T06:34:48.398998700Z"
    }
   },
   "id": "914b3f19f8f0f8a7"
  },
  {
   "cell_type": "markdown",
   "source": [
    "## Split dataset into x and y and one-hot encode quality column"
   ],
   "metadata": {
    "collapsed": false
   },
   "id": "82493d22beb1d4c7"
  },
  {
   "cell_type": "code",
   "execution_count": 6,
   "outputs": [],
   "source": [
    "x = new_data.drop(columns=['quality', 'url', 'timedelta', 'shares'], axis=1)\n",
    "y = new_data['quality']\n",
    "le = LabelEncoder()\n",
    "y = le.fit_transform(y)\n",
    "scaler = MinMaxScaler()\n",
    "scaled_X = scaler.fit_transform(x)\n",
    "xTrain, xTest, yTrain, yTest = train_test_split(scaled_X, y, test_size=0.2, random_state=10)\n",
    "scale_xTrain = pd.DataFrame(xTrain)\n",
    "scale_xTest = pd.DataFrame(xTest)"
   ],
   "metadata": {
    "collapsed": false,
    "ExecuteTime": {
     "end_time": "2023-09-08T06:34:50.013814600Z",
     "start_time": "2023-09-08T06:34:49.988817900Z"
    }
   },
   "id": "a0109971553fd10f"
  },
  {
   "cell_type": "markdown",
   "source": [
    "## NN1"
   ],
   "metadata": {
    "collapsed": false
   },
   "id": "fcd9cad1c9222325"
  },
  {
   "cell_type": "code",
   "execution_count": null,
   "outputs": [
    {
     "name": "stdout",
     "output_type": "stream",
     "text": [
      "Epoch 1/100\n",
      "803/803 [==============================] - 3s 3ms/step - loss: 1.3495 - accuracy: 0.4335 - val_loss: 1.2363 - val_accuracy: 0.4497\n",
      "Epoch 2/100\n",
      "803/803 [==============================] - 3s 3ms/step - loss: 1.2253 - accuracy: 0.4425 - val_loss: 1.2310 - val_accuracy: 0.4252\n",
      "Epoch 3/100\n",
      "803/803 [==============================] - 3s 3ms/step - loss: 1.2109 - accuracy: 0.4464 - val_loss: 1.2151 - val_accuracy: 0.4438\n",
      "Epoch 4/100\n",
      "803/803 [==============================] - 3s 3ms/step - loss: 1.2036 - accuracy: 0.4504 - val_loss: 1.2054 - val_accuracy: 0.4441\n",
      "Epoch 5/100\n",
      "803/803 [==============================] - 3s 3ms/step - loss: 1.1981 - accuracy: 0.4513 - val_loss: 1.1967 - val_accuracy: 0.4473\n",
      "Epoch 6/100\n",
      "803/803 [==============================] - 3s 3ms/step - loss: 1.1929 - accuracy: 0.4521 - val_loss: 1.1957 - val_accuracy: 0.4469\n",
      "Epoch 7/100\n",
      "803/803 [==============================] - 3s 3ms/step - loss: 1.1902 - accuracy: 0.4539 - val_loss: 1.1949 - val_accuracy: 0.4406\n",
      "Epoch 8/100\n",
      "803/803 [==============================] - 3s 3ms/step - loss: 1.1861 - accuracy: 0.4552 - val_loss: 1.1959 - val_accuracy: 0.4504\n",
      "Epoch 9/100\n",
      "803/803 [==============================] - 3s 3ms/step - loss: 1.1841 - accuracy: 0.4587 - val_loss: 1.1913 - val_accuracy: 0.4487\n",
      "Epoch 10/100\n",
      "803/803 [==============================] - 3s 3ms/step - loss: 1.1792 - accuracy: 0.4601 - val_loss: 1.1891 - val_accuracy: 0.4585\n",
      "Epoch 11/100\n",
      "803/803 [==============================] - 3s 3ms/step - loss: 1.1757 - accuracy: 0.4640 - val_loss: 1.1862 - val_accuracy: 0.4508\n",
      "Epoch 12/100\n",
      "803/803 [==============================] - 3s 3ms/step - loss: 1.1736 - accuracy: 0.4633 - val_loss: 1.1865 - val_accuracy: 0.4466\n",
      "Epoch 13/100\n",
      "803/803 [==============================] - 3s 3ms/step - loss: 1.1697 - accuracy: 0.4673 - val_loss: 1.1802 - val_accuracy: 0.4557\n",
      "Epoch 14/100\n",
      "803/803 [==============================] - 3s 3ms/step - loss: 1.1679 - accuracy: 0.4673 - val_loss: 1.1918 - val_accuracy: 0.4511\n",
      "Epoch 15/100\n",
      "803/803 [==============================] - 3s 3ms/step - loss: 1.1654 - accuracy: 0.4665 - val_loss: 1.1796 - val_accuracy: 0.4543\n",
      "Epoch 16/100\n",
      "803/803 [==============================] - 3s 3ms/step - loss: 1.1608 - accuracy: 0.4680 - val_loss: 1.1870 - val_accuracy: 0.4588\n",
      "Epoch 17/100\n",
      "803/803 [==============================] - 3s 3ms/step - loss: 1.1607 - accuracy: 0.4673 - val_loss: 1.1866 - val_accuracy: 0.4480\n",
      "Epoch 18/100\n",
      "803/803 [==============================] - 3s 3ms/step - loss: 1.1582 - accuracy: 0.4718 - val_loss: 1.1858 - val_accuracy: 0.4511\n",
      "Epoch 19/100\n",
      "803/803 [==============================] - 3s 3ms/step - loss: 1.1562 - accuracy: 0.4725 - val_loss: 1.1815 - val_accuracy: 0.4529\n",
      "Epoch 20/100\n",
      "803/803 [==============================] - 3s 3ms/step - loss: 1.1523 - accuracy: 0.4757 - val_loss: 1.1818 - val_accuracy: 0.4508\n",
      "Epoch 21/100\n",
      "803/803 [==============================] - 3s 3ms/step - loss: 1.1492 - accuracy: 0.4771 - val_loss: 1.1912 - val_accuracy: 0.4448\n",
      "Epoch 22/100\n",
      "803/803 [==============================] - 3s 3ms/step - loss: 1.1467 - accuracy: 0.4785 - val_loss: 1.2014 - val_accuracy: 0.4385\n",
      "Epoch 23/100\n",
      "803/803 [==============================] - 3s 3ms/step - loss: 1.1443 - accuracy: 0.4788 - val_loss: 1.1812 - val_accuracy: 0.4606\n",
      "Epoch 24/100\n",
      "803/803 [==============================] - 3s 3ms/step - loss: 1.1416 - accuracy: 0.4805 - val_loss: 1.1910 - val_accuracy: 0.4581\n",
      "Epoch 25/100\n",
      "569/803 [====================>.........] - ETA: 0s - loss: 1.1388 - accuracy: 0.4820"
     ]
    }
   ],
   "source": [
    "from keras.callbacks import EarlyStopping\n",
    "\n",
    "nn1 = Sequential([\n",
    "    Dense(256, activation='relu', input_dim=scale_xTrain.shape[1]),\n",
    "    Dense(128, activation='relu'),\n",
    "    Dropout(0.1),\n",
    "    Dense(64, activation='relu', kernel_regularizer=l1(0.001)),\n",
    "    Dense(4, activation='softmax'),\n",
    "])\n",
    "\n",
    "nn1.compile(optimizer='adam', loss='sparse_categorical_crossentropy', metrics=['accuracy'])\n",
    "\n",
    "early_stopping = EarlyStopping(monitor='val_loss', patience=10, restore_best_weights=True)\n",
    "\n",
    "history = nn1.fit(scale_xTrain, yTrain, epochs=100, batch_size=32, validation_split=0.1, callbacks=[early_stopping])\n",
    "nn1.save('nn1.h5')"
   ],
   "metadata": {
    "collapsed": false,
    "is_executing": true,
    "ExecuteTime": {
     "start_time": "2023-09-08T07:35:55.477774700Z"
    }
   },
   "id": "cc77982b0c6bbe80"
  },
  {
   "cell_type": "markdown",
   "source": [
    "## NN1 analysis"
   ],
   "metadata": {
    "collapsed": false
   },
   "id": "32350c2a92cf50b7"
  },
  {
   "cell_type": "code",
   "execution_count": 42,
   "outputs": [
    {
     "name": "stdout",
     "output_type": "stream",
     "text": [
      "892/892 [==============================] - 1s 1ms/step\n",
      "Classification Report:\n",
      "              precision    recall  f1-score   support\n",
      "\n",
      "           0       0.84      0.81      0.82      8339\n",
      "           1       0.83      0.76      0.80      5656\n",
      "           2       0.72      0.80      0.76      2904\n",
      "           3       0.82      0.85      0.84     11644\n",
      "\n",
      "    accuracy                           0.82     28543\n",
      "   macro avg       0.80      0.81      0.80     28543\n",
      "weighted avg       0.82      0.82      0.82     28543\n"
     ]
    },
    {
     "data": {
      "text/plain": "<Figure size 1200x500 with 2 Axes>",
      "image/png": "[encoded data removed]"
     },
     "metadata": {},
     "output_type": "display_data"
    }
   ],
   "source": [
    "y_pred = nn1.predict(scale_xTrain)\n",
    "y_pred_classes = np.argmax(y_pred, axis=1)\n",
    "print(\"Classification Report:\")\n",
    "print(classification_report(yTrain, y_pred_classes))\n",
    "\n",
    "\n",
    "plt.figure(figsize=(12, 5))\n",
    "\n",
    "plt.subplot(1, 2, 1)\n",
    "plt.plot(history.history['accuracy'], label='Training Accuracy')\n",
    "plt.plot(history.history['val_accuracy'], label='Validation Accuracy')\n",
    "plt.title('Training and Validation Accuracy')\n",
    "plt.xlabel('Epoch')\n",
    "plt.ylabel('Accuracy')\n",
    "plt.legend()\n",
    "\n",
    "\n",
    "plt.subplot(1, 2, 2)\n",
    "plt.plot(history.history['loss'], label='Training Loss')\n",
    "plt.plot(history.history['val_loss'], label='Validation Loss')\n",
    "plt.title('Training and Validation Loss')\n",
    "plt.xlabel('Epoch')\n",
    "plt.ylabel('Loss')\n",
    "plt.legend()\n",
    "\n",
    "plt.tight_layout()\n",
    "plt.show()"
   ],
   "metadata": {
    "collapsed": false,
    "ExecuteTime": {
     "end_time": "2023-09-08T07:16:55.049286100Z",
     "start_time": "2023-09-08T07:16:53.457161900Z"
    }
   },
   "id": "9aee22746e270f5f"
  },
  {
   "cell_type": "markdown",
   "source": [
    "## NN2"
   ],
   "metadata": {
    "collapsed": false
   },
   "id": "7642fecc10b392a1"
  },
  {
   "cell_type": "code",
   "execution_count": 24,
   "outputs": [
    {
     "name": "stdout",
     "output_type": "stream",
     "text": [
      "Epoch 1/100\n",
      "892/892 [==============================] - 3s 3ms/step - loss: 1.2294 - accuracy: 0.4272\n",
      "Epoch 2/100\n",
      "892/892 [==============================] - 3s 3ms/step - loss: 1.2104 - accuracy: 0.4351\n",
      "Epoch 3/100\n",
      "892/892 [==============================] - 3s 3ms/step - loss: 1.2031 - accuracy: 0.4429\n",
      "Epoch 4/100\n",
      "892/892 [==============================] - 3s 3ms/step - loss: 1.2012 - accuracy: 0.4433\n",
      "Epoch 5/100\n",
      "892/892 [==============================] - 3s 3ms/step - loss: 1.1983 - accuracy: 0.4432\n",
      "Epoch 6/100\n",
      "892/892 [==============================] - 3s 3ms/step - loss: 1.1966 - accuracy: 0.4453\n",
      "Epoch 7/100\n",
      "892/892 [==============================] - 3s 3ms/step - loss: 1.1953 - accuracy: 0.4449\n",
      "Epoch 8/100\n",
      "892/892 [==============================] - 3s 3ms/step - loss: 1.1934 - accuracy: 0.4474\n",
      "Epoch 9/100\n",
      "892/892 [==============================] - 3s 3ms/step - loss: 1.1938 - accuracy: 0.4471\n",
      "Epoch 10/100\n",
      "892/892 [==============================] - 3s 3ms/step - loss: 1.1899 - accuracy: 0.4495\n",
      "Epoch 11/100\n",
      "892/892 [==============================] - 3s 3ms/step - loss: 1.1878 - accuracy: 0.4473\n",
      "Epoch 12/100\n",
      "892/892 [==============================] - 3s 3ms/step - loss: 1.1874 - accuracy: 0.4521\n",
      "Epoch 13/100\n",
      "892/892 [==============================] - 3s 3ms/step - loss: 1.1855 - accuracy: 0.4510\n",
      "Epoch 14/100\n",
      "892/892 [==============================] - 3s 3ms/step - loss: 1.1836 - accuracy: 0.4555\n",
      "Epoch 15/100\n",
      "892/892 [==============================] - 3s 3ms/step - loss: 1.1817 - accuracy: 0.4542\n",
      "Epoch 16/100\n",
      "892/892 [==============================] - 3s 3ms/step - loss: 1.1801 - accuracy: 0.4530\n",
      "Epoch 17/100\n",
      "892/892 [==============================] - 3s 3ms/step - loss: 1.1784 - accuracy: 0.4584\n",
      "Epoch 18/100\n",
      "892/892 [==============================] - 3s 3ms/step - loss: 1.1775 - accuracy: 0.4578\n",
      "Epoch 19/100\n",
      "892/892 [==============================] - 3s 3ms/step - loss: 1.1752 - accuracy: 0.4572\n",
      "Epoch 20/100\n",
      "892/892 [==============================] - 3s 3ms/step - loss: 1.1726 - accuracy: 0.4590\n",
      "Epoch 21/100\n",
      "892/892 [==============================] - 3s 3ms/step - loss: 1.1715 - accuracy: 0.4603\n",
      "Epoch 22/100\n",
      "892/892 [==============================] - 3s 3ms/step - loss: 1.1687 - accuracy: 0.4617\n",
      "Epoch 23/100\n",
      "892/892 [==============================] - 3s 3ms/step - loss: 1.1652 - accuracy: 0.4648\n",
      "Epoch 24/100\n",
      "892/892 [==============================] - 3s 3ms/step - loss: 1.1639 - accuracy: 0.4658\n",
      "Epoch 25/100\n",
      "892/892 [==============================] - 3s 3ms/step - loss: 1.1612 - accuracy: 0.4661\n",
      "Epoch 26/100\n",
      "892/892 [==============================] - 3s 3ms/step - loss: 1.1581 - accuracy: 0.4666\n",
      "Epoch 27/100\n",
      "892/892 [==============================] - 3s 3ms/step - loss: 1.1533 - accuracy: 0.4701\n",
      "Epoch 28/100\n",
      "892/892 [==============================] - 3s 3ms/step - loss: 1.1525 - accuracy: 0.4725\n",
      "Epoch 29/100\n",
      "892/892 [==============================] - 3s 3ms/step - loss: 1.1477 - accuracy: 0.4750\n",
      "Epoch 30/100\n",
      "892/892 [==============================] - 3s 3ms/step - loss: 1.1448 - accuracy: 0.4758\n",
      "Epoch 31/100\n",
      "892/892 [==============================] - 3s 3ms/step - loss: 1.1406 - accuracy: 0.4787\n",
      "Epoch 32/100\n",
      "892/892 [==============================] - 3s 3ms/step - loss: 1.1369 - accuracy: 0.4781\n",
      "Epoch 33/100\n",
      "892/892 [==============================] - 3s 3ms/step - loss: 1.1329 - accuracy: 0.4810\n",
      "Epoch 34/100\n",
      "892/892 [==============================] - 3s 3ms/step - loss: 1.1269 - accuracy: 0.4857\n",
      "Epoch 35/100\n",
      "892/892 [==============================] - 3s 3ms/step - loss: 1.1220 - accuracy: 0.4869\n",
      "Epoch 36/100\n",
      "892/892 [==============================] - 3s 3ms/step - loss: 1.1160 - accuracy: 0.4919\n",
      "Epoch 37/100\n",
      "892/892 [==============================] - 3s 3ms/step - loss: 1.1090 - accuracy: 0.4957\n",
      "Epoch 38/100\n",
      "892/892 [==============================] - 3s 3ms/step - loss: 1.1055 - accuracy: 0.4990\n",
      "Epoch 39/100\n",
      "892/892 [==============================] - 3s 3ms/step - loss: 1.0977 - accuracy: 0.5023\n",
      "Epoch 40/100\n",
      "892/892 [==============================] - 3s 3ms/step - loss: 1.0915 - accuracy: 0.5044\n",
      "Epoch 41/100\n",
      "892/892 [==============================] - 3s 3ms/step - loss: 1.0839 - accuracy: 0.5115\n",
      "Epoch 42/100\n",
      "892/892 [==============================] - 3s 3ms/step - loss: 1.0759 - accuracy: 0.5157\n",
      "Epoch 43/100\n",
      "892/892 [==============================] - 3s 3ms/step - loss: 1.0706 - accuracy: 0.5160\n",
      "Epoch 44/100\n",
      "892/892 [==============================] - 3s 3ms/step - loss: 1.0638 - accuracy: 0.5205\n",
      "Epoch 45/100\n",
      "892/892 [==============================] - 3s 3ms/step - loss: 1.0533 - accuracy: 0.5325\n",
      "Epoch 46/100\n",
      "892/892 [==============================] - 3s 3ms/step - loss: 1.0431 - accuracy: 0.5349\n",
      "Epoch 47/100\n",
      "892/892 [==============================] - 3s 3ms/step - loss: 1.0323 - accuracy: 0.5389\n",
      "Epoch 48/100\n",
      "892/892 [==============================] - 3s 3ms/step - loss: 1.0228 - accuracy: 0.5445\n",
      "Epoch 49/100\n",
      "892/892 [==============================] - 3s 3ms/step - loss: 1.0122 - accuracy: 0.5504\n",
      "Epoch 50/100\n",
      "892/892 [==============================] - 3s 3ms/step - loss: 1.0027 - accuracy: 0.5557\n",
      "Epoch 51/100\n",
      "892/892 [==============================] - 3s 3ms/step - loss: 0.9908 - accuracy: 0.5627\n",
      "Epoch 52/100\n",
      "892/892 [==============================] - 3s 3ms/step - loss: 0.9756 - accuracy: 0.5721\n",
      "Epoch 53/100\n",
      "892/892 [==============================] - 3s 3ms/step - loss: 0.9662 - accuracy: 0.5746\n",
      "Epoch 54/100\n",
      "892/892 [==============================] - 3s 3ms/step - loss: 0.9564 - accuracy: 0.5830\n",
      "Epoch 55/100\n",
      "892/892 [==============================] - 3s 3ms/step - loss: 0.9425 - accuracy: 0.5891\n",
      "Epoch 56/100\n",
      "892/892 [==============================] - 3s 3ms/step - loss: 0.9327 - accuracy: 0.5929\n",
      "Epoch 57/100\n",
      "892/892 [==============================] - 3s 3ms/step - loss: 0.9217 - accuracy: 0.6001\n",
      "Epoch 58/100\n",
      "892/892 [==============================] - 3s 3ms/step - loss: 0.9078 - accuracy: 0.6096\n",
      "Epoch 59/100\n",
      "892/892 [==============================] - 3s 3ms/step - loss: 0.8951 - accuracy: 0.6137\n",
      "Epoch 60/100\n",
      "892/892 [==============================] - 3s 3ms/step - loss: 0.8804 - accuracy: 0.6209\n",
      "Epoch 61/100\n",
      "892/892 [==============================] - 3s 3ms/step - loss: 0.8757 - accuracy: 0.6236\n",
      "Epoch 62/100\n",
      "892/892 [==============================] - 3s 3ms/step - loss: 0.8566 - accuracy: 0.6330\n",
      "Epoch 63/100\n",
      "892/892 [==============================] - 3s 3ms/step - loss: 0.8417 - accuracy: 0.6417\n",
      "Epoch 64/100\n",
      "892/892 [==============================] - 3s 3ms/step - loss: 0.8297 - accuracy: 0.6449\n",
      "Epoch 65/100\n",
      "892/892 [==============================] - 3s 3ms/step - loss: 0.8198 - accuracy: 0.6506\n",
      "Epoch 66/100\n",
      "892/892 [==============================] - 3s 3ms/step - loss: 0.8138 - accuracy: 0.6546\n",
      "Epoch 67/100\n",
      "892/892 [==============================] - 3s 3ms/step - loss: 0.7912 - accuracy: 0.6630\n",
      "Epoch 68/100\n",
      "892/892 [==============================] - 3s 3ms/step - loss: 0.7915 - accuracy: 0.6657\n",
      "Epoch 69/100\n",
      "892/892 [==============================] - 3s 3ms/step - loss: 0.7712 - accuracy: 0.6763\n",
      "Epoch 70/100\n",
      "892/892 [==============================] - 3s 3ms/step - loss: 0.7657 - accuracy: 0.6782\n",
      "Epoch 71/100\n",
      "892/892 [==============================] - 3s 3ms/step - loss: 0.7583 - accuracy: 0.6800\n",
      "Epoch 72/100\n",
      "892/892 [==============================] - 3s 3ms/step - loss: 0.7433 - accuracy: 0.6892\n",
      "Epoch 73/100\n",
      "892/892 [==============================] - 3s 3ms/step - loss: 0.7292 - accuracy: 0.6933\n",
      "Epoch 74/100\n",
      "892/892 [==============================] - 3s 3ms/step - loss: 0.7199 - accuracy: 0.6957\n",
      "Epoch 75/100\n",
      "892/892 [==============================] - 3s 3ms/step - loss: 0.7032 - accuracy: 0.7077\n",
      "Epoch 76/100\n",
      "892/892 [==============================] - 3s 3ms/step - loss: 0.7036 - accuracy: 0.7090\n",
      "Epoch 77/100\n",
      "892/892 [==============================] - 3s 3ms/step - loss: 0.6890 - accuracy: 0.7141\n",
      "Epoch 78/100\n",
      "892/892 [==============================] - 3s 3ms/step - loss: 0.6762 - accuracy: 0.7185\n",
      "Epoch 79/100\n",
      "892/892 [==============================] - 3s 3ms/step - loss: 0.6776 - accuracy: 0.7185\n",
      "Epoch 80/100\n",
      "892/892 [==============================] - 3s 3ms/step - loss: 0.6602 - accuracy: 0.7278\n",
      "Epoch 81/100\n",
      "892/892 [==============================] - 3s 3ms/step - loss: 0.6547 - accuracy: 0.7282\n",
      "Epoch 82/100\n",
      "892/892 [==============================] - 3s 3ms/step - loss: 0.6384 - accuracy: 0.7383\n",
      "Epoch 83/100\n",
      "892/892 [==============================] - 3s 3ms/step - loss: 0.6353 - accuracy: 0.7391\n",
      "Epoch 84/100\n",
      "892/892 [==============================] - 3s 3ms/step - loss: 0.6392 - accuracy: 0.7389\n",
      "Epoch 85/100\n",
      "892/892 [==============================] - 3s 3ms/step - loss: 0.6146 - accuracy: 0.7479\n",
      "Epoch 86/100\n",
      "892/892 [==============================] - 3s 3ms/step - loss: 0.6146 - accuracy: 0.7502\n",
      "Epoch 87/100\n",
      "892/892 [==============================] - 3s 3ms/step - loss: 0.6012 - accuracy: 0.7539\n",
      "Epoch 88/100\n",
      "892/892 [==============================] - 3s 3ms/step - loss: 0.5863 - accuracy: 0.7616\n",
      "Epoch 89/100\n",
      "892/892 [==============================] - 3s 3ms/step - loss: 0.5844 - accuracy: 0.7603\n",
      "Epoch 90/100\n",
      "892/892 [==============================] - 3s 3ms/step - loss: 0.5731 - accuracy: 0.7675\n",
      "Epoch 91/100\n",
      "892/892 [==============================] - 3s 3ms/step - loss: 0.5772 - accuracy: 0.7657\n",
      "Epoch 92/100\n",
      "892/892 [==============================] - 3s 3ms/step - loss: 0.5644 - accuracy: 0.7713\n",
      "Epoch 93/100\n",
      "892/892 [==============================] - 3s 3ms/step - loss: 0.5544 - accuracy: 0.7749\n",
      "Epoch 94/100\n",
      "892/892 [==============================] - 3s 3ms/step - loss: 0.5572 - accuracy: 0.7733\n",
      "Epoch 95/100\n",
      "892/892 [==============================] - 3s 3ms/step - loss: 0.5390 - accuracy: 0.7838\n",
      "Epoch 96/100\n",
      "892/892 [==============================] - 3s 3ms/step - loss: 0.5440 - accuracy: 0.7802\n",
      "Epoch 97/100\n",
      "892/892 [==============================] - 3s 3ms/step - loss: 0.5328 - accuracy: 0.7832\n",
      "Epoch 98/100\n",
      "892/892 [==============================] - 3s 3ms/step - loss: 0.5150 - accuracy: 0.7925\n",
      "Epoch 99/100\n",
      "892/892 [==============================] - 3s 3ms/step - loss: 0.5287 - accuracy: 0.7875\n",
      "Epoch 100/100\n",
      "892/892 [==============================] - 3s 3ms/step - loss: 0.5236 - accuracy: 0.7925\n"
     ]
    }
   ],
   "source": [
    "nn2 = Sequential([\n",
    "    Dense(512, activation='tanh', input_dim=scale_xTrain.shape[1]),\n",
    "    Dense(256, activation='tanh'),\n",
    "    Dense(128, activation='tanh'),\n",
    "    Dense(64, activation='tanh'),\n",
    "    Dense(4, activation='softmax'),\n",
    "])\n",
    "nn2.compile(optimizer='adam', loss='sparse_categorical_crossentropy', metrics=['accuracy'])\n",
    "\n",
    "history = nn2.fit(scale_xTrain, yTrain, epochs=100, batch_size=32)\n",
    "nn2.save('nn2.h5')"
   ],
   "metadata": {
    "collapsed": false,
    "ExecuteTime": {
     "end_time": "2023-09-08T07:00:02.410636800Z",
     "start_time": "2023-09-08T06:55:16.529140700Z"
    }
   },
   "id": "d1197c7e632a7349"
  },
  {
   "cell_type": "markdown",
   "source": [
    "## NN2 Analysis"
   ],
   "metadata": {
    "collapsed": false
   },
   "id": "9b3e1827e0656235"
  },
  {
   "cell_type": "code",
   "execution_count": 25,
   "outputs": [
    {
     "name": "stdout",
     "output_type": "stream",
     "text": [
      "892/892 [==============================] - 1s 1ms/step\n",
      "Classification Report:\n",
      "              precision    recall  f1-score   support\n",
      "\n",
      "           0       0.82      0.87      0.84      8339\n",
      "           1       0.80      0.78      0.79      5656\n",
      "           2       0.85      0.75      0.79      2904\n",
      "           3       0.84      0.84      0.84     11644\n",
      "\n",
      "    accuracy                           0.83     28543\n",
      "   macro avg       0.83      0.81      0.82     28543\n",
      "weighted avg       0.83      0.83      0.83     28543\n"
     ]
    }
   ],
   "source": [
    "y_pred = nn2.predict(scale_xTrain)\n",
    "y_pred_classes = np.argmax(y_pred, axis=1)\n",
    "print(\"Classification Report:\")\n",
    "print(classification_report(yTrain, y_pred_classes))\n",
    "\n",
    "plt.figure(figsize=(12, 5))\n",
    "\n",
    "plt.subplot(1, 2, 1)\n",
    "plt.plot(history.history['accuracy'], label='Training Accuracy')\n",
    "plt.plot(history.history['val_accuracy'], label='Validation Accuracy')\n",
    "plt.title('Training and Validation Accuracy')\n",
    "plt.xlabel('Epoch')\n",
    "plt.ylabel('Accuracy')\n",
    "plt.legend()\n",
    "\n",
    "plt.subplot(1, 2, 2)\n",
    "plt.plot(history.history['loss'], label='Training Loss')\n",
    "plt.plot(history.history['val_loss'], label='Validation Loss')\n",
    "plt.title('Training and Validation Loss')\n",
    "plt.xlabel('Epoch')\n",
    "plt.ylabel('Loss')\n",
    "plt.legend()\n",
    "\n",
    "plt.tight_layout()\n",
    "plt.show()"
   ],
   "metadata": {
    "collapsed": false,
    "ExecuteTime": {
     "end_time": "2023-09-08T07:00:33.104748200Z",
     "start_time": "2023-09-08T07:00:31.690217200Z"
    }
   },
   "id": "163f5cf589380d1f"
  },
  {
   "cell_type": "markdown",
   "source": [
    "## Random Forest"
   ],
   "metadata": {
    "collapsed": false
   },
   "id": "edf8934a21064391"
  },
  {
   "cell_type": "code",
   "execution_count": 32,
   "outputs": [
    {
     "data": {
      "text/plain": "['RF.joblib']"
     },
     "execution_count": 32,
     "metadata": {},
     "output_type": "execute_result"
    }
   ],
   "source": [
    "RF_model = RandomForestClassifier(n_estimators=200)\n",
    "RF_model.fit(scale_xTrain, yTrain)\n",
    "dump(RF_model, 'RF.joblib')"
   ],
   "metadata": {
    "collapsed": false,
    "ExecuteTime": {
     "end_time": "2023-09-08T07:02:53.116341800Z",
     "start_time": "2023-09-08T07:02:20.217578700Z"
    }
   },
   "id": "7da2abd74be1e500"
  },
  {
   "cell_type": "markdown",
   "source": [
    "## RF Analysis"
   ],
   "metadata": {
    "collapsed": false
   },
   "id": "3fcf4ce30d5ab0be"
  },
  {
   "cell_type": "code",
   "execution_count": 33,
   "outputs": [
    {
     "name": "stdout",
     "output_type": "stream",
     "text": [
      "Classification Report:\n",
      "              precision    recall  f1-score   support\n",
      "\n",
      "           0       0.82      0.87      0.84      8339\n",
      "           1       0.80      0.78      0.79      5656\n",
      "           2       0.85      0.75      0.79      2904\n",
      "           3       0.84      0.84      0.84     11644\n",
      "\n",
      "    accuracy                           0.83     28543\n",
      "   macro avg       0.83      0.81      0.82     28543\n",
      "weighted avg       0.83      0.83      0.83     28543\n"
     ]
    }
   ],
   "source": [
    "y_pred = RF_model.predict(scale_xTest)\n",
    "print(\"Classification Report:\")\n",
    "print(classification_report(yTrain, y_pred_classes))"
   ],
   "metadata": {
    "collapsed": false,
    "ExecuteTime": {
     "end_time": "2023-09-08T07:02:56.790823200Z",
     "start_time": "2023-09-08T07:02:56.492824600Z"
    }
   },
   "id": "9a0d4a3521545ff9"
  }
 ],
 "metadata": {
  "kernelspec": {
   "display_name": "Python 3",
   "language": "python",
   "name": "python3"
  },
  "language_info": {
   "codemirror_mode": {
    "name": "ipython",
    "version": 2
   },
   "file_extension": ".py",
   "mimetype": "text/x-python",
   "name": "python",
   "nbconvert_exporter": "python",
   "pygments_lexer": "ipython2",
   "version": "2.7.6"
  }
 },
 "nbformat": 4,
 "nbformat_minor": 5
}
